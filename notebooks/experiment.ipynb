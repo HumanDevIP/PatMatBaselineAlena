{
  "cells": [
    {
      "cell_type": "code",
      "execution_count": 87,
      "metadata": {},
      "outputs": [],
      "source": [
        "import os\n",
        "import sys"
      ]
    },
    {
      "cell_type": "code",
      "execution_count": 88,
      "metadata": {},
      "outputs": [],
      "source": [
        "def is_colab():\n",
        "    try:\n",
        "        import google.colab\n",
        "        return True\n",
        "    except ImportError:\n",
        "        return False"
      ]
    },
    {
      "cell_type": "code",
      "execution_count": 89,
      "metadata": {
        "colab": {
          "base_uri": "https://localhost:8080/"
        },
        "id": "yqxhuyYhPpAZ",
        "outputId": "4707aba0-016f-4187-ac48-e06534ae49c1"
      },
      "outputs": [],
      "source": [
        "if is_colab():\n",
        "    from google.colab import drive\n",
        "    drive.mount('/content/drive')\n",
        "    \n",
        "    # code required by Colab\n",
        "    %cd /content/drive/MyDrive/PatMatBaselineAlena\n",
        "    \n",
        "    root_dir = '/content/drive/MyDrive/PatMatBaselineAlena'\n",
        "else:\n",
        "    current_dir = os.getcwd()\n",
        "    if current_dir.endswith(\"notebooks\"):\n",
        "        root_dir = '..'\n",
        "        %cd ..\n",
        "    else:\n",
        "        root_dir = '.'"
      ]
    },
    {
      "cell_type": "code",
      "execution_count": 90,
      "metadata": {},
      "outputs": [
        {
          "name": "stdout",
          "output_type": "stream",
          "text": [
            "c:\\Users\\alena\\MyFolder\\DIL\\PatentMatchBaselineAlena\n"
          ]
        }
      ],
      "source": [
        "current_dir = os.getcwd()\n",
        "print(current_dir)"
      ]
    },
    {
      "cell_type": "code",
      "execution_count": 91,
      "metadata": {},
      "outputs": [],
      "source": [
        "# parent_dir = os.path.abspath(os.path.join(os.getcwd(), root_dir))\n",
        "sys.path.append(current_dir)"
      ]
    },
    {
      "cell_type": "code",
      "execution_count": 92,
      "metadata": {
        "colab": {
          "base_uri": "https://localhost:8080/"
        },
        "id": "zwd6ein0kqNe",
        "outputId": "e450f70e-597e-46d1-b7cd-c2280d4808fe"
      },
      "outputs": [
        {
          "name": "stdout",
          "output_type": "stream",
          "text": [
            "Looking in indexes: https://pypi.org/simple, https://download.pytorch.org/whl/cu121"
          ]
        },
        {
          "name": "stderr",
          "output_type": "stream",
          "text": [
            "\n",
            "[notice] A new release of pip is available: 23.2.1 -> 24.0\n",
            "[notice] To update, run: python.exe -m pip install --upgrade pip\n"
          ]
        },
        {
          "name": "stdout",
          "output_type": "stream",
          "text": [
            "\n",
            "Requirement already satisfied: torch==2.3.0+cu121 in c:\\users\\alena\\myfolder\\dil\\patentmatchbaselinealena\\venv\\lib\\site-packages (from -r requirements.txt (line 2)) (2.3.0+cu121)\n",
            "Requirement already satisfied: torchvision in c:\\users\\alena\\myfolder\\dil\\patentmatchbaselinealena\\venv\\lib\\site-packages (from -r requirements.txt (line 3)) (0.18.0+cu121)\n",
            "Requirement already satisfied: torchaudio in c:\\users\\alena\\myfolder\\dil\\patentmatchbaselinealena\\venv\\lib\\site-packages (from -r requirements.txt (line 4)) (2.3.0+cu121)\n",
            "Requirement already satisfied: transformers==4.41.0 in c:\\users\\alena\\myfolder\\dil\\patentmatchbaselinealena\\venv\\lib\\site-packages (from -r requirements.txt (line 5)) (4.41.0)\n",
            "Requirement already satisfied: scikit-learn==1.2.2 in c:\\users\\alena\\myfolder\\dil\\patentmatchbaselinealena\\venv\\lib\\site-packages (from -r requirements.txt (line 6)) (1.2.2)\n",
            "Requirement already satisfied: numpy in c:\\users\\alena\\myfolder\\dil\\patentmatchbaselinealena\\venv\\lib\\site-packages (from -r requirements.txt (line 7)) (1.26.4)\n",
            "Requirement already satisfied: mlflow==2.13.0 in c:\\users\\alena\\myfolder\\dil\\patentmatchbaselinealena\\venv\\lib\\site-packages (from -r requirements.txt (line 8)) (2.13.0)\n",
            "Requirement already satisfied: python-dotenv in c:\\users\\alena\\myfolder\\dil\\patentmatchbaselinealena\\venv\\lib\\site-packages (from -r requirements.txt (line 9)) (1.0.1)\n",
            "Requirement already satisfied: datasets==2.19.1 in c:\\users\\alena\\myfolder\\dil\\patentmatchbaselinealena\\venv\\lib\\site-packages (from -r requirements.txt (line 10)) (2.19.1)\n",
            "Requirement already satisfied: accelerate==0.30.1 in c:\\users\\alena\\myfolder\\dil\\patentmatchbaselinealena\\venv\\lib\\site-packages (from -r requirements.txt (line 11)) (0.30.1)\n",
            "Requirement already satisfied: filelock in c:\\users\\alena\\myfolder\\dil\\patentmatchbaselinealena\\venv\\lib\\site-packages (from torch==2.3.0+cu121->-r requirements.txt (line 2)) (3.14.0)\n",
            "Requirement already satisfied: typing-extensions>=4.8.0 in c:\\users\\alena\\myfolder\\dil\\patentmatchbaselinealena\\venv\\lib\\site-packages (from torch==2.3.0+cu121->-r requirements.txt (line 2)) (4.12.0)\n",
            "Requirement already satisfied: sympy in c:\\users\\alena\\myfolder\\dil\\patentmatchbaselinealena\\venv\\lib\\site-packages (from torch==2.3.0+cu121->-r requirements.txt (line 2)) (1.12)\n",
            "Requirement already satisfied: networkx in c:\\users\\alena\\myfolder\\dil\\patentmatchbaselinealena\\venv\\lib\\site-packages (from torch==2.3.0+cu121->-r requirements.txt (line 2)) (3.3)\n",
            "Requirement already satisfied: jinja2 in c:\\users\\alena\\myfolder\\dil\\patentmatchbaselinealena\\venv\\lib\\site-packages (from torch==2.3.0+cu121->-r requirements.txt (line 2)) (3.1.4)\n",
            "Requirement already satisfied: fsspec in c:\\users\\alena\\myfolder\\dil\\patentmatchbaselinealena\\venv\\lib\\site-packages (from torch==2.3.0+cu121->-r requirements.txt (line 2)) (2024.3.1)\n",
            "Requirement already satisfied: mkl<=2021.4.0,>=2021.1.1 in c:\\users\\alena\\myfolder\\dil\\patentmatchbaselinealena\\venv\\lib\\site-packages (from torch==2.3.0+cu121->-r requirements.txt (line 2)) (2021.4.0)\n",
            "Requirement already satisfied: huggingface-hub<1.0,>=0.23.0 in c:\\users\\alena\\myfolder\\dil\\patentmatchbaselinealena\\venv\\lib\\site-packages (from transformers==4.41.0->-r requirements.txt (line 5)) (0.23.2)\n",
            "Requirement already satisfied: packaging>=20.0 in c:\\users\\alena\\myfolder\\dil\\patentmatchbaselinealena\\venv\\lib\\site-packages (from transformers==4.41.0->-r requirements.txt (line 5)) (24.0)\n",
            "Requirement already satisfied: pyyaml>=5.1 in c:\\users\\alena\\myfolder\\dil\\patentmatchbaselinealena\\venv\\lib\\site-packages (from transformers==4.41.0->-r requirements.txt (line 5)) (6.0.1)\n",
            "Requirement already satisfied: regex!=2019.12.17 in c:\\users\\alena\\myfolder\\dil\\patentmatchbaselinealena\\venv\\lib\\site-packages (from transformers==4.41.0->-r requirements.txt (line 5)) (2024.5.15)\n",
            "Requirement already satisfied: requests in c:\\users\\alena\\myfolder\\dil\\patentmatchbaselinealena\\venv\\lib\\site-packages (from transformers==4.41.0->-r requirements.txt (line 5)) (2.32.2)\n",
            "Requirement already satisfied: tokenizers<0.20,>=0.19 in c:\\users\\alena\\myfolder\\dil\\patentmatchbaselinealena\\venv\\lib\\site-packages (from transformers==4.41.0->-r requirements.txt (line 5)) (0.19.1)\n",
            "Requirement already satisfied: safetensors>=0.4.1 in c:\\users\\alena\\myfolder\\dil\\patentmatchbaselinealena\\venv\\lib\\site-packages (from transformers==4.41.0->-r requirements.txt (line 5)) (0.4.3)\n",
            "Requirement already satisfied: tqdm>=4.27 in c:\\users\\alena\\myfolder\\dil\\patentmatchbaselinealena\\venv\\lib\\site-packages (from transformers==4.41.0->-r requirements.txt (line 5)) (4.66.4)\n",
            "Requirement already satisfied: scipy>=1.3.2 in c:\\users\\alena\\myfolder\\dil\\patentmatchbaselinealena\\venv\\lib\\site-packages (from scikit-learn==1.2.2->-r requirements.txt (line 6)) (1.13.1)\n",
            "Requirement already satisfied: joblib>=1.1.1 in c:\\users\\alena\\myfolder\\dil\\patentmatchbaselinealena\\venv\\lib\\site-packages (from scikit-learn==1.2.2->-r requirements.txt (line 6)) (1.4.2)\n",
            "Requirement already satisfied: threadpoolctl>=2.0.0 in c:\\users\\alena\\myfolder\\dil\\patentmatchbaselinealena\\venv\\lib\\site-packages (from scikit-learn==1.2.2->-r requirements.txt (line 6)) (3.5.0)\n",
            "Requirement already satisfied: Flask<4 in c:\\users\\alena\\myfolder\\dil\\patentmatchbaselinealena\\venv\\lib\\site-packages (from mlflow==2.13.0->-r requirements.txt (line 8)) (3.0.3)\n",
            "Requirement already satisfied: alembic!=1.10.0,<2 in c:\\users\\alena\\myfolder\\dil\\patentmatchbaselinealena\\venv\\lib\\site-packages (from mlflow==2.13.0->-r requirements.txt (line 8)) (1.13.1)\n",
            "Requirement already satisfied: cachetools<6,>=5.0.0 in c:\\users\\alena\\myfolder\\dil\\patentmatchbaselinealena\\venv\\lib\\site-packages (from mlflow==2.13.0->-r requirements.txt (line 8)) (5.3.3)\n",
            "Requirement already satisfied: click<9,>=7.0 in c:\\users\\alena\\myfolder\\dil\\patentmatchbaselinealena\\venv\\lib\\site-packages (from mlflow==2.13.0->-r requirements.txt (line 8)) (8.1.7)\n",
            "Requirement already satisfied: cloudpickle<4 in c:\\users\\alena\\myfolder\\dil\\patentmatchbaselinealena\\venv\\lib\\site-packages (from mlflow==2.13.0->-r requirements.txt (line 8)) (3.0.0)\n",
            "Requirement already satisfied: docker<8,>=4.0.0 in c:\\users\\alena\\myfolder\\dil\\patentmatchbaselinealena\\venv\\lib\\site-packages (from mlflow==2.13.0->-r requirements.txt (line 8)) (7.1.0)\n",
            "Requirement already satisfied: entrypoints<1 in c:\\users\\alena\\myfolder\\dil\\patentmatchbaselinealena\\venv\\lib\\site-packages (from mlflow==2.13.0->-r requirements.txt (line 8)) (0.4)\n",
            "Requirement already satisfied: gitpython<4,>=3.1.9 in c:\\users\\alena\\myfolder\\dil\\patentmatchbaselinealena\\venv\\lib\\site-packages (from mlflow==2.13.0->-r requirements.txt (line 8)) (3.1.43)\n",
            "Requirement already satisfied: graphene<4 in c:\\users\\alena\\myfolder\\dil\\patentmatchbaselinealena\\venv\\lib\\site-packages (from mlflow==2.13.0->-r requirements.txt (line 8)) (3.3)\n",
            "Requirement already satisfied: importlib-metadata!=4.7.0,<8,>=3.7.0 in c:\\users\\alena\\myfolder\\dil\\patentmatchbaselinealena\\venv\\lib\\site-packages (from mlflow==2.13.0->-r requirements.txt (line 8)) (7.0.0)\n",
            "Requirement already satisfied: markdown<4,>=3.3 in c:\\users\\alena\\myfolder\\dil\\patentmatchbaselinealena\\venv\\lib\\site-packages (from mlflow==2.13.0->-r requirements.txt (line 8)) (3.6)\n",
            "Requirement already satisfied: matplotlib<4 in c:\\users\\alena\\myfolder\\dil\\patentmatchbaselinealena\\venv\\lib\\site-packages (from mlflow==2.13.0->-r requirements.txt (line 8)) (3.9.0)\n",
            "Requirement already satisfied: opentelemetry-api<3,>=1.0.0 in c:\\users\\alena\\myfolder\\dil\\patentmatchbaselinealena\\venv\\lib\\site-packages (from mlflow==2.13.0->-r requirements.txt (line 8)) (1.24.0)\n",
            "Requirement already satisfied: opentelemetry-sdk<3,>=1.0.0 in c:\\users\\alena\\myfolder\\dil\\patentmatchbaselinealena\\venv\\lib\\site-packages (from mlflow==2.13.0->-r requirements.txt (line 8)) (1.24.0)\n",
            "Requirement already satisfied: pandas<3 in c:\\users\\alena\\myfolder\\dil\\patentmatchbaselinealena\\venv\\lib\\site-packages (from mlflow==2.13.0->-r requirements.txt (line 8)) (2.2.2)\n",
            "Requirement already satisfied: protobuf<5,>=3.12.0 in c:\\users\\alena\\myfolder\\dil\\patentmatchbaselinealena\\venv\\lib\\site-packages (from mlflow==2.13.0->-r requirements.txt (line 8)) (4.25.3)\n",
            "Requirement already satisfied: pyarrow<16,>=4.0.0 in c:\\users\\alena\\myfolder\\dil\\patentmatchbaselinealena\\venv\\lib\\site-packages (from mlflow==2.13.0->-r requirements.txt (line 8)) (15.0.2)\n",
            "Requirement already satisfied: pytz<2025 in c:\\users\\alena\\myfolder\\dil\\patentmatchbaselinealena\\venv\\lib\\site-packages (from mlflow==2.13.0->-r requirements.txt (line 8)) (2024.1)\n",
            "Requirement already satisfied: querystring-parser<2 in c:\\users\\alena\\myfolder\\dil\\patentmatchbaselinealena\\venv\\lib\\site-packages (from mlflow==2.13.0->-r requirements.txt (line 8)) (1.2.4)\n",
            "Requirement already satisfied: sqlalchemy<3,>=1.4.0 in c:\\users\\alena\\myfolder\\dil\\patentmatchbaselinealena\\venv\\lib\\site-packages (from mlflow==2.13.0->-r requirements.txt (line 8)) (2.0.30)\n",
            "Requirement already satisfied: sqlparse<1,>=0.4.0 in c:\\users\\alena\\myfolder\\dil\\patentmatchbaselinealena\\venv\\lib\\site-packages (from mlflow==2.13.0->-r requirements.txt (line 8)) (0.5.0)\n",
            "Requirement already satisfied: waitress<4 in c:\\users\\alena\\myfolder\\dil\\patentmatchbaselinealena\\venv\\lib\\site-packages (from mlflow==2.13.0->-r requirements.txt (line 8)) (3.0.0)\n",
            "Requirement already satisfied: pyarrow-hotfix in c:\\users\\alena\\myfolder\\dil\\patentmatchbaselinealena\\venv\\lib\\site-packages (from datasets==2.19.1->-r requirements.txt (line 10)) (0.6)\n",
            "Requirement already satisfied: dill<0.3.9,>=0.3.0 in c:\\users\\alena\\myfolder\\dil\\patentmatchbaselinealena\\venv\\lib\\site-packages (from datasets==2.19.1->-r requirements.txt (line 10)) (0.3.8)\n",
            "Requirement already satisfied: xxhash in c:\\users\\alena\\myfolder\\dil\\patentmatchbaselinealena\\venv\\lib\\site-packages (from datasets==2.19.1->-r requirements.txt (line 10)) (3.4.1)\n",
            "Requirement already satisfied: multiprocess in c:\\users\\alena\\myfolder\\dil\\patentmatchbaselinealena\\venv\\lib\\site-packages (from datasets==2.19.1->-r requirements.txt (line 10)) (0.70.16)\n",
            "Requirement already satisfied: aiohttp in c:\\users\\alena\\myfolder\\dil\\patentmatchbaselinealena\\venv\\lib\\site-packages (from datasets==2.19.1->-r requirements.txt (line 10)) (3.9.5)\n",
            "Requirement already satisfied: psutil in c:\\users\\alena\\myfolder\\dil\\patentmatchbaselinealena\\venv\\lib\\site-packages (from accelerate==0.30.1->-r requirements.txt (line 11)) (5.9.8)\n",
            "Requirement already satisfied: pillow!=8.3.*,>=5.3.0 in c:\\users\\alena\\myfolder\\dil\\patentmatchbaselinealena\\venv\\lib\\site-packages (from torchvision->-r requirements.txt (line 3)) (10.3.0)\n",
            "Requirement already satisfied: Mako in c:\\users\\alena\\myfolder\\dil\\patentmatchbaselinealena\\venv\\lib\\site-packages (from alembic!=1.10.0,<2->mlflow==2.13.0->-r requirements.txt (line 8)) (1.3.5)\n",
            "Requirement already satisfied: colorama in c:\\users\\alena\\myfolder\\dil\\patentmatchbaselinealena\\venv\\lib\\site-packages (from click<9,>=7.0->mlflow==2.13.0->-r requirements.txt (line 8)) (0.4.6)\n",
            "Requirement already satisfied: pywin32>=304 in c:\\users\\alena\\myfolder\\dil\\patentmatchbaselinealena\\venv\\lib\\site-packages (from docker<8,>=4.0.0->mlflow==2.13.0->-r requirements.txt (line 8)) (306)\n",
            "Requirement already satisfied: urllib3>=1.26.0 in c:\\users\\alena\\myfolder\\dil\\patentmatchbaselinealena\\venv\\lib\\site-packages (from docker<8,>=4.0.0->mlflow==2.13.0->-r requirements.txt (line 8)) (2.2.1)\n",
            "Requirement already satisfied: Werkzeug>=3.0.0 in c:\\users\\alena\\myfolder\\dil\\patentmatchbaselinealena\\venv\\lib\\site-packages (from Flask<4->mlflow==2.13.0->-r requirements.txt (line 8)) (3.0.3)\n",
            "Requirement already satisfied: itsdangerous>=2.1.2 in c:\\users\\alena\\myfolder\\dil\\patentmatchbaselinealena\\venv\\lib\\site-packages (from Flask<4->mlflow==2.13.0->-r requirements.txt (line 8)) (2.2.0)\n",
            "Requirement already satisfied: blinker>=1.6.2 in c:\\users\\alena\\myfolder\\dil\\patentmatchbaselinealena\\venv\\lib\\site-packages (from Flask<4->mlflow==2.13.0->-r requirements.txt (line 8)) (1.8.2)\n",
            "Requirement already satisfied: aiosignal>=1.1.2 in c:\\users\\alena\\myfolder\\dil\\patentmatchbaselinealena\\venv\\lib\\site-packages (from aiohttp->datasets==2.19.1->-r requirements.txt (line 10)) (1.3.1)\n",
            "Requirement already satisfied: attrs>=17.3.0 in c:\\users\\alena\\myfolder\\dil\\patentmatchbaselinealena\\venv\\lib\\site-packages (from aiohttp->datasets==2.19.1->-r requirements.txt (line 10)) (23.2.0)\n",
            "Requirement already satisfied: frozenlist>=1.1.1 in c:\\users\\alena\\myfolder\\dil\\patentmatchbaselinealena\\venv\\lib\\site-packages (from aiohttp->datasets==2.19.1->-r requirements.txt (line 10)) (1.4.1)\n",
            "Requirement already satisfied: multidict<7.0,>=4.5 in c:\\users\\alena\\myfolder\\dil\\patentmatchbaselinealena\\venv\\lib\\site-packages (from aiohttp->datasets==2.19.1->-r requirements.txt (line 10)) (6.0.5)\n",
            "Requirement already satisfied: yarl<2.0,>=1.0 in c:\\users\\alena\\myfolder\\dil\\patentmatchbaselinealena\\venv\\lib\\site-packages (from aiohttp->datasets==2.19.1->-r requirements.txt (line 10)) (1.9.4)\n",
            "Requirement already satisfied: gitdb<5,>=4.0.1 in c:\\users\\alena\\myfolder\\dil\\patentmatchbaselinealena\\venv\\lib\\site-packages (from gitpython<4,>=3.1.9->mlflow==2.13.0->-r requirements.txt (line 8)) (4.0.11)\n",
            "Requirement already satisfied: graphql-core<3.3,>=3.1 in c:\\users\\alena\\myfolder\\dil\\patentmatchbaselinealena\\venv\\lib\\site-packages (from graphene<4->mlflow==2.13.0->-r requirements.txt (line 8)) (3.2.3)\n",
            "Requirement already satisfied: graphql-relay<3.3,>=3.1 in c:\\users\\alena\\myfolder\\dil\\patentmatchbaselinealena\\venv\\lib\\site-packages (from graphene<4->mlflow==2.13.0->-r requirements.txt (line 8)) (3.2.0)\n",
            "Requirement already satisfied: aniso8601<10,>=8 in c:\\users\\alena\\myfolder\\dil\\patentmatchbaselinealena\\venv\\lib\\site-packages (from graphene<4->mlflow==2.13.0->-r requirements.txt (line 8)) (9.0.1)\n",
            "Requirement already satisfied: zipp>=0.5 in c:\\users\\alena\\myfolder\\dil\\patentmatchbaselinealena\\venv\\lib\\site-packages (from importlib-metadata!=4.7.0,<8,>=3.7.0->mlflow==2.13.0->-r requirements.txt (line 8)) (3.19.0)\n",
            "Requirement already satisfied: MarkupSafe>=2.0 in c:\\users\\alena\\myfolder\\dil\\patentmatchbaselinealena\\venv\\lib\\site-packages (from jinja2->torch==2.3.0+cu121->-r requirements.txt (line 2)) (2.1.5)\n",
            "Requirement already satisfied: contourpy>=1.0.1 in c:\\users\\alena\\myfolder\\dil\\patentmatchbaselinealena\\venv\\lib\\site-packages (from matplotlib<4->mlflow==2.13.0->-r requirements.txt (line 8)) (1.2.1)\n",
            "Requirement already satisfied: cycler>=0.10 in c:\\users\\alena\\myfolder\\dil\\patentmatchbaselinealena\\venv\\lib\\site-packages (from matplotlib<4->mlflow==2.13.0->-r requirements.txt (line 8)) (0.12.1)\n",
            "Requirement already satisfied: fonttools>=4.22.0 in c:\\users\\alena\\myfolder\\dil\\patentmatchbaselinealena\\venv\\lib\\site-packages (from matplotlib<4->mlflow==2.13.0->-r requirements.txt (line 8)) (4.52.4)\n",
            "Requirement already satisfied: kiwisolver>=1.3.1 in c:\\users\\alena\\myfolder\\dil\\patentmatchbaselinealena\\venv\\lib\\site-packages (from matplotlib<4->mlflow==2.13.0->-r requirements.txt (line 8)) (1.4.5)\n",
            "Requirement already satisfied: pyparsing>=2.3.1 in c:\\users\\alena\\myfolder\\dil\\patentmatchbaselinealena\\venv\\lib\\site-packages (from matplotlib<4->mlflow==2.13.0->-r requirements.txt (line 8)) (3.1.2)\n",
            "Requirement already satisfied: python-dateutil>=2.7 in c:\\users\\alena\\myfolder\\dil\\patentmatchbaselinealena\\venv\\lib\\site-packages (from matplotlib<4->mlflow==2.13.0->-r requirements.txt (line 8)) (2.9.0.post0)\n",
            "Requirement already satisfied: intel-openmp==2021.* in c:\\users\\alena\\myfolder\\dil\\patentmatchbaselinealena\\venv\\lib\\site-packages (from mkl<=2021.4.0,>=2021.1.1->torch==2.3.0+cu121->-r requirements.txt (line 2)) (2021.4.0)\n",
            "Requirement already satisfied: tbb==2021.* in c:\\users\\alena\\myfolder\\dil\\patentmatchbaselinealena\\venv\\lib\\site-packages (from mkl<=2021.4.0,>=2021.1.1->torch==2.3.0+cu121->-r requirements.txt (line 2)) (2021.12.0)\n",
            "Requirement already satisfied: deprecated>=1.2.6 in c:\\users\\alena\\myfolder\\dil\\patentmatchbaselinealena\\venv\\lib\\site-packages (from opentelemetry-api<3,>=1.0.0->mlflow==2.13.0->-r requirements.txt (line 8)) (1.2.14)\n",
            "Requirement already satisfied: opentelemetry-semantic-conventions==0.45b0 in c:\\users\\alena\\myfolder\\dil\\patentmatchbaselinealena\\venv\\lib\\site-packages (from opentelemetry-sdk<3,>=1.0.0->mlflow==2.13.0->-r requirements.txt (line 8)) (0.45b0)\n",
            "Requirement already satisfied: tzdata>=2022.7 in c:\\users\\alena\\myfolder\\dil\\patentmatchbaselinealena\\venv\\lib\\site-packages (from pandas<3->mlflow==2.13.0->-r requirements.txt (line 8)) (2024.1)\n",
            "Requirement already satisfied: six in c:\\users\\alena\\myfolder\\dil\\patentmatchbaselinealena\\venv\\lib\\site-packages (from querystring-parser<2->mlflow==2.13.0->-r requirements.txt (line 8)) (1.16.0)\n",
            "Requirement already satisfied: charset-normalizer<4,>=2 in c:\\users\\alena\\myfolder\\dil\\patentmatchbaselinealena\\venv\\lib\\site-packages (from requests->transformers==4.41.0->-r requirements.txt (line 5)) (3.3.2)\n",
            "Requirement already satisfied: idna<4,>=2.5 in c:\\users\\alena\\myfolder\\dil\\patentmatchbaselinealena\\venv\\lib\\site-packages (from requests->transformers==4.41.0->-r requirements.txt (line 5)) (3.7)\n",
            "Requirement already satisfied: certifi>=2017.4.17 in c:\\users\\alena\\myfolder\\dil\\patentmatchbaselinealena\\venv\\lib\\site-packages (from requests->transformers==4.41.0->-r requirements.txt (line 5)) (2024.2.2)\n",
            "Requirement already satisfied: greenlet!=0.4.17 in c:\\users\\alena\\myfolder\\dil\\patentmatchbaselinealena\\venv\\lib\\site-packages (from sqlalchemy<3,>=1.4.0->mlflow==2.13.0->-r requirements.txt (line 8)) (3.0.3)\n",
            "Requirement already satisfied: mpmath>=0.19 in c:\\users\\alena\\myfolder\\dil\\patentmatchbaselinealena\\venv\\lib\\site-packages (from sympy->torch==2.3.0+cu121->-r requirements.txt (line 2)) (1.3.0)\n",
            "Requirement already satisfied: wrapt<2,>=1.10 in c:\\users\\alena\\myfolder\\dil\\patentmatchbaselinealena\\venv\\lib\\site-packages (from deprecated>=1.2.6->opentelemetry-api<3,>=1.0.0->mlflow==2.13.0->-r requirements.txt (line 8)) (1.16.0)\n",
            "Requirement already satisfied: smmap<6,>=3.0.1 in c:\\users\\alena\\myfolder\\dil\\patentmatchbaselinealena\\venv\\lib\\site-packages (from gitdb<5,>=4.0.1->gitpython<4,>=3.1.9->mlflow==2.13.0->-r requirements.txt (line 8)) (5.0.1)\n"
          ]
        }
      ],
      "source": [
        "# install requirements\n",
        "!pip install -r requirements.txt"
      ]
    },
    {
      "cell_type": "code",
      "execution_count": 93,
      "metadata": {
        "id": "EN_w15otVkuJ"
      },
      "outputs": [],
      "source": [
        "import json\n",
        "import torch\n",
        "from transformers import BertTokenizer, BertForSequenceClassification\n",
        "from torch.utils.data import DataLoader, TensorDataset\n",
        "from transformers import AdamW\n",
        "from sklearn.metrics import accuracy_score, confusion_matrix, f1_score, precision_score, recall_score, matthews_corrcoef, roc_auc_score, average_precision_score, log_loss\n",
        "import numpy as np\n",
        "import numpy as np\n",
        "from datetime import datetime\n",
        "import mlflow"
      ]
    },
    {
      "cell_type": "code",
      "execution_count": 94,
      "metadata": {
        "id": "Bq0bO91nhq4d"
      },
      "outputs": [],
      "source": [
        "# # this code uploads the credentials to MLflow given in the .env file\n",
        "from src.settings import (\n",
        "    MLFLOW_TRACKING_URI,\n",
        "    MLFLOW_TRACKING_USERNAME,\n",
        "    MLFLOW_TRACKING_PASSWORD\n",
        ")"
      ]
    },
    {
      "cell_type": "code",
      "execution_count": 95,
      "metadata": {},
      "outputs": [
        {
          "name": "stdout",
          "output_type": "stream",
          "text": [
            "Alena\n"
          ]
        }
      ],
      "source": [
        "print(MLFLOW_TRACKING_USERNAME)"
      ]
    },
    {
      "cell_type": "code",
      "execution_count": 96,
      "metadata": {
        "id": "wycUH2L0Vokl"
      },
      "outputs": [],
      "source": [
        "# Check if GPU is available and set the device\n",
        "device = torch.device(\"cuda\" if torch.cuda.is_available() else \"cpu\")"
      ]
    },
    {
      "cell_type": "code",
      "execution_count": 97,
      "metadata": {
        "colab": {
          "base_uri": "https://localhost:8080/"
        },
        "id": "CPXHC_jwOawA",
        "outputId": "d4fcf9d1-4689-48d8-bf72-a0f41ddd71a9"
      },
      "outputs": [
        {
          "data": {
            "text/plain": [
              "device(type='cpu')"
            ]
          },
          "execution_count": 97,
          "metadata": {},
          "output_type": "execute_result"
        }
      ],
      "source": [
        "device"
      ]
    },
    {
      "cell_type": "code",
      "execution_count": 98,
      "metadata": {
        "colab": {
          "base_uri": "https://localhost:8080/",
          "height": 304,
          "referenced_widgets": [
            "9ee5cfc2056143e4a045e5c47c1f8d6e",
            "d252b9c35509497ca0bdee4af24ae6dd",
            "adf7fdc7a8644ac99b9a5c3a853823d5",
            "88140679125a4350a347eeb26458fa3d",
            "801cced5dae14c95bc81198ee1cf667a",
            "e7fc56c627cf4c8eb2e62086edafaf5c",
            "8a46887c18654709bf3e02817d246961",
            "6c4b3d29d496441d99d107dd56288ec4",
            "a473d77ac3ed4f3586ebd83a36234339",
            "e778c13cf3f44b17aacba56030af76b2",
            "b624da9078fc4bf2b33f9316b1cf30bf",
            "05d8a0fc37094f03810e0facaae59397",
            "9bf86c52e13f4709a2ec8044c1f8d668",
            "38fcbf0aca6444d881450c51d5350f79",
            "a0bd2784a92444558c9ecc22d68caf58",
            "2bd2550a962541b5b623088f28c93e82",
            "4115944df36a4c0fa4051aafcf045b95",
            "3b4159719c09418589666e32fb90620a",
            "8d2ea38501624e778e3cb832fed28a67",
            "051d937161ba4d6289f43925b287fcb1",
            "c3889fcd613540639e010a7ec98634e7",
            "884318927374487ab778d58965d51029",
            "4a1e74884d194748b0ef2879b8c26820",
            "687fdd4c640f4d94a0a6d1df27f6258e",
            "f519fa25f6dd47e6b68f27e91dde698e",
            "f7131dbc338c403e8fdc5db929aa2bd7",
            "6b9d63a3a94c4bbaa128968264117169",
            "f4cdbf4bf6ed48af9226e61ffed174da",
            "194fa31a57534ae8b2801b6dd2ffc9ac",
            "5e966657890f42d59d8f9a177e505f92",
            "1a6ab2a4ee84419fbb365e6d65d97dc0",
            "b84e403f522d4d029d31613880689160",
            "4d81dd23b8bf42728e7684cf1863b6ac",
            "0c6680a55c6b459c95dc880c2479746c",
            "e301e3c52dd249b0a45de6963bf284ff",
            "ae5b175ab4e14c5d913db561ed0620f9",
            "6237b386631240a48448cfdf01eee807",
            "77b8e481332a44d1ac993f4e5b09af03",
            "89c3d6e440e144d694ef500a033ee480",
            "6d0952bdf189401cbf027370bef57fae",
            "08d4bcc1848243868bdc1994695dccff",
            "51d0b593cd1140f8895e11f7d86eaa98",
            "5da3b32cd1e14d72956015b39ad4eeb8",
            "d1ed7378e69a40fe97a05e912e6339c5"
          ]
        },
        "id": "KQeXFvZDSFdC",
        "outputId": "a51b3252-c843-448e-b1f2-f4b78e4fb438"
      },
      "outputs": [],
      "source": [
        "# Load the tokenizer\n",
        "tokenizer = BertTokenizer.from_pretrained('bert-base-uncased')"
      ]
    },
    {
      "cell_type": "code",
      "execution_count": 99,
      "metadata": {
        "colab": {
          "base_uri": "https://localhost:8080/",
          "height": 104,
          "referenced_widgets": [
            "b0853496f1714526a62f335912d2845d",
            "1db8b2a31ae14554a95c5d32d4fcbef0",
            "0bce65072806457e8beea3cba7a5462b",
            "d786c75d26fc4883a73f3de4862e0e40",
            "93b290c200cb45f6a5688c3cd1789e0d",
            "b81212932503419ca0bd881d4fd3d82b",
            "0c8e0b932d4f4bfeb3aeaec2fba19f73",
            "b77ee3d20b134990b7f7fc6b9017f530",
            "c6fd28c3b17b4651a18869ec4a8d7513",
            "3fecfebc25784e21ab17e5e78c9c29fd",
            "a8e7be021d10475c900da256c70c4d0d"
          ]
        },
        "id": "MhsiOnVkVvOf",
        "outputId": "e06a7ec1-720d-42af-95ed-f4610a372428"
      },
      "outputs": [
        {
          "name": "stderr",
          "output_type": "stream",
          "text": [
            "Some weights of BertForSequenceClassification were not initialized from the model checkpoint at bert-base-uncased and are newly initialized: ['classifier.bias', 'classifier.weight']\n",
            "You should probably TRAIN this model on a down-stream task to be able to use it for predictions and inference.\n"
          ]
        }
      ],
      "source": [
        "# Load the pre-trained BERT model for sequence classification\n",
        "model = BertForSequenceClassification.from_pretrained('bert-base-uncased', num_labels=2)"
      ]
    },
    {
      "cell_type": "code",
      "execution_count": 100,
      "metadata": {
        "colab": {
          "base_uri": "https://localhost:8080/"
        },
        "id": "Cin8Nmy0Siys",
        "outputId": "cdb66d47-3815-4384-cb9d-db76719ee6c5"
      },
      "outputs": [
        {
          "data": {
            "text/plain": [
              "BertForSequenceClassification(\n",
              "  (bert): BertModel(\n",
              "    (embeddings): BertEmbeddings(\n",
              "      (word_embeddings): Embedding(30522, 768, padding_idx=0)\n",
              "      (position_embeddings): Embedding(512, 768)\n",
              "      (token_type_embeddings): Embedding(2, 768)\n",
              "      (LayerNorm): LayerNorm((768,), eps=1e-12, elementwise_affine=True)\n",
              "      (dropout): Dropout(p=0.1, inplace=False)\n",
              "    )\n",
              "    (encoder): BertEncoder(\n",
              "      (layer): ModuleList(\n",
              "        (0-11): 12 x BertLayer(\n",
              "          (attention): BertAttention(\n",
              "            (self): BertSdpaSelfAttention(\n",
              "              (query): Linear(in_features=768, out_features=768, bias=True)\n",
              "              (key): Linear(in_features=768, out_features=768, bias=True)\n",
              "              (value): Linear(in_features=768, out_features=768, bias=True)\n",
              "              (dropout): Dropout(p=0.1, inplace=False)\n",
              "            )\n",
              "            (output): BertSelfOutput(\n",
              "              (dense): Linear(in_features=768, out_features=768, bias=True)\n",
              "              (LayerNorm): LayerNorm((768,), eps=1e-12, elementwise_affine=True)\n",
              "              (dropout): Dropout(p=0.1, inplace=False)\n",
              "            )\n",
              "          )\n",
              "          (intermediate): BertIntermediate(\n",
              "            (dense): Linear(in_features=768, out_features=3072, bias=True)\n",
              "            (intermediate_act_fn): GELUActivation()\n",
              "          )\n",
              "          (output): BertOutput(\n",
              "            (dense): Linear(in_features=3072, out_features=768, bias=True)\n",
              "            (LayerNorm): LayerNorm((768,), eps=1e-12, elementwise_affine=True)\n",
              "            (dropout): Dropout(p=0.1, inplace=False)\n",
              "          )\n",
              "        )\n",
              "      )\n",
              "    )\n",
              "    (pooler): BertPooler(\n",
              "      (dense): Linear(in_features=768, out_features=768, bias=True)\n",
              "      (activation): Tanh()\n",
              "    )\n",
              "  )\n",
              "  (dropout): Dropout(p=0.1, inplace=False)\n",
              "  (classifier): Linear(in_features=768, out_features=2, bias=True)\n",
              ")"
            ]
          },
          "execution_count": 100,
          "metadata": {},
          "output_type": "execute_result"
        }
      ],
      "source": [
        "# Move the model to the proper device\n",
        "model.to(device)"
      ]
    },
    {
      "cell_type": "code",
      "execution_count": 101,
      "metadata": {
        "id": "qKfcOZM9Wduw"
      },
      "outputs": [],
      "source": [
        "def load_jsonl(filename):\n",
        "    data = []\n",
        "    with open(filename, 'r') as f:\n",
        "        for line in f:\n",
        "            data.append(json.loads(line))\n",
        "    return data\n",
        "\n",
        "train_data = load_jsonl('data/train_v2.jsonl')\n",
        "validation_data = load_jsonl('data/test_v2.jsonl')\n",
        "\n",
        "# Prepare the texts and labels\n",
        "train_texts = [(item['text'], item['text_b']) for item in train_data]\n",
        "train_labels = [item['label'] for item in train_data]\n",
        "validation_texts = [(item['text'], item['text_b']) for item in validation_data]\n",
        "validation_labels = [item['label'] for item in validation_data]"
      ]
    },
    {
      "cell_type": "code",
      "execution_count": 102,
      "metadata": {
        "colab": {
          "base_uri": "https://localhost:8080/"
        },
        "id": "ixDq07t0fwAr",
        "outputId": "8bfab629-68a5-480e-b93e-b9b2b75fc3b9"
      },
      "outputs": [
        {
          "data": {
            "text/plain": [
              "(2920, 2920, 730, 730)"
            ]
          },
          "execution_count": 102,
          "metadata": {},
          "output_type": "execute_result"
        }
      ],
      "source": [
        "len(train_texts), len(train_labels), len(validation_texts), len(validation_labels)"
      ]
    },
    {
      "cell_type": "code",
      "execution_count": 74,
      "metadata": {
        "id": "TJjzfcB-9deF"
      },
      "outputs": [],
      "source": [
        "# If you don't have a GPU, limit the amount of data\n",
        "if device.type == 'cpu':\n",
        "    train_texts = train_texts[:10]\n",
        "    train_labels = train_labels[:10]\n",
        "    validation_texts = validation_texts[:10]\n",
        "    validation_labels = validation_labels[:10]"
      ]
    },
    {
      "cell_type": "code",
      "execution_count": 119,
      "metadata": {},
      "outputs": [
        {
          "name": "stdout",
          "output_type": "stream",
          "text": [
            "The length at which 95% of the texts fit is: 323.0499999999997\n"
          ]
        },
        {
          "data": {
            "image/png": "[encoded data removed]",
            "text/plain": [
              "<Figure size 640x480 with 1 Axes>"
            ]
          },
          "metadata": {},
          "output_type": "display_data"
        }
      ],
      "source": [
        "doc_lengths = [len((item[0] + \" \" + item[1]).split()) for item in train_texts]\n",
        "\n",
        "sorted_lengths = np.sort(doc_lengths)\n",
        "\n",
        "percentile_95_length = np.percentile(sorted_lengths, 95)\n",
        "print(f\"The length at which 95% of the texts fit is: {percentile_95_length}\")\n",
        "\n",
        "# Visualize the distribution of the lengths of the combined texts\n",
        "plt.hist(doc_lengths, bins=100)\n",
        "plt.axvline(percentile_95_length, color='r', linestyle='dashed', linewidth=1)\n",
        "plt.title('Distribution of Combined Text Lengths')\n",
        "plt.xlabel('Length (number of words)')\n",
        "plt.ylabel('Frequency')\n",
        "plt.show()"
      ]
    },
    {
      "cell_type": "code",
      "execution_count": 123,
      "metadata": {},
      "outputs": [
        {
          "name": "stdout",
          "output_type": "stream",
          "text": [
            "The percentage of combined texts below 384 words (roughly 512 tokens) is: 97.77%\n"
          ]
        }
      ],
      "source": [
        "num_texts_below_given_length = np.sum(sorted_lengths <= 384)\n",
        "\n",
        "# Calculate the percentage\n",
        "percentage_texts_below_given_length = (num_texts_below_given_length / len(sorted_lengths)) * 100\n",
        "\n",
        "print(f\"The percentage of combined texts below 384 words (roughly 512 tokens) is: {percentage_texts_below_given_length:.2f}%\")"
      ]
    },
    {
      "cell_type": "code",
      "execution_count": 75,
      "metadata": {
        "id": "djQG6qeN9spm"
      },
      "outputs": [],
      "source": [
        "config = {\n",
        "    'learning_rate': 2e-5,\n",
        "    'batch_size': 32,\n",
        "    'num_epochs': 7,\n",
        "    'max_length': 512,\n",
        "    'test_size': 0.2,\n",
        "    'random_state': 42,\n",
        "}"
      ]
    },
    {
      "cell_type": "code",
      "execution_count": 77,
      "metadata": {
        "colab": {
          "base_uri": "https://localhost:8080/"
        },
        "id": "BRqHCXhzW9k8",
        "outputId": "14600ab4-746e-4663-91ac-02a296ba3e80"
      },
      "outputs": [],
      "source": [
        "train_encodings = tokenizer(train_texts, padding=True, truncation=True, return_tensors=\"pt\", max_length=config['max_length'])\n",
        "validation_encodings = tokenizer(validation_texts, padding=True, truncation=True, return_tensors=\"pt\", max_length=config['max_length'])\n",
        "\n",
        "train_input_ids = train_encodings['input_ids']\n",
        "train_attention_mask = train_encodings['attention_mask']\n",
        "validation_input_ids = validation_encodings['input_ids']\n",
        "validation_attention_mask = validation_encodings['attention_mask']\n",
        "\n",
        "# Convert labels to tensors\n",
        "train_labels = torch.tensor(train_labels, dtype=torch.long)\n",
        "validation_labels = torch.tensor(validation_labels, dtype=torch.long)"
      ]
    },
    {
      "cell_type": "code",
      "execution_count": 80,
      "metadata": {},
      "outputs": [
        {
          "name": "stdout",
          "output_type": "stream",
          "text": [
            "[CLS] the method of claim 11 wherein the at least one heat source 30 extends from the at least one turbine component support platform 20. [SEP] the impingement hole patterns in the two baffles are preferably configured to distribute more of the available coolant 12 in each of the vanes to the inboard sidewalls 28 34 then to the corresponding outboard sidewalls 30 32. in this way the impingement baffles cooperate with the sidewall outlets 44 46 48 described above to collectively effect the desired different cooling configurations of the two vanes for preferentially cooling the inboard sidewalls thereof for the benefits previously disclosed. [SEP] [PAD] [PAD] [PAD] [PAD] [PAD] [PAD] [PAD] [PAD] [PAD] [PAD] [PAD] [PAD] [PAD] [PAD] [PAD] [PAD] [PAD] [PAD] [PAD] [PAD] [PAD] [PAD] [PAD] [PAD] [PAD] [PAD] [PAD] [PAD] [PAD] [PAD] [PAD] [PAD] [PAD] [PAD] [PAD] [PAD] [PAD] [PAD] [PAD] [PAD] [PAD] [PAD] [PAD] [PAD] [PAD] [PAD] [PAD] [PAD] [PAD] [PAD] [PAD] [PAD] [PAD] [PAD] [PAD] [PAD] [PAD] [PAD] [PAD] [PAD] [PAD] [PAD] [PAD] [PAD] [PAD] [PAD] [PAD] [PAD] [PAD] [PAD] [PAD] [PAD] [PAD] [PAD] [PAD] [PAD] [PAD] [PAD] [PAD] [PAD] [PAD] [PAD] [PAD] [PAD] [PAD] [PAD] [PAD] [PAD] [PAD] [PAD] [PAD] [PAD] [PAD] [PAD] [PAD] [PAD] [PAD] [PAD] [PAD] [PAD] [PAD] [PAD] [PAD] [PAD] [PAD] [PAD] [PAD] [PAD] [PAD] [PAD] [PAD] [PAD] [PAD] [PAD] [PAD] [PAD] [PAD] [PAD] [PAD] [PAD] [PAD] [PAD] [PAD] [PAD] [PAD] [PAD] [PAD] [PAD] [PAD] [PAD] [PAD] [PAD] [PAD] [PAD] [PAD] [PAD] [PAD] [PAD] [PAD]\n"
          ]
        }
      ],
      "source": [
        "decoded = tokenizer.decode(train_encodings[\"input_ids\"][3])\n",
        "print(decoded)"
      ]
    },
    {
      "cell_type": "code",
      "execution_count": 21,
      "metadata": {
        "colab": {
          "base_uri": "https://localhost:8080/"
        },
        "id": "Uu3594sXXrBP",
        "outputId": "c608dfcb-7912-4003-a044-efe89009e14a"
      },
      "outputs": [
        {
          "data": {
            "text/plain": [
              "(torch.Size([10, 271]),\n",
              " torch.Size([10, 271]),\n",
              " torch.Size([10, 268]),\n",
              " torch.Size([10, 268]))"
            ]
          },
          "execution_count": 21,
          "metadata": {},
          "output_type": "execute_result"
        }
      ],
      "source": [
        "train_input_ids.shape, train_attention_mask.shape, validation_input_ids.shape, validation_attention_mask.shape"
      ]
    },
    {
      "cell_type": "code",
      "execution_count": 22,
      "metadata": {
        "colab": {
          "base_uri": "https://localhost:8080/"
        },
        "id": "ujI85aJTflSe",
        "outputId": "07000340-2612-4c2d-ee36-861f6e31ddcd"
      },
      "outputs": [
        {
          "data": {
            "text/plain": [
              "(torch.Size([10]), torch.Size([10]))"
            ]
          },
          "execution_count": 22,
          "metadata": {},
          "output_type": "execute_result"
        }
      ],
      "source": [
        "train_labels.shape, validation_labels.shape"
      ]
    },
    {
      "cell_type": "code",
      "execution_count": 23,
      "metadata": {
        "id": "YHnEqV-jgjxe"
      },
      "outputs": [],
      "source": [
        "train_data = TensorDataset(train_input_ids, train_attention_mask, train_labels)\n",
        "validation_data = TensorDataset(validation_input_ids, validation_attention_mask, validation_labels)"
      ]
    },
    {
      "cell_type": "code",
      "execution_count": 24,
      "metadata": {
        "colab": {
          "base_uri": "https://localhost:8080/"
        },
        "id": "Ijjl-kKSvpJw",
        "outputId": "a4e61485-8a4f-4ae1-af82-94f6c5a3d339"
      },
      "outputs": [
        {
          "data": {
            "text/plain": [
              "(torch.Size([10, 271]), torch.Size([10, 271]), torch.Size([10]))"
            ]
          },
          "execution_count": 24,
          "metadata": {},
          "output_type": "execute_result"
        }
      ],
      "source": [
        "train_data.tensors[0].shape, train_data.tensors[1].shape, train_data.tensors[2].shape"
      ]
    },
    {
      "cell_type": "code",
      "execution_count": 25,
      "metadata": {},
      "outputs": [
        {
          "data": {
            "text/plain": [
              "(torch.Size([10, 268]), torch.Size([10, 268]), torch.Size([10]))"
            ]
          },
          "execution_count": 25,
          "metadata": {},
          "output_type": "execute_result"
        }
      ],
      "source": [
        "validation_data.tensors[0].shape, validation_data.tensors[1].shape, validation_data.tensors[2].shape"
      ]
    },
    {
      "cell_type": "code",
      "execution_count": 26,
      "metadata": {
        "id": "dW3f6u63gl3e"
      },
      "outputs": [],
      "source": [
        "train_dataloader = DataLoader(train_data, batch_size=config[\"batch_size\"])\n",
        "validation_dataloader = DataLoader(validation_data, batch_size=config[\"batch_size\"])\n"
      ]
    },
    {
      "cell_type": "code",
      "execution_count": 27,
      "metadata": {
        "colab": {
          "base_uri": "https://localhost:8080/"
        },
        "id": "a-_3bqnVuG5E",
        "outputId": "18bd8dc9-061c-4830-9de2-327eafb9a2a9"
      },
      "outputs": [
        {
          "name": "stdout",
          "output_type": "stream",
          "text": [
            "torch.Size([10, 271]) torch.Size([10, 271]) torch.Size([10])\n"
          ]
        }
      ],
      "source": [
        "for batch in train_dataloader:\n",
        "    print(batch[0].shape, batch[1].shape, batch[2].shape)\n",
        "    break"
      ]
    },
    {
      "cell_type": "code",
      "execution_count": 28,
      "metadata": {
        "id": "5f7iNasHV-lx"
      },
      "outputs": [],
      "source": [
        "# Define the optimizer\n",
        "optimizer = AdamW(model.parameters(), lr=config['learning_rate'], no_deprecation_warning=True)"
      ]
    },
    {
      "cell_type": "code",
      "execution_count": 29,
      "metadata": {},
      "outputs": [
        {
          "name": "stdout",
          "output_type": "stream",
          "text": [
            "Alena\n"
          ]
        }
      ],
      "source": [
        "print(MLFLOW_TRACKING_USERNAME)"
      ]
    },
    {
      "cell_type": "code",
      "execution_count": 30,
      "metadata": {
        "id": "CnPWjaySr_EG"
      },
      "outputs": [],
      "source": [
        "# This variable along with the timestamp will be used to create the name of the experiment run. By default, this is the MLflow username, but you can change it as you like.\n",
        "user = MLFLOW_TRACKING_USERNAME\n",
        "# This variable will be the name of the folder in MLflow. You can change it as you wish.\n",
        "# If you provide the name of an already existing experiment, the experiment runs will be saved in the specified folder.\n",
        "# If you provide the name of a non-existent experiment, you will create a new folder with the given name.\n",
        "experiment_name = 'Alena_PatentMatchBaseline'\n",
        "\n",
        "\n",
        "def timestamp():\n",
        "    \"\"\"This function creates current timestamp\"\"\"\n",
        "    return datetime.now().strftime(\"%Y_%m_%d_%H%M_%S\")"
      ]
    },
    {
      "cell_type": "code",
      "execution_count": 31,
      "metadata": {
        "id": "Ehg7IamOCLsH"
      },
      "outputs": [],
      "source": [
        "# If you have provided the name of an experiment that does not exist or that existed in MLflow but was deleted, create a new experiment.\n",
        "experiment = mlflow.get_experiment_by_name(experiment_name)\n",
        "if experiment is None or experiment.lifecycle_stage == 'deleted':\n",
        "    mlflow.create_experiment(experiment_name)\n",
        "    experiment = mlflow.get_experiment_by_name(experiment_name)"
      ]
    },
    {
      "cell_type": "code",
      "execution_count": 32,
      "metadata": {},
      "outputs": [],
      "source": [
        "save_model = True"
      ]
    },
    {
      "cell_type": "code",
      "execution_count": 33,
      "metadata": {},
      "outputs": [],
      "source": [
        "if save_model:\n",
        "    model_save_path = 'models/'\n",
        "\n",
        "    if not os.path.exists(model_save_path):\n",
        "        os.makedirs(model_save_path)"
      ]
    },
    {
      "cell_type": "code",
      "execution_count": 35,
      "metadata": {
        "colab": {
          "base_uri": "https://localhost:8080/"
        },
        "id": "S78HlfCEjILj",
        "outputId": "993fdaa3-1d38-4818-fe56-19ff946114c0"
      },
      "outputs": [
        {
          "name": "stdout",
          "output_type": "stream",
          "text": [
            "############# Started 1 epoch ###############\n",
            "Average training loss for epoch 0: 0.4347972273826599\n",
            "Average validation loss for epoch 0: 0.5712020993232727\n",
            "Validation Accuracy: 0.8\n",
            "Validation Precision: 0.875\n",
            "Validation Recall: 0.875\n",
            "Validation F1 Score: 0.875\n",
            "Validation MCC: 0.375\n",
            "Best model saved to models/best_model.pt\n",
            "[[0.5   0.5  ]\n",
            " [0.125 0.875]]\n",
            "############# Finished 1 epoch ###############\n",
            "\n",
            "\n",
            "############# Started 2 epoch ###############\n",
            "Average training loss for epoch 1: 0.38594797253608704\n",
            "Average validation loss for epoch 1: 0.5955017805099487\n",
            "Validation Accuracy: 0.8\n",
            "Validation Precision: 1.0\n",
            "Validation Recall: 0.75\n",
            "Validation F1 Score: 0.8571428571428571\n",
            "Validation MCC: 0.6123724356957946\n",
            "[[1.   0.  ]\n",
            " [0.25 0.75]]\n",
            "############# Finished 2 epoch ###############\n",
            "\n",
            "\n",
            "############# Started 3 epoch ###############\n",
            "Average training loss for epoch 2: 0.34419533610343933\n",
            "Average validation loss for epoch 2: 0.6513045430183411\n",
            "Validation Accuracy: 0.7\n",
            "Validation Precision: 1.0\n",
            "Validation Recall: 0.625\n",
            "Validation F1 Score: 0.7692307692307693\n",
            "Validation MCC: 0.5\n",
            "[[1.    0.   ]\n",
            " [0.375 0.625]]\n",
            "############# Finished 3 epoch ###############\n",
            "\n",
            "\n",
            "############# Started 4 epoch ###############\n",
            "Average training loss for epoch 3: 0.3097075819969177\n",
            "Average validation loss for epoch 3: 0.7199971079826355\n",
            "Validation Accuracy: 0.5\n",
            "Validation Precision: 1.0\n",
            "Validation Recall: 0.375\n",
            "Validation F1 Score: 0.5454545454545454\n",
            "Validation MCC: 0.3273268353539886\n",
            "[[1.    0.   ]\n",
            " [0.625 0.375]]\n",
            "############# Finished 4 epoch ###############\n",
            "\n",
            "\n",
            "############# Started 5 epoch ###############\n",
            "Average training loss for epoch 4: 0.2660813331604004\n",
            "Average validation loss for epoch 4: 0.7965664267539978\n",
            "Validation Accuracy: 0.5\n",
            "Validation Precision: 1.0\n",
            "Validation Recall: 0.375\n",
            "Validation F1 Score: 0.5454545454545454\n",
            "Validation MCC: 0.3273268353539886\n",
            "[[1.    0.   ]\n",
            " [0.625 0.375]]\n",
            "############# Finished 5 epoch ###############\n",
            "\n",
            "\n",
            "############# Started 6 epoch ###############\n",
            "Average training loss for epoch 5: 0.2915307581424713\n",
            "Average validation loss for epoch 5: 0.873470664024353\n",
            "Validation Accuracy: 0.2\n"
          ]
        },
        {
          "name": "stderr",
          "output_type": "stream",
          "text": [
            "c:\\Users\\alena\\MyFolder\\DIL\\PatentMatchBaselineAlena\\venv\\Lib\\site-packages\\sklearn\\metrics\\_classification.py:1344: UndefinedMetricWarning: Precision is ill-defined and being set to 0.0 due to no predicted samples. Use `zero_division` parameter to control this behavior.\n",
            "  _warn_prf(average, modifier, msg_start, len(result))\n"
          ]
        },
        {
          "name": "stdout",
          "output_type": "stream",
          "text": [
            "Validation Precision: 0.0\n",
            "Validation Recall: 0.0\n",
            "Validation F1 Score: 0.0\n",
            "Validation MCC: 0.0\n",
            "[[1. 0.]\n",
            " [1. 0.]]\n",
            "############# Finished 6 epoch ###############\n",
            "\n",
            "\n",
            "############# Started 7 epoch ###############\n",
            "Average training loss for epoch 6: 0.28615766763687134\n",
            "Average validation loss for epoch 6: 0.8772857785224915\n",
            "Validation Accuracy: 0.2\n"
          ]
        },
        {
          "name": "stderr",
          "output_type": "stream",
          "text": [
            "c:\\Users\\alena\\MyFolder\\DIL\\PatentMatchBaselineAlena\\venv\\Lib\\site-packages\\sklearn\\metrics\\_classification.py:1344: UndefinedMetricWarning: Precision is ill-defined and being set to 0.0 due to no predicted samples. Use `zero_division` parameter to control this behavior.\n",
            "  _warn_prf(average, modifier, msg_start, len(result))\n"
          ]
        },
        {
          "name": "stdout",
          "output_type": "stream",
          "text": [
            "Validation Precision: 0.0\n",
            "Validation Recall: 0.0\n",
            "Validation F1 Score: 0.0\n",
            "Validation MCC: 0.0\n",
            "[[1. 0.]\n",
            " [1. 0.]]\n",
            "############# Finished 7 epoch ###############\n",
            "\n",
            "\n"
          ]
        }
      ],
      "source": [
        "with mlflow.start_run(experiment_id=experiment.experiment_id):\n",
        "    for param_name, param_value in config.items():\n",
        "        mlflow.log_param(param_name, param_value)\n",
        "\n",
        "    best_val_loss = float('inf')\n",
        "\n",
        "    for epoch in range(config['num_epochs']):  # Number of training epochs\n",
        "        print(f'############### Started {epoch + 1} epoch ###############')\n",
        "        # Set run name\n",
        "        mlflow.set_tag(key='mlflow.runName',\n",
        "                       value=f'{timestamp()}_{user}')\n",
        "        model.train()\n",
        "        train_loss = 0.0\n",
        "        for batch in train_dataloader:\n",
        "            b_input_ids, b_attention_mask, b_labels = batch\n",
        "\n",
        "            # Move the batch to the proper device\n",
        "            b_input_ids = b_input_ids.to(device)\n",
        "            b_attention_mask = b_attention_mask.to(device)\n",
        "            b_labels = b_labels.to(device)\n",
        "\n",
        "            model.zero_grad()\n",
        "            outputs = model(b_input_ids, attention_mask=b_attention_mask, labels=b_labels)\n",
        "            loss = outputs.loss\n",
        "            loss.backward()\n",
        "            optimizer.step()\n",
        "            train_loss += loss.item()\n",
        "\n",
        "        # Log the average training loss for the epoch\n",
        "        avg_train_loss = train_loss / len(train_dataloader)\n",
        "        mlflow.log_metric(\"train_loss\", avg_train_loss, step=epoch)\n",
        "        print(f\"Average training loss for epoch {epoch}: {avg_train_loss}\")\n",
        "\n",
        "        # Validation loop\n",
        "        model.eval()\n",
        "        val_loss = 0.0\n",
        "        predictions, true_labels = [], []\n",
        "        for batch in validation_dataloader:\n",
        "            b_input_ids, b_attention_mask, b_labels = batch\n",
        "\n",
        "            # Move the batch to the proper device\n",
        "            b_input_ids = b_input_ids.to(device)\n",
        "            b_labels = b_labels.to(device)\n",
        "            b_attention_mask = b_attention_mask.to(device)\n",
        "\n",
        "            with torch.no_grad():\n",
        "                outputs = model(b_input_ids, attention_mask=b_attention_mask, labels=b_labels)\n",
        "\n",
        "            logits = outputs.logits\n",
        "            loss = outputs.loss\n",
        "            val_loss += loss.item()\n",
        "\n",
        "            predictions.extend(torch.argmax(logits, dim=1).cpu().tolist())\n",
        "            true_labels.extend(b_labels.cpu().tolist())\n",
        "\n",
        "        # Log the average validation loss for the epoch\n",
        "        avg_val_loss = val_loss / len(validation_dataloader)\n",
        "        mlflow.log_metric(\"val_loss\", avg_val_loss, step=epoch)\n",
        "        print(f\"Average validation loss for epoch {epoch}: {avg_val_loss}\")\n",
        "\n",
        "        # Calculate the accuracy of the predictions\n",
        "        val_accuracy = accuracy_score(true_labels, predictions)\n",
        "        print(f\"Validation Accuracy: {val_accuracy}\")\n",
        "        mlflow.log_metric(\"val_accuracy\", val_accuracy, step=epoch)\n",
        "\n",
        "        # Calculate additional metrics\n",
        "        val_precision = precision_score(true_labels, predictions, zero_division='warn')\n",
        "        val_recall = recall_score(true_labels, predictions, zero_division=\"warn\")\n",
        "        val_f1 = f1_score(true_labels, predictions, zero_division=\"warn\")\n",
        "        val_mcc = matthews_corrcoef(true_labels, predictions)\n",
        "\n",
        "        # Log additional metrics\n",
        "        mlflow.log_metric(\"val_precision\", val_precision, step=epoch)\n",
        "        mlflow.log_metric(\"val_recall\", val_recall, step=epoch)\n",
        "        mlflow.log_metric(\"val_f1\", val_f1, step=epoch)\n",
        "        mlflow.log_metric(\"val_mcc\", val_mcc, step=epoch)\n",
        "\n",
        "        print(f\"Validation Precision: {val_precision}\")\n",
        "        print(f\"Validation Recall: {val_recall}\")\n",
        "        print(f\"Validation F1 Score: {val_f1}\")\n",
        "        print(f\"Validation MCC: {val_mcc}\")\n",
        "        \n",
        "        # Save the best model based on validation loss\n",
        "        if save_model:\n",
        "            if avg_val_loss < best_val_loss:\n",
        "                best_val_loss = avg_val_loss\n",
        "                best_model_save_file = f\"{model_save_path}best_model.pt\"\n",
        "                torch.save(model.state_dict(), best_model_save_file)\n",
        "                print(f\"Best model saved to {best_model_save_file}\")\n",
        "\n",
        "        # Calculate the confusion matrix\n",
        "        cm = confusion_matrix(true_labels, predictions, normalize='true')\n",
        "        cm_filename = f\"artifacts/{timestamp()}_confusion_matrix_epoch_{epoch}.csv\"\n",
        "        np.savetxt(cm_filename, cm, delimiter=\",\")\n",
        "        mlflow.log_artifact(cm_filename)\n",
        "\n",
        "        # Print the confusion matrix\n",
        "        print(cm)\n",
        "        print(f'############### Finished {epoch + 1} epoch ###############\\n\\n')\n",
        "\n",
        "mlflow.end_run()"
      ]
    }
  ],
  "metadata": {
    "accelerator": "GPU",
    "colab": {
      "gpuType": "T4",
      "provenance": []
    },
    "kernelspec": {
      "display_name": "Python 3",
      "name": "python3"
    },
    "language_info": {
      "codemirror_mode": {
        "name": "ipython",
        "version": 3
      },
      "file_extension": ".py",
      "mimetype": "text/x-python",
      "name": "python",
      "nbconvert_exporter": "python",
      "pygments_lexer": "ipython3",
      "version": "3.11.7"
    },
    "widgets": {
      "application/vnd.jupyter.widget-state+json": {
        "051d937161ba4d6289f43925b287fcb1": {
          "model_module": "@jupyter-widgets/controls",
          "model_module_version": "1.5.0",
          "model_name": "ProgressStyleModel",
          "state": {
            "_model_module": "@jupyter-widgets/controls",
            "_model_module_version": "1.5.0",
            "_model_name": "ProgressStyleModel",
            "_view_count": null,
            "_view_module": "@jupyter-widgets/base",
            "_view_module_version": "1.2.0",
            "_view_name": "StyleView",
            "bar_color": null,
            "description_width": ""
          }
        },
        "05d8a0fc37094f03810e0facaae59397": {
          "model_module": "@jupyter-widgets/controls",
          "model_module_version": "1.5.0",
          "model_name": "HBoxModel",
          "state": {
            "_dom_classes": [],
            "_model_module": "@jupyter-widgets/controls",
            "_model_module_version": "1.5.0",
            "_model_name": "HBoxModel",
            "_view_count": null,
            "_view_module": "@jupyter-widgets/controls",
            "_view_module_version": "1.5.0",
            "_view_name": "HBoxView",
            "box_style": "",
            "children": [
              "IPY_MODEL_9bf86c52e13f4709a2ec8044c1f8d668",
              "IPY_MODEL_38fcbf0aca6444d881450c51d5350f79",
              "IPY_MODEL_a0bd2784a92444558c9ecc22d68caf58"
            ],
            "layout": "IPY_MODEL_2bd2550a962541b5b623088f28c93e82"
          }
        },
        "08d4bcc1848243868bdc1994695dccff": {
          "model_module": "@jupyter-widgets/base",
          "model_module_version": "1.2.0",
          "model_name": "LayoutModel",
          "state": {
            "_model_module": "@jupyter-widgets/base",
            "_model_module_version": "1.2.0",
            "_model_name": "LayoutModel",
            "_view_count": null,
            "_view_module": "@jupyter-widgets/base",
            "_view_module_version": "1.2.0",
            "_view_name": "LayoutView",
            "align_content": null,
            "align_items": null,
            "align_self": null,
            "border": null,
            "bottom": null,
            "display": null,
            "flex": null,
            "flex_flow": null,
            "grid_area": null,
            "grid_auto_columns": null,
            "grid_auto_flow": null,
            "grid_auto_rows": null,
            "grid_column": null,
            "grid_gap": null,
            "grid_row": null,
            "grid_template_areas": null,
            "grid_template_columns": null,
            "grid_template_rows": null,
            "height": null,
            "justify_content": null,
            "justify_items": null,
            "left": null,
            "margin": null,
            "max_height": null,
            "max_width": null,
            "min_height": null,
            "min_width": null,
            "object_fit": null,
            "object_position": null,
            "order": null,
            "overflow": null,
            "overflow_x": null,
            "overflow_y": null,
            "padding": null,
            "right": null,
            "top": null,
            "visibility": null,
            "width": null
          }
        },
        "0bce65072806457e8beea3cba7a5462b": {
          "model_module": "@jupyter-widgets/controls",
          "model_module_version": "1.5.0",
          "model_name": "FloatProgressModel",
          "state": {
            "_dom_classes": [],
            "_model_module": "@jupyter-widgets/controls",
            "_model_module_version": "1.5.0",
            "_model_name": "FloatProgressModel",
            "_view_count": null,
            "_view_module": "@jupyter-widgets/controls",
            "_view_module_version": "1.5.0",
            "_view_name": "ProgressView",
            "bar_style": "success",
            "description": "",
            "description_tooltip": null,
            "layout": "IPY_MODEL_b77ee3d20b134990b7f7fc6b9017f530",
            "max": 440449768,
            "min": 0,
            "orientation": "horizontal",
            "style": "IPY_MODEL_c6fd28c3b17b4651a18869ec4a8d7513",
            "value": 440449768
          }
        },
        "0c6680a55c6b459c95dc880c2479746c": {
          "model_module": "@jupyter-widgets/controls",
          "model_module_version": "1.5.0",
          "model_name": "HBoxModel",
          "state": {
            "_dom_classes": [],
            "_model_module": "@jupyter-widgets/controls",
            "_model_module_version": "1.5.0",
            "_model_name": "HBoxModel",
            "_view_count": null,
            "_view_module": "@jupyter-widgets/controls",
            "_view_module_version": "1.5.0",
            "_view_name": "HBoxView",
            "box_style": "",
            "children": [
              "IPY_MODEL_e301e3c52dd249b0a45de6963bf284ff",
              "IPY_MODEL_ae5b175ab4e14c5d913db561ed0620f9",
              "IPY_MODEL_6237b386631240a48448cfdf01eee807"
            ],
            "layout": "IPY_MODEL_77b8e481332a44d1ac993f4e5b09af03"
          }
        },
        "0c8e0b932d4f4bfeb3aeaec2fba19f73": {
          "model_module": "@jupyter-widgets/controls",
          "model_module_version": "1.5.0",
          "model_name": "DescriptionStyleModel",
          "state": {
            "_model_module": "@jupyter-widgets/controls",
            "_model_module_version": "1.5.0",
            "_model_name": "DescriptionStyleModel",
            "_view_count": null,
            "_view_module": "@jupyter-widgets/base",
            "_view_module_version": "1.2.0",
            "_view_name": "StyleView",
            "description_width": ""
          }
        },
        "194fa31a57534ae8b2801b6dd2ffc9ac": {
          "model_module": "@jupyter-widgets/controls",
          "model_module_version": "1.5.0",
          "model_name": "DescriptionStyleModel",
          "state": {
            "_model_module": "@jupyter-widgets/controls",
            "_model_module_version": "1.5.0",
            "_model_name": "DescriptionStyleModel",
            "_view_count": null,
            "_view_module": "@jupyter-widgets/base",
            "_view_module_version": "1.2.0",
            "_view_name": "StyleView",
            "description_width": ""
          }
        },
        "1a6ab2a4ee84419fbb365e6d65d97dc0": {
          "model_module": "@jupyter-widgets/controls",
          "model_module_version": "1.5.0",
          "model_name": "ProgressStyleModel",
          "state": {
            "_model_module": "@jupyter-widgets/controls",
            "_model_module_version": "1.5.0",
            "_model_name": "ProgressStyleModel",
            "_view_count": null,
            "_view_module": "@jupyter-widgets/base",
            "_view_module_version": "1.2.0",
            "_view_name": "StyleView",
            "bar_color": null,
            "description_width": ""
          }
        },
        "1db8b2a31ae14554a95c5d32d4fcbef0": {
          "model_module": "@jupyter-widgets/controls",
          "model_module_version": "1.5.0",
          "model_name": "HTMLModel",
          "state": {
            "_dom_classes": [],
            "_model_module": "@jupyter-widgets/controls",
            "_model_module_version": "1.5.0",
            "_model_name": "HTMLModel",
            "_view_count": null,
            "_view_module": "@jupyter-widgets/controls",
            "_view_module_version": "1.5.0",
            "_view_name": "HTMLView",
            "description": "",
            "description_tooltip": null,
            "layout": "IPY_MODEL_b81212932503419ca0bd881d4fd3d82b",
            "placeholder": "​",
            "style": "IPY_MODEL_0c8e0b932d4f4bfeb3aeaec2fba19f73",
            "value": "model.safetensors: 100%"
          }
        },
        "2bd2550a962541b5b623088f28c93e82": {
          "model_module": "@jupyter-widgets/base",
          "model_module_version": "1.2.0",
          "model_name": "LayoutModel",
          "state": {
            "_model_module": "@jupyter-widgets/base",
            "_model_module_version": "1.2.0",
            "_model_name": "LayoutModel",
            "_view_count": null,
            "_view_module": "@jupyter-widgets/base",
            "_view_module_version": "1.2.0",
            "_view_name": "LayoutView",
            "align_content": null,
            "align_items": null,
            "align_self": null,
            "border": null,
            "bottom": null,
            "display": null,
            "flex": null,
            "flex_flow": null,
            "grid_area": null,
            "grid_auto_columns": null,
            "grid_auto_flow": null,
            "grid_auto_rows": null,
            "grid_column": null,
            "grid_gap": null,
            "grid_row": null,
            "grid_template_areas": null,
            "grid_template_columns": null,
            "grid_template_rows": null,
            "height": null,
            "justify_content": null,
            "justify_items": null,
            "left": null,
            "margin": null,
            "max_height": null,
            "max_width": null,
            "min_height": null,
            "min_width": null,
            "object_fit": null,
            "object_position": null,
            "order": null,
            "overflow": null,
            "overflow_x": null,
            "overflow_y": null,
            "padding": null,
            "right": null,
            "top": null,
            "visibility": null,
            "width": null
          }
        },
        "38fcbf0aca6444d881450c51d5350f79": {
          "model_module": "@jupyter-widgets/controls",
          "model_module_version": "1.5.0",
          "model_name": "FloatProgressModel",
          "state": {
            "_dom_classes": [],
            "_model_module": "@jupyter-widgets/controls",
            "_model_module_version": "1.5.0",
            "_model_name": "FloatProgressModel",
            "_view_count": null,
            "_view_module": "@jupyter-widgets/controls",
            "_view_module_version": "1.5.0",
            "_view_name": "ProgressView",
            "bar_style": "success",
            "description": "",
            "description_tooltip": null,
            "layout": "IPY_MODEL_8d2ea38501624e778e3cb832fed28a67",
            "max": 231508,
            "min": 0,
            "orientation": "horizontal",
            "style": "IPY_MODEL_051d937161ba4d6289f43925b287fcb1",
            "value": 231508
          }
        },
        "3b4159719c09418589666e32fb90620a": {
          "model_module": "@jupyter-widgets/controls",
          "model_module_version": "1.5.0",
          "model_name": "DescriptionStyleModel",
          "state": {
            "_model_module": "@jupyter-widgets/controls",
            "_model_module_version": "1.5.0",
            "_model_name": "DescriptionStyleModel",
            "_view_count": null,
            "_view_module": "@jupyter-widgets/base",
            "_view_module_version": "1.2.0",
            "_view_name": "StyleView",
            "description_width": ""
          }
        },
        "3fecfebc25784e21ab17e5e78c9c29fd": {
          "model_module": "@jupyter-widgets/base",
          "model_module_version": "1.2.0",
          "model_name": "LayoutModel",
          "state": {
            "_model_module": "@jupyter-widgets/base",
            "_model_module_version": "1.2.0",
            "_model_name": "LayoutModel",
            "_view_count": null,
            "_view_module": "@jupyter-widgets/base",
            "_view_module_version": "1.2.0",
            "_view_name": "LayoutView",
            "align_content": null,
            "align_items": null,
            "align_self": null,
            "border": null,
            "bottom": null,
            "display": null,
            "flex": null,
            "flex_flow": null,
            "grid_area": null,
            "grid_auto_columns": null,
            "grid_auto_flow": null,
            "grid_auto_rows": null,
            "grid_column": null,
            "grid_gap": null,
            "grid_row": null,
            "grid_template_areas": null,
            "grid_template_columns": null,
            "grid_template_rows": null,
            "height": null,
            "justify_content": null,
            "justify_items": null,
            "left": null,
            "margin": null,
            "max_height": null,
            "max_width": null,
            "min_height": null,
            "min_width": null,
            "object_fit": null,
            "object_position": null,
            "order": null,
            "overflow": null,
            "overflow_x": null,
            "overflow_y": null,
            "padding": null,
            "right": null,
            "top": null,
            "visibility": null,
            "width": null
          }
        },
        "4115944df36a4c0fa4051aafcf045b95": {
          "model_module": "@jupyter-widgets/base",
          "model_module_version": "1.2.0",
          "model_name": "LayoutModel",
          "state": {
            "_model_module": "@jupyter-widgets/base",
            "_model_module_version": "1.2.0",
            "_model_name": "LayoutModel",
            "_view_count": null,
            "_view_module": "@jupyter-widgets/base",
            "_view_module_version": "1.2.0",
            "_view_name": "LayoutView",
            "align_content": null,
            "align_items": null,
            "align_self": null,
            "border": null,
            "bottom": null,
            "display": null,
            "flex": null,
            "flex_flow": null,
            "grid_area": null,
            "grid_auto_columns": null,
            "grid_auto_flow": null,
            "grid_auto_rows": null,
            "grid_column": null,
            "grid_gap": null,
            "grid_row": null,
            "grid_template_areas": null,
            "grid_template_columns": null,
            "grid_template_rows": null,
            "height": null,
            "justify_content": null,
            "justify_items": null,
            "left": null,
            "margin": null,
            "max_height": null,
            "max_width": null,
            "min_height": null,
            "min_width": null,
            "object_fit": null,
            "object_position": null,
            "order": null,
            "overflow": null,
            "overflow_x": null,
            "overflow_y": null,
            "padding": null,
            "right": null,
            "top": null,
            "visibility": null,
            "width": null
          }
        },
        "4a1e74884d194748b0ef2879b8c26820": {
          "model_module": "@jupyter-widgets/controls",
          "model_module_version": "1.5.0",
          "model_name": "HBoxModel",
          "state": {
            "_dom_classes": [],
            "_model_module": "@jupyter-widgets/controls",
            "_model_module_version": "1.5.0",
            "_model_name": "HBoxModel",
            "_view_count": null,
            "_view_module": "@jupyter-widgets/controls",
            "_view_module_version": "1.5.0",
            "_view_name": "HBoxView",
            "box_style": "",
            "children": [
              "IPY_MODEL_687fdd4c640f4d94a0a6d1df27f6258e",
              "IPY_MODEL_f519fa25f6dd47e6b68f27e91dde698e",
              "IPY_MODEL_f7131dbc338c403e8fdc5db929aa2bd7"
            ],
            "layout": "IPY_MODEL_6b9d63a3a94c4bbaa128968264117169"
          }
        },
        "4d81dd23b8bf42728e7684cf1863b6ac": {
          "model_module": "@jupyter-widgets/controls",
          "model_module_version": "1.5.0",
          "model_name": "DescriptionStyleModel",
          "state": {
            "_model_module": "@jupyter-widgets/controls",
            "_model_module_version": "1.5.0",
            "_model_name": "DescriptionStyleModel",
            "_view_count": null,
            "_view_module": "@jupyter-widgets/base",
            "_view_module_version": "1.2.0",
            "_view_name": "StyleView",
            "description_width": ""
          }
        },
        "51d0b593cd1140f8895e11f7d86eaa98": {
          "model_module": "@jupyter-widgets/controls",
          "model_module_version": "1.5.0",
          "model_name": "ProgressStyleModel",
          "state": {
            "_model_module": "@jupyter-widgets/controls",
            "_model_module_version": "1.5.0",
            "_model_name": "ProgressStyleModel",
            "_view_count": null,
            "_view_module": "@jupyter-widgets/base",
            "_view_module_version": "1.2.0",
            "_view_name": "StyleView",
            "bar_color": null,
            "description_width": ""
          }
        },
        "5da3b32cd1e14d72956015b39ad4eeb8": {
          "model_module": "@jupyter-widgets/base",
          "model_module_version": "1.2.0",
          "model_name": "LayoutModel",
          "state": {
            "_model_module": "@jupyter-widgets/base",
            "_model_module_version": "1.2.0",
            "_model_name": "LayoutModel",
            "_view_count": null,
            "_view_module": "@jupyter-widgets/base",
            "_view_module_version": "1.2.0",
            "_view_name": "LayoutView",
            "align_content": null,
            "align_items": null,
            "align_self": null,
            "border": null,
            "bottom": null,
            "display": null,
            "flex": null,
            "flex_flow": null,
            "grid_area": null,
            "grid_auto_columns": null,
            "grid_auto_flow": null,
            "grid_auto_rows": null,
            "grid_column": null,
            "grid_gap": null,
            "grid_row": null,
            "grid_template_areas": null,
            "grid_template_columns": null,
            "grid_template_rows": null,
            "height": null,
            "justify_content": null,
            "justify_items": null,
            "left": null,
            "margin": null,
            "max_height": null,
            "max_width": null,
            "min_height": null,
            "min_width": null,
            "object_fit": null,
            "object_position": null,
            "order": null,
            "overflow": null,
            "overflow_x": null,
            "overflow_y": null,
            "padding": null,
            "right": null,
            "top": null,
            "visibility": null,
            "width": null
          }
        },
        "5e966657890f42d59d8f9a177e505f92": {
          "model_module": "@jupyter-widgets/base",
          "model_module_version": "1.2.0",
          "model_name": "LayoutModel",
          "state": {
            "_model_module": "@jupyter-widgets/base",
            "_model_module_version": "1.2.0",
            "_model_name": "LayoutModel",
            "_view_count": null,
            "_view_module": "@jupyter-widgets/base",
            "_view_module_version": "1.2.0",
            "_view_name": "LayoutView",
            "align_content": null,
            "align_items": null,
            "align_self": null,
            "border": null,
            "bottom": null,
            "display": null,
            "flex": null,
            "flex_flow": null,
            "grid_area": null,
            "grid_auto_columns": null,
            "grid_auto_flow": null,
            "grid_auto_rows": null,
            "grid_column": null,
            "grid_gap": null,
            "grid_row": null,
            "grid_template_areas": null,
            "grid_template_columns": null,
            "grid_template_rows": null,
            "height": null,
            "justify_content": null,
            "justify_items": null,
            "left": null,
            "margin": null,
            "max_height": null,
            "max_width": null,
            "min_height": null,
            "min_width": null,
            "object_fit": null,
            "object_position": null,
            "order": null,
            "overflow": null,
            "overflow_x": null,
            "overflow_y": null,
            "padding": null,
            "right": null,
            "top": null,
            "visibility": null,
            "width": null
          }
        },
        "6237b386631240a48448cfdf01eee807": {
          "model_module": "@jupyter-widgets/controls",
          "model_module_version": "1.5.0",
          "model_name": "HTMLModel",
          "state": {
            "_dom_classes": [],
            "_model_module": "@jupyter-widgets/controls",
            "_model_module_version": "1.5.0",
            "_model_name": "HTMLModel",
            "_view_count": null,
            "_view_module": "@jupyter-widgets/controls",
            "_view_module_version": "1.5.0",
            "_view_name": "HTMLView",
            "description": "",
            "description_tooltip": null,
            "layout": "IPY_MODEL_5da3b32cd1e14d72956015b39ad4eeb8",
            "placeholder": "​",
            "style": "IPY_MODEL_d1ed7378e69a40fe97a05e912e6339c5",
            "value": " 570/570 [00:00&lt;00:00, 6.93kB/s]"
          }
        },
        "687fdd4c640f4d94a0a6d1df27f6258e": {
          "model_module": "@jupyter-widgets/controls",
          "model_module_version": "1.5.0",
          "model_name": "HTMLModel",
          "state": {
            "_dom_classes": [],
            "_model_module": "@jupyter-widgets/controls",
            "_model_module_version": "1.5.0",
            "_model_name": "HTMLModel",
            "_view_count": null,
            "_view_module": "@jupyter-widgets/controls",
            "_view_module_version": "1.5.0",
            "_view_name": "HTMLView",
            "description": "",
            "description_tooltip": null,
            "layout": "IPY_MODEL_f4cdbf4bf6ed48af9226e61ffed174da",
            "placeholder": "​",
            "style": "IPY_MODEL_194fa31a57534ae8b2801b6dd2ffc9ac",
            "value": "tokenizer.json: 100%"
          }
        },
        "6b9d63a3a94c4bbaa128968264117169": {
          "model_module": "@jupyter-widgets/base",
          "model_module_version": "1.2.0",
          "model_name": "LayoutModel",
          "state": {
            "_model_module": "@jupyter-widgets/base",
            "_model_module_version": "1.2.0",
            "_model_name": "LayoutModel",
            "_view_count": null,
            "_view_module": "@jupyter-widgets/base",
            "_view_module_version": "1.2.0",
            "_view_name": "LayoutView",
            "align_content": null,
            "align_items": null,
            "align_self": null,
            "border": null,
            "bottom": null,
            "display": null,
            "flex": null,
            "flex_flow": null,
            "grid_area": null,
            "grid_auto_columns": null,
            "grid_auto_flow": null,
            "grid_auto_rows": null,
            "grid_column": null,
            "grid_gap": null,
            "grid_row": null,
            "grid_template_areas": null,
            "grid_template_columns": null,
            "grid_template_rows": null,
            "height": null,
            "justify_content": null,
            "justify_items": null,
            "left": null,
            "margin": null,
            "max_height": null,
            "max_width": null,
            "min_height": null,
            "min_width": null,
            "object_fit": null,
            "object_position": null,
            "order": null,
            "overflow": null,
            "overflow_x": null,
            "overflow_y": null,
            "padding": null,
            "right": null,
            "top": null,
            "visibility": null,
            "width": null
          }
        },
        "6c4b3d29d496441d99d107dd56288ec4": {
          "model_module": "@jupyter-widgets/base",
          "model_module_version": "1.2.0",
          "model_name": "LayoutModel",
          "state": {
            "_model_module": "@jupyter-widgets/base",
            "_model_module_version": "1.2.0",
            "_model_name": "LayoutModel",
            "_view_count": null,
            "_view_module": "@jupyter-widgets/base",
            "_view_module_version": "1.2.0",
            "_view_name": "LayoutView",
            "align_content": null,
            "align_items": null,
            "align_self": null,
            "border": null,
            "bottom": null,
            "display": null,
            "flex": null,
            "flex_flow": null,
            "grid_area": null,
            "grid_auto_columns": null,
            "grid_auto_flow": null,
            "grid_auto_rows": null,
            "grid_column": null,
            "grid_gap": null,
            "grid_row": null,
            "grid_template_areas": null,
            "grid_template_columns": null,
            "grid_template_rows": null,
            "height": null,
            "justify_content": null,
            "justify_items": null,
            "left": null,
            "margin": null,
            "max_height": null,
            "max_width": null,
            "min_height": null,
            "min_width": null,
            "object_fit": null,
            "object_position": null,
            "order": null,
            "overflow": null,
            "overflow_x": null,
            "overflow_y": null,
            "padding": null,
            "right": null,
            "top": null,
            "visibility": null,
            "width": null
          }
        },
        "6d0952bdf189401cbf027370bef57fae": {
          "model_module": "@jupyter-widgets/controls",
          "model_module_version": "1.5.0",
          "model_name": "DescriptionStyleModel",
          "state": {
            "_model_module": "@jupyter-widgets/controls",
            "_model_module_version": "1.5.0",
            "_model_name": "DescriptionStyleModel",
            "_view_count": null,
            "_view_module": "@jupyter-widgets/base",
            "_view_module_version": "1.2.0",
            "_view_name": "StyleView",
            "description_width": ""
          }
        },
        "77b8e481332a44d1ac993f4e5b09af03": {
          "model_module": "@jupyter-widgets/base",
          "model_module_version": "1.2.0",
          "model_name": "LayoutModel",
          "state": {
            "_model_module": "@jupyter-widgets/base",
            "_model_module_version": "1.2.0",
            "_model_name": "LayoutModel",
            "_view_count": null,
            "_view_module": "@jupyter-widgets/base",
            "_view_module_version": "1.2.0",
            "_view_name": "LayoutView",
            "align_content": null,
            "align_items": null,
            "align_self": null,
            "border": null,
            "bottom": null,
            "display": null,
            "flex": null,
            "flex_flow": null,
            "grid_area": null,
            "grid_auto_columns": null,
            "grid_auto_flow": null,
            "grid_auto_rows": null,
            "grid_column": null,
            "grid_gap": null,
            "grid_row": null,
            "grid_template_areas": null,
            "grid_template_columns": null,
            "grid_template_rows": null,
            "height": null,
            "justify_content": null,
            "justify_items": null,
            "left": null,
            "margin": null,
            "max_height": null,
            "max_width": null,
            "min_height": null,
            "min_width": null,
            "object_fit": null,
            "object_position": null,
            "order": null,
            "overflow": null,
            "overflow_x": null,
            "overflow_y": null,
            "padding": null,
            "right": null,
            "top": null,
            "visibility": null,
            "width": null
          }
        },
        "801cced5dae14c95bc81198ee1cf667a": {
          "model_module": "@jupyter-widgets/base",
          "model_module_version": "1.2.0",
          "model_name": "LayoutModel",
          "state": {
            "_model_module": "@jupyter-widgets/base",
            "_model_module_version": "1.2.0",
            "_model_name": "LayoutModel",
            "_view_count": null,
            "_view_module": "@jupyter-widgets/base",
            "_view_module_version": "1.2.0",
            "_view_name": "LayoutView",
            "align_content": null,
            "align_items": null,
            "align_self": null,
            "border": null,
            "bottom": null,
            "display": null,
            "flex": null,
            "flex_flow": null,
            "grid_area": null,
            "grid_auto_columns": null,
            "grid_auto_flow": null,
            "grid_auto_rows": null,
            "grid_column": null,
            "grid_gap": null,
            "grid_row": null,
            "grid_template_areas": null,
            "grid_template_columns": null,
            "grid_template_rows": null,
            "height": null,
            "justify_content": null,
            "justify_items": null,
            "left": null,
            "margin": null,
            "max_height": null,
            "max_width": null,
            "min_height": null,
            "min_width": null,
            "object_fit": null,
            "object_position": null,
            "order": null,
            "overflow": null,
            "overflow_x": null,
            "overflow_y": null,
            "padding": null,
            "right": null,
            "top": null,
            "visibility": null,
            "width": null
          }
        },
        "88140679125a4350a347eeb26458fa3d": {
          "model_module": "@jupyter-widgets/controls",
          "model_module_version": "1.5.0",
          "model_name": "HTMLModel",
          "state": {
            "_dom_classes": [],
            "_model_module": "@jupyter-widgets/controls",
            "_model_module_version": "1.5.0",
            "_model_name": "HTMLModel",
            "_view_count": null,
            "_view_module": "@jupyter-widgets/controls",
            "_view_module_version": "1.5.0",
            "_view_name": "HTMLView",
            "description": "",
            "description_tooltip": null,
            "layout": "IPY_MODEL_e778c13cf3f44b17aacba56030af76b2",
            "placeholder": "​",
            "style": "IPY_MODEL_b624da9078fc4bf2b33f9316b1cf30bf",
            "value": " 48.0/48.0 [00:00&lt;00:00, 780B/s]"
          }
        },
        "884318927374487ab778d58965d51029": {
          "model_module": "@jupyter-widgets/controls",
          "model_module_version": "1.5.0",
          "model_name": "DescriptionStyleModel",
          "state": {
            "_model_module": "@jupyter-widgets/controls",
            "_model_module_version": "1.5.0",
            "_model_name": "DescriptionStyleModel",
            "_view_count": null,
            "_view_module": "@jupyter-widgets/base",
            "_view_module_version": "1.2.0",
            "_view_name": "StyleView",
            "description_width": ""
          }
        },
        "89c3d6e440e144d694ef500a033ee480": {
          "model_module": "@jupyter-widgets/base",
          "model_module_version": "1.2.0",
          "model_name": "LayoutModel",
          "state": {
            "_model_module": "@jupyter-widgets/base",
            "_model_module_version": "1.2.0",
            "_model_name": "LayoutModel",
            "_view_count": null,
            "_view_module": "@jupyter-widgets/base",
            "_view_module_version": "1.2.0",
            "_view_name": "LayoutView",
            "align_content": null,
            "align_items": null,
            "align_self": null,
            "border": null,
            "bottom": null,
            "display": null,
            "flex": null,
            "flex_flow": null,
            "grid_area": null,
            "grid_auto_columns": null,
            "grid_auto_flow": null,
            "grid_auto_rows": null,
            "grid_column": null,
            "grid_gap": null,
            "grid_row": null,
            "grid_template_areas": null,
            "grid_template_columns": null,
            "grid_template_rows": null,
            "height": null,
            "justify_content": null,
            "justify_items": null,
            "left": null,
            "margin": null,
            "max_height": null,
            "max_width": null,
            "min_height": null,
            "min_width": null,
            "object_fit": null,
            "object_position": null,
            "order": null,
            "overflow": null,
            "overflow_x": null,
            "overflow_y": null,
            "padding": null,
            "right": null,
            "top": null,
            "visibility": null,
            "width": null
          }
        },
        "8a46887c18654709bf3e02817d246961": {
          "model_module": "@jupyter-widgets/controls",
          "model_module_version": "1.5.0",
          "model_name": "DescriptionStyleModel",
          "state": {
            "_model_module": "@jupyter-widgets/controls",
            "_model_module_version": "1.5.0",
            "_model_name": "DescriptionStyleModel",
            "_view_count": null,
            "_view_module": "@jupyter-widgets/base",
            "_view_module_version": "1.2.0",
            "_view_name": "StyleView",
            "description_width": ""
          }
        },
        "8d2ea38501624e778e3cb832fed28a67": {
          "model_module": "@jupyter-widgets/base",
          "model_module_version": "1.2.0",
          "model_name": "LayoutModel",
          "state": {
            "_model_module": "@jupyter-widgets/base",
            "_model_module_version": "1.2.0",
            "_model_name": "LayoutModel",
            "_view_count": null,
            "_view_module": "@jupyter-widgets/base",
            "_view_module_version": "1.2.0",
            "_view_name": "LayoutView",
            "align_content": null,
            "align_items": null,
            "align_self": null,
            "border": null,
            "bottom": null,
            "display": null,
            "flex": null,
            "flex_flow": null,
            "grid_area": null,
            "grid_auto_columns": null,
            "grid_auto_flow": null,
            "grid_auto_rows": null,
            "grid_column": null,
            "grid_gap": null,
            "grid_row": null,
            "grid_template_areas": null,
            "grid_template_columns": null,
            "grid_template_rows": null,
            "height": null,
            "justify_content": null,
            "justify_items": null,
            "left": null,
            "margin": null,
            "max_height": null,
            "max_width": null,
            "min_height": null,
            "min_width": null,
            "object_fit": null,
            "object_position": null,
            "order": null,
            "overflow": null,
            "overflow_x": null,
            "overflow_y": null,
            "padding": null,
            "right": null,
            "top": null,
            "visibility": null,
            "width": null
          }
        },
        "93b290c200cb45f6a5688c3cd1789e0d": {
          "model_module": "@jupyter-widgets/base",
          "model_module_version": "1.2.0",
          "model_name": "LayoutModel",
          "state": {
            "_model_module": "@jupyter-widgets/base",
            "_model_module_version": "1.2.0",
            "_model_name": "LayoutModel",
            "_view_count": null,
            "_view_module": "@jupyter-widgets/base",
            "_view_module_version": "1.2.0",
            "_view_name": "LayoutView",
            "align_content": null,
            "align_items": null,
            "align_self": null,
            "border": null,
            "bottom": null,
            "display": null,
            "flex": null,
            "flex_flow": null,
            "grid_area": null,
            "grid_auto_columns": null,
            "grid_auto_flow": null,
            "grid_auto_rows": null,
            "grid_column": null,
            "grid_gap": null,
            "grid_row": null,
            "grid_template_areas": null,
            "grid_template_columns": null,
            "grid_template_rows": null,
            "height": null,
            "justify_content": null,
            "justify_items": null,
            "left": null,
            "margin": null,
            "max_height": null,
            "max_width": null,
            "min_height": null,
            "min_width": null,
            "object_fit": null,
            "object_position": null,
            "order": null,
            "overflow": null,
            "overflow_x": null,
            "overflow_y": null,
            "padding": null,
            "right": null,
            "top": null,
            "visibility": null,
            "width": null
          }
        },
        "9bf86c52e13f4709a2ec8044c1f8d668": {
          "model_module": "@jupyter-widgets/controls",
          "model_module_version": "1.5.0",
          "model_name": "HTMLModel",
          "state": {
            "_dom_classes": [],
            "_model_module": "@jupyter-widgets/controls",
            "_model_module_version": "1.5.0",
            "_model_name": "HTMLModel",
            "_view_count": null,
            "_view_module": "@jupyter-widgets/controls",
            "_view_module_version": "1.5.0",
            "_view_name": "HTMLView",
            "description": "",
            "description_tooltip": null,
            "layout": "IPY_MODEL_4115944df36a4c0fa4051aafcf045b95",
            "placeholder": "​",
            "style": "IPY_MODEL_3b4159719c09418589666e32fb90620a",
            "value": "vocab.txt: 100%"
          }
        },
        "9ee5cfc2056143e4a045e5c47c1f8d6e": {
          "model_module": "@jupyter-widgets/controls",
          "model_module_version": "1.5.0",
          "model_name": "HBoxModel",
          "state": {
            "_dom_classes": [],
            "_model_module": "@jupyter-widgets/controls",
            "_model_module_version": "1.5.0",
            "_model_name": "HBoxModel",
            "_view_count": null,
            "_view_module": "@jupyter-widgets/controls",
            "_view_module_version": "1.5.0",
            "_view_name": "HBoxView",
            "box_style": "",
            "children": [
              "IPY_MODEL_d252b9c35509497ca0bdee4af24ae6dd",
              "IPY_MODEL_adf7fdc7a8644ac99b9a5c3a853823d5",
              "IPY_MODEL_88140679125a4350a347eeb26458fa3d"
            ],
            "layout": "IPY_MODEL_801cced5dae14c95bc81198ee1cf667a"
          }
        },
        "a0bd2784a92444558c9ecc22d68caf58": {
          "model_module": "@jupyter-widgets/controls",
          "model_module_version": "1.5.0",
          "model_name": "HTMLModel",
          "state": {
            "_dom_classes": [],
            "_model_module": "@jupyter-widgets/controls",
            "_model_module_version": "1.5.0",
            "_model_name": "HTMLModel",
            "_view_count": null,
            "_view_module": "@jupyter-widgets/controls",
            "_view_module_version": "1.5.0",
            "_view_name": "HTMLView",
            "description": "",
            "description_tooltip": null,
            "layout": "IPY_MODEL_c3889fcd613540639e010a7ec98634e7",
            "placeholder": "​",
            "style": "IPY_MODEL_884318927374487ab778d58965d51029",
            "value": " 232k/232k [00:00&lt;00:00, 1.75MB/s]"
          }
        },
        "a473d77ac3ed4f3586ebd83a36234339": {
          "model_module": "@jupyter-widgets/controls",
          "model_module_version": "1.5.0",
          "model_name": "ProgressStyleModel",
          "state": {
            "_model_module": "@jupyter-widgets/controls",
            "_model_module_version": "1.5.0",
            "_model_name": "ProgressStyleModel",
            "_view_count": null,
            "_view_module": "@jupyter-widgets/base",
            "_view_module_version": "1.2.0",
            "_view_name": "StyleView",
            "bar_color": null,
            "description_width": ""
          }
        },
        "a8e7be021d10475c900da256c70c4d0d": {
          "model_module": "@jupyter-widgets/controls",
          "model_module_version": "1.5.0",
          "model_name": "DescriptionStyleModel",
          "state": {
            "_model_module": "@jupyter-widgets/controls",
            "_model_module_version": "1.5.0",
            "_model_name": "DescriptionStyleModel",
            "_view_count": null,
            "_view_module": "@jupyter-widgets/base",
            "_view_module_version": "1.2.0",
            "_view_name": "StyleView",
            "description_width": ""
          }
        },
        "adf7fdc7a8644ac99b9a5c3a853823d5": {
          "model_module": "@jupyter-widgets/controls",
          "model_module_version": "1.5.0",
          "model_name": "FloatProgressModel",
          "state": {
            "_dom_classes": [],
            "_model_module": "@jupyter-widgets/controls",
            "_model_module_version": "1.5.0",
            "_model_name": "FloatProgressModel",
            "_view_count": null,
            "_view_module": "@jupyter-widgets/controls",
            "_view_module_version": "1.5.0",
            "_view_name": "ProgressView",
            "bar_style": "success",
            "description": "",
            "description_tooltip": null,
            "layout": "IPY_MODEL_6c4b3d29d496441d99d107dd56288ec4",
            "max": 48,
            "min": 0,
            "orientation": "horizontal",
            "style": "IPY_MODEL_a473d77ac3ed4f3586ebd83a36234339",
            "value": 48
          }
        },
        "ae5b175ab4e14c5d913db561ed0620f9": {
          "model_module": "@jupyter-widgets/controls",
          "model_module_version": "1.5.0",
          "model_name": "FloatProgressModel",
          "state": {
            "_dom_classes": [],
            "_model_module": "@jupyter-widgets/controls",
            "_model_module_version": "1.5.0",
            "_model_name": "FloatProgressModel",
            "_view_count": null,
            "_view_module": "@jupyter-widgets/controls",
            "_view_module_version": "1.5.0",
            "_view_name": "ProgressView",
            "bar_style": "success",
            "description": "",
            "description_tooltip": null,
            "layout": "IPY_MODEL_08d4bcc1848243868bdc1994695dccff",
            "max": 570,
            "min": 0,
            "orientation": "horizontal",
            "style": "IPY_MODEL_51d0b593cd1140f8895e11f7d86eaa98",
            "value": 570
          }
        },
        "b0853496f1714526a62f335912d2845d": {
          "model_module": "@jupyter-widgets/controls",
          "model_module_version": "1.5.0",
          "model_name": "HBoxModel",
          "state": {
            "_dom_classes": [],
            "_model_module": "@jupyter-widgets/controls",
            "_model_module_version": "1.5.0",
            "_model_name": "HBoxModel",
            "_view_count": null,
            "_view_module": "@jupyter-widgets/controls",
            "_view_module_version": "1.5.0",
            "_view_name": "HBoxView",
            "box_style": "",
            "children": [
              "IPY_MODEL_1db8b2a31ae14554a95c5d32d4fcbef0",
              "IPY_MODEL_0bce65072806457e8beea3cba7a5462b",
              "IPY_MODEL_d786c75d26fc4883a73f3de4862e0e40"
            ],
            "layout": "IPY_MODEL_93b290c200cb45f6a5688c3cd1789e0d"
          }
        },
        "b624da9078fc4bf2b33f9316b1cf30bf": {
          "model_module": "@jupyter-widgets/controls",
          "model_module_version": "1.5.0",
          "model_name": "DescriptionStyleModel",
          "state": {
            "_model_module": "@jupyter-widgets/controls",
            "_model_module_version": "1.5.0",
            "_model_name": "DescriptionStyleModel",
            "_view_count": null,
            "_view_module": "@jupyter-widgets/base",
            "_view_module_version": "1.2.0",
            "_view_name": "StyleView",
            "description_width": ""
          }
        },
        "b77ee3d20b134990b7f7fc6b9017f530": {
          "model_module": "@jupyter-widgets/base",
          "model_module_version": "1.2.0",
          "model_name": "LayoutModel",
          "state": {
            "_model_module": "@jupyter-widgets/base",
            "_model_module_version": "1.2.0",
            "_model_name": "LayoutModel",
            "_view_count": null,
            "_view_module": "@jupyter-widgets/base",
            "_view_module_version": "1.2.0",
            "_view_name": "LayoutView",
            "align_content": null,
            "align_items": null,
            "align_self": null,
            "border": null,
            "bottom": null,
            "display": null,
            "flex": null,
            "flex_flow": null,
            "grid_area": null,
            "grid_auto_columns": null,
            "grid_auto_flow": null,
            "grid_auto_rows": null,
            "grid_column": null,
            "grid_gap": null,
            "grid_row": null,
            "grid_template_areas": null,
            "grid_template_columns": null,
            "grid_template_rows": null,
            "height": null,
            "justify_content": null,
            "justify_items": null,
            "left": null,
            "margin": null,
            "max_height": null,
            "max_width": null,
            "min_height": null,
            "min_width": null,
            "object_fit": null,
            "object_position": null,
            "order": null,
            "overflow": null,
            "overflow_x": null,
            "overflow_y": null,
            "padding": null,
            "right": null,
            "top": null,
            "visibility": null,
            "width": null
          }
        },
        "b81212932503419ca0bd881d4fd3d82b": {
          "model_module": "@jupyter-widgets/base",
          "model_module_version": "1.2.0",
          "model_name": "LayoutModel",
          "state": {
            "_model_module": "@jupyter-widgets/base",
            "_model_module_version": "1.2.0",
            "_model_name": "LayoutModel",
            "_view_count": null,
            "_view_module": "@jupyter-widgets/base",
            "_view_module_version": "1.2.0",
            "_view_name": "LayoutView",
            "align_content": null,
            "align_items": null,
            "align_self": null,
            "border": null,
            "bottom": null,
            "display": null,
            "flex": null,
            "flex_flow": null,
            "grid_area": null,
            "grid_auto_columns": null,
            "grid_auto_flow": null,
            "grid_auto_rows": null,
            "grid_column": null,
            "grid_gap": null,
            "grid_row": null,
            "grid_template_areas": null,
            "grid_template_columns": null,
            "grid_template_rows": null,
            "height": null,
            "justify_content": null,
            "justify_items": null,
            "left": null,
            "margin": null,
            "max_height": null,
            "max_width": null,
            "min_height": null,
            "min_width": null,
            "object_fit": null,
            "object_position": null,
            "order": null,
            "overflow": null,
            "overflow_x": null,
            "overflow_y": null,
            "padding": null,
            "right": null,
            "top": null,
            "visibility": null,
            "width": null
          }
        },
        "b84e403f522d4d029d31613880689160": {
          "model_module": "@jupyter-widgets/base",
          "model_module_version": "1.2.0",
          "model_name": "LayoutModel",
          "state": {
            "_model_module": "@jupyter-widgets/base",
            "_model_module_version": "1.2.0",
            "_model_name": "LayoutModel",
            "_view_count": null,
            "_view_module": "@jupyter-widgets/base",
            "_view_module_version": "1.2.0",
            "_view_name": "LayoutView",
            "align_content": null,
            "align_items": null,
            "align_self": null,
            "border": null,
            "bottom": null,
            "display": null,
            "flex": null,
            "flex_flow": null,
            "grid_area": null,
            "grid_auto_columns": null,
            "grid_auto_flow": null,
            "grid_auto_rows": null,
            "grid_column": null,
            "grid_gap": null,
            "grid_row": null,
            "grid_template_areas": null,
            "grid_template_columns": null,
            "grid_template_rows": null,
            "height": null,
            "justify_content": null,
            "justify_items": null,
            "left": null,
            "margin": null,
            "max_height": null,
            "max_width": null,
            "min_height": null,
            "min_width": null,
            "object_fit": null,
            "object_position": null,
            "order": null,
            "overflow": null,
            "overflow_x": null,
            "overflow_y": null,
            "padding": null,
            "right": null,
            "top": null,
            "visibility": null,
            "width": null
          }
        },
        "c3889fcd613540639e010a7ec98634e7": {
          "model_module": "@jupyter-widgets/base",
          "model_module_version": "1.2.0",
          "model_name": "LayoutModel",
          "state": {
            "_model_module": "@jupyter-widgets/base",
            "_model_module_version": "1.2.0",
            "_model_name": "LayoutModel",
            "_view_count": null,
            "_view_module": "@jupyter-widgets/base",
            "_view_module_version": "1.2.0",
            "_view_name": "LayoutView",
            "align_content": null,
            "align_items": null,
            "align_self": null,
            "border": null,
            "bottom": null,
            "display": null,
            "flex": null,
            "flex_flow": null,
            "grid_area": null,
            "grid_auto_columns": null,
            "grid_auto_flow": null,
            "grid_auto_rows": null,
            "grid_column": null,
            "grid_gap": null,
            "grid_row": null,
            "grid_template_areas": null,
            "grid_template_columns": null,
            "grid_template_rows": null,
            "height": null,
            "justify_content": null,
            "justify_items": null,
            "left": null,
            "margin": null,
            "max_height": null,
            "max_width": null,
            "min_height": null,
            "min_width": null,
            "object_fit": null,
            "object_position": null,
            "order": null,
            "overflow": null,
            "overflow_x": null,
            "overflow_y": null,
            "padding": null,
            "right": null,
            "top": null,
            "visibility": null,
            "width": null
          }
        },
        "c6fd28c3b17b4651a18869ec4a8d7513": {
          "model_module": "@jupyter-widgets/controls",
          "model_module_version": "1.5.0",
          "model_name": "ProgressStyleModel",
          "state": {
            "_model_module": "@jupyter-widgets/controls",
            "_model_module_version": "1.5.0",
            "_model_name": "ProgressStyleModel",
            "_view_count": null,
            "_view_module": "@jupyter-widgets/base",
            "_view_module_version": "1.2.0",
            "_view_name": "StyleView",
            "bar_color": null,
            "description_width": ""
          }
        },
        "d1ed7378e69a40fe97a05e912e6339c5": {
          "model_module": "@jupyter-widgets/controls",
          "model_module_version": "1.5.0",
          "model_name": "DescriptionStyleModel",
          "state": {
            "_model_module": "@jupyter-widgets/controls",
            "_model_module_version": "1.5.0",
            "_model_name": "DescriptionStyleModel",
            "_view_count": null,
            "_view_module": "@jupyter-widgets/base",
            "_view_module_version": "1.2.0",
            "_view_name": "StyleView",
            "description_width": ""
          }
        },
        "d252b9c35509497ca0bdee4af24ae6dd": {
          "model_module": "@jupyter-widgets/controls",
          "model_module_version": "1.5.0",
          "model_name": "HTMLModel",
          "state": {
            "_dom_classes": [],
            "_model_module": "@jupyter-widgets/controls",
            "_model_module_version": "1.5.0",
            "_model_name": "HTMLModel",
            "_view_count": null,
            "_view_module": "@jupyter-widgets/controls",
            "_view_module_version": "1.5.0",
            "_view_name": "HTMLView",
            "description": "",
            "description_tooltip": null,
            "layout": "IPY_MODEL_e7fc56c627cf4c8eb2e62086edafaf5c",
            "placeholder": "​",
            "style": "IPY_MODEL_8a46887c18654709bf3e02817d246961",
            "value": "tokenizer_config.json: 100%"
          }
        },
        "d786c75d26fc4883a73f3de4862e0e40": {
          "model_module": "@jupyter-widgets/controls",
          "model_module_version": "1.5.0",
          "model_name": "HTMLModel",
          "state": {
            "_dom_classes": [],
            "_model_module": "@jupyter-widgets/controls",
            "_model_module_version": "1.5.0",
            "_model_name": "HTMLModel",
            "_view_count": null,
            "_view_module": "@jupyter-widgets/controls",
            "_view_module_version": "1.5.0",
            "_view_name": "HTMLView",
            "description": "",
            "description_tooltip": null,
            "layout": "IPY_MODEL_3fecfebc25784e21ab17e5e78c9c29fd",
            "placeholder": "​",
            "style": "IPY_MODEL_a8e7be021d10475c900da256c70c4d0d",
            "value": " 440M/440M [00:05&lt;00:00, 87.5MB/s]"
          }
        },
        "e301e3c52dd249b0a45de6963bf284ff": {
          "model_module": "@jupyter-widgets/controls",
          "model_module_version": "1.5.0",
          "model_name": "HTMLModel",
          "state": {
            "_dom_classes": [],
            "_model_module": "@jupyter-widgets/controls",
            "_model_module_version": "1.5.0",
            "_model_name": "HTMLModel",
            "_view_count": null,
            "_view_module": "@jupyter-widgets/controls",
            "_view_module_version": "1.5.0",
            "_view_name": "HTMLView",
            "description": "",
            "description_tooltip": null,
            "layout": "IPY_MODEL_89c3d6e440e144d694ef500a033ee480",
            "placeholder": "​",
            "style": "IPY_MODEL_6d0952bdf189401cbf027370bef57fae",
            "value": "config.json: 100%"
          }
        },
        "e778c13cf3f44b17aacba56030af76b2": {
          "model_module": "@jupyter-widgets/base",
          "model_module_version": "1.2.0",
          "model_name": "LayoutModel",
          "state": {
            "_model_module": "@jupyter-widgets/base",
            "_model_module_version": "1.2.0",
            "_model_name": "LayoutModel",
            "_view_count": null,
            "_view_module": "@jupyter-widgets/base",
            "_view_module_version": "1.2.0",
            "_view_name": "LayoutView",
            "align_content": null,
            "align_items": null,
            "align_self": null,
            "border": null,
            "bottom": null,
            "display": null,
            "flex": null,
            "flex_flow": null,
            "grid_area": null,
            "grid_auto_columns": null,
            "grid_auto_flow": null,
            "grid_auto_rows": null,
            "grid_column": null,
            "grid_gap": null,
            "grid_row": null,
            "grid_template_areas": null,
            "grid_template_columns": null,
            "grid_template_rows": null,
            "height": null,
            "justify_content": null,
            "justify_items": null,
            "left": null,
            "margin": null,
            "max_height": null,
            "max_width": null,
            "min_height": null,
            "min_width": null,
            "object_fit": null,
            "object_position": null,
            "order": null,
            "overflow": null,
            "overflow_x": null,
            "overflow_y": null,
            "padding": null,
            "right": null,
            "top": null,
            "visibility": null,
            "width": null
          }
        },
        "e7fc56c627cf4c8eb2e62086edafaf5c": {
          "model_module": "@jupyter-widgets/base",
          "model_module_version": "1.2.0",
          "model_name": "LayoutModel",
          "state": {
            "_model_module": "@jupyter-widgets/base",
            "_model_module_version": "1.2.0",
            "_model_name": "LayoutModel",
            "_view_count": null,
            "_view_module": "@jupyter-widgets/base",
            "_view_module_version": "1.2.0",
            "_view_name": "LayoutView",
            "align_content": null,
            "align_items": null,
            "align_self": null,
            "border": null,
            "bottom": null,
            "display": null,
            "flex": null,
            "flex_flow": null,
            "grid_area": null,
            "grid_auto_columns": null,
            "grid_auto_flow": null,
            "grid_auto_rows": null,
            "grid_column": null,
            "grid_gap": null,
            "grid_row": null,
            "grid_template_areas": null,
            "grid_template_columns": null,
            "grid_template_rows": null,
            "height": null,
            "justify_content": null,
            "justify_items": null,
            "left": null,
            "margin": null,
            "max_height": null,
            "max_width": null,
            "min_height": null,
            "min_width": null,
            "object_fit": null,
            "object_position": null,
            "order": null,
            "overflow": null,
            "overflow_x": null,
            "overflow_y": null,
            "padding": null,
            "right": null,
            "top": null,
            "visibility": null,
            "width": null
          }
        },
        "f4cdbf4bf6ed48af9226e61ffed174da": {
          "model_module": "@jupyter-widgets/base",
          "model_module_version": "1.2.0",
          "model_name": "LayoutModel",
          "state": {
            "_model_module": "@jupyter-widgets/base",
            "_model_module_version": "1.2.0",
            "_model_name": "LayoutModel",
            "_view_count": null,
            "_view_module": "@jupyter-widgets/base",
            "_view_module_version": "1.2.0",
            "_view_name": "LayoutView",
            "align_content": null,
            "align_items": null,
            "align_self": null,
            "border": null,
            "bottom": null,
            "display": null,
            "flex": null,
            "flex_flow": null,
            "grid_area": null,
            "grid_auto_columns": null,
            "grid_auto_flow": null,
            "grid_auto_rows": null,
            "grid_column": null,
            "grid_gap": null,
            "grid_row": null,
            "grid_template_areas": null,
            "grid_template_columns": null,
            "grid_template_rows": null,
            "height": null,
            "justify_content": null,
            "justify_items": null,
            "left": null,
            "margin": null,
            "max_height": null,
            "max_width": null,
            "min_height": null,
            "min_width": null,
            "object_fit": null,
            "object_position": null,
            "order": null,
            "overflow": null,
            "overflow_x": null,
            "overflow_y": null,
            "padding": null,
            "right": null,
            "top": null,
            "visibility": null,
            "width": null
          }
        },
        "f519fa25f6dd47e6b68f27e91dde698e": {
          "model_module": "@jupyter-widgets/controls",
          "model_module_version": "1.5.0",
          "model_name": "FloatProgressModel",
          "state": {
            "_dom_classes": [],
            "_model_module": "@jupyter-widgets/controls",
            "_model_module_version": "1.5.0",
            "_model_name": "FloatProgressModel",
            "_view_count": null,
            "_view_module": "@jupyter-widgets/controls",
            "_view_module_version": "1.5.0",
            "_view_name": "ProgressView",
            "bar_style": "success",
            "description": "",
            "description_tooltip": null,
            "layout": "IPY_MODEL_5e966657890f42d59d8f9a177e505f92",
            "max": 466062,
            "min": 0,
            "orientation": "horizontal",
            "style": "IPY_MODEL_1a6ab2a4ee84419fbb365e6d65d97dc0",
            "value": 466062
          }
        },
        "f7131dbc338c403e8fdc5db929aa2bd7": {
          "model_module": "@jupyter-widgets/controls",
          "model_module_version": "1.5.0",
          "model_name": "HTMLModel",
          "state": {
            "_dom_classes": [],
            "_model_module": "@jupyter-widgets/controls",
            "_model_module_version": "1.5.0",
            "_model_name": "HTMLModel",
            "_view_count": null,
            "_view_module": "@jupyter-widgets/controls",
            "_view_module_version": "1.5.0",
            "_view_name": "HTMLView",
            "description": "",
            "description_tooltip": null,
            "layout": "IPY_MODEL_b84e403f522d4d029d31613880689160",
            "placeholder": "​",
            "style": "IPY_MODEL_4d81dd23b8bf42728e7684cf1863b6ac",
            "value": " 466k/466k [00:00&lt;00:00, 4.77MB/s]"
          }
        }
      }
    }
  },
  "nbformat": 4,
  "nbformat_minor": 0
}
