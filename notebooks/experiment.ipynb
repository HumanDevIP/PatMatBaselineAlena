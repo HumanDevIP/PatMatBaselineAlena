{
  "cells": [
    {
      "cell_type": "code",
      "execution_count": 1,
      "metadata": {
        "id": "l8CTD3NQXUCQ"
      },
      "outputs": [],
      "source": [
        "import os\n",
        "import sys"
      ]
    },
    {
      "cell_type": "code",
      "execution_count": 2,
      "metadata": {
        "id": "wmBr9D0wXUCT"
      },
      "outputs": [],
      "source": [
        "def is_colab():\n",
        "    try:\n",
        "        import google.colab\n",
        "        return True\n",
        "    except ImportError:\n",
        "        return False"
      ]
    },
    {
      "cell_type": "code",
      "execution_count": 3,
      "metadata": {
        "colab": {
          "base_uri": "https://localhost:8080/"
        },
        "id": "yqxhuyYhPpAZ",
        "outputId": "5a4991f5-cb28-4799-9667-3232f3bb9ca6"
      },
      "outputs": [
        {
          "name": "stdout",
          "output_type": "stream",
          "text": [
            "Drive already mounted at /content/drive; to attempt to forcibly remount, call drive.mount(\"/content/drive\", force_remount=True).\n",
            "/content/drive/MyDrive/PatMatBaselineAlena\n"
          ]
        }
      ],
      "source": [
        "#synchronize the environments pathes\n",
        "if is_colab():\n",
        "    from google.colab import drive\n",
        "    drive.mount('/content/drive')\n",
        "\n",
        "    # code required by Colab\n",
        "    %cd /content/drive/MyDrive/PatMatBaselineAlena\n",
        "\n",
        "    root_dir = '/content/drive/MyDrive/PatMatBaselineAlena'\n",
        "else:\n",
        "    current_dir = os.getcwd()\n",
        "    if current_dir.endswith(\"notebooks\"):\n",
        "        root_dir = '..'\n",
        "        %cd ..\n",
        "    else:\n",
        "        root_dir = '.'"
      ]
    },
    {
      "cell_type": "code",
      "execution_count": 4,
      "metadata": {
        "colab": {
          "base_uri": "https://localhost:8080/"
        },
        "id": "bGVa2HQtXUCW",
        "outputId": "d862b97b-eecc-42fd-8fee-e8e9dd6a6764"
      },
      "outputs": [
        {
          "name": "stdout",
          "output_type": "stream",
          "text": [
            "/content/drive/MyDrive/PatMatBaselineAlena\n"
          ]
        }
      ],
      "source": [
        "current_dir = os.getcwd()\n",
        "print(current_dir)"
      ]
    },
    {
      "cell_type": "code",
      "execution_count": 5,
      "metadata": {
        "id": "E6U4sZTHXUCb"
      },
      "outputs": [],
      "source": [
        "sys.path.append(current_dir)"
      ]
    },
    {
      "cell_type": "code",
      "execution_count": null,
      "metadata": {
        "colab": {
          "base_uri": "https://localhost:8080/"
        },
        "id": "zwd6ein0kqNe",
        "outputId": "ce94a571-1167-4776-9553-a55f048a4a97"
      },
      "outputs": [],
      "source": [
        "# install requirements\n",
        "%pip install -r requirements.txt"
      ]
    },
    {
      "cell_type": "code",
      "execution_count": 7,
      "metadata": {
        "id": "EN_w15otVkuJ"
      },
      "outputs": [],
      "source": [
        "import json\n",
        "from datetime import datetime\n",
        "import torch\n",
        "import torch.optim as optim\n",
        "from torch.utils.data import DataLoader, TensorDataset\n",
        "from sklearn.metrics import accuracy_score, confusion_matrix, f1_score, precision_score, recall_score, matthews_corrcoef\n",
        "import matplotlib.pyplot as plt\n",
        "import numpy as np\n",
        "import mlflow"
      ]
    },
    {
      "cell_type": "code",
      "execution_count": 8,
      "metadata": {
        "id": "Bq0bO91nhq4d"
      },
      "outputs": [],
      "source": [
        "# # this code uploads the credentials to MLflow given in the .env file\n",
        "from src.settings import (\n",
        "    MLFLOW_TRACKING_URI,\n",
        "    MLFLOW_TRACKING_USERNAME,\n",
        "    MLFLOW_TRACKING_PASSWORD\n",
        ")"
      ]
    },
    {
      "cell_type": "code",
      "execution_count": 9,
      "metadata": {
        "colab": {
          "base_uri": "https://localhost:8080/"
        },
        "id": "VfmPDll8XUCe",
        "outputId": "ed25dd91-392c-488b-d60b-0d249bb9cc6d"
      },
      "outputs": [
        {
          "name": "stdout",
          "output_type": "stream",
          "text": [
            "Alena\n"
          ]
        }
      ],
      "source": [
        "#ensure path is set correctly and imports are correct\n",
        "print(MLFLOW_TRACKING_USERNAME)"
      ]
    },
    {
      "cell_type": "code",
      "execution_count": 10,
      "metadata": {
        "colab": {
          "base_uri": "https://localhost:8080/"
        },
        "id": "wycUH2L0Vokl",
        "outputId": "31023018-82ea-4e4d-e3e7-d4d3d5a92336"
      },
      "outputs": [
        {
          "data": {
            "text/plain": [
              "device(type='cuda')"
            ]
          },
          "execution_count": 10,
          "metadata": {},
          "output_type": "execute_result"
        }
      ],
      "source": [
        "# Check if GPU is available and set the device\n",
        "device = torch.device(\"cuda\" if torch.cuda.is_available() else \"cpu\")\n",
        "device"
      ]
    },
    {
      "cell_type": "code",
      "execution_count": 11,
      "metadata": {
        "id": "4cFafKzYiDCA"
      },
      "outputs": [],
      "source": [
        "# Type either \"roberta-base\" or 'bert-base-uncased' here\n",
        "model_name = \"roberta-base\""
      ]
    },
    {
      "cell_type": "code",
      "execution_count": null,
      "metadata": {
        "colab": {
          "base_uri": "https://localhost:8080/"
        },
        "id": "MDZBYI4BiDCA",
        "outputId": "2f3c4bd3-5233-404f-aee5-ba1322ddc3aa"
      },
      "outputs": [],
      "source": [
        "if model_name == \"roberta-base\":\n",
        "    # Load the tokenizer\n",
        "    from transformers import AutoTokenizer, AutoModelForSequenceClassification\n",
        "    tokenizer = AutoTokenizer.from_pretrained(\"roberta-base\")\n",
        "    # Load the pre-trained ROBERTA model for sequence classification\n",
        "    model = AutoModelForSequenceClassification.from_pretrained(\"roberta-base\", num_labels=2)\n",
        "else:\n",
        "    from transformers import BertTokenizer, BertForSequenceClassification\n",
        "    # Load the tokenizer\n",
        "    tokenizer = BertTokenizer.from_pretrained('bert-base-uncased')\n",
        "    # Load the pre-trained BERT model for sequence classification\n",
        "    model = BertForSequenceClassification.from_pretrained('bert-base-uncased', num_labels=2)"
      ]
    },
    {
      "cell_type": "code",
      "execution_count": 13,
      "metadata": {
        "id": "IzOLicU3w3c8"
      },
      "outputs": [],
      "source": [
        "def print_memory_usage():\n",
        "    print(f\"Memory Allocated: {torch.cuda.memory_allocated() / 1024**2:.2f} MB\")\n",
        "    print(f\"Memory Reserved: {torch.cuda.memory_reserved() / 1024**2:.2f} MB\")"
      ]
    },
    {
      "cell_type": "code",
      "execution_count": 14,
      "metadata": {
        "colab": {
          "base_uri": "https://localhost:8080/"
        },
        "id": "aTeffGmQw888",
        "outputId": "395ee14f-9614-4ed6-df95-d4894d458865"
      },
      "outputs": [
        {
          "name": "stdout",
          "output_type": "stream",
          "text": [
            "Before loading model:\n",
            "Memory Allocated: 0.00 MB\n",
            "Memory Reserved: 0.00 MB\n"
          ]
        }
      ],
      "source": [
        "print(\"Before loading model:\")\n",
        "print_memory_usage()"
      ]
    },
    {
      "cell_type": "code",
      "execution_count": 15,
      "metadata": {
        "colab": {
          "base_uri": "https://localhost:8080/"
        },
        "id": "Cin8Nmy0Siys",
        "outputId": "cb2aa046-4e8a-418b-a038-f4ca97b15c42"
      },
      "outputs": [
        {
          "data": {
            "text/plain": [
              "RobertaForSequenceClassification(\n",
              "  (roberta): RobertaModel(\n",
              "    (embeddings): RobertaEmbeddings(\n",
              "      (word_embeddings): Embedding(50265, 768, padding_idx=1)\n",
              "      (position_embeddings): Embedding(514, 768, padding_idx=1)\n",
              "      (token_type_embeddings): Embedding(1, 768)\n",
              "      (LayerNorm): LayerNorm((768,), eps=1e-05, elementwise_affine=True)\n",
              "      (dropout): Dropout(p=0.1, inplace=False)\n",
              "    )\n",
              "    (encoder): RobertaEncoder(\n",
              "      (layer): ModuleList(\n",
              "        (0-11): 12 x RobertaLayer(\n",
              "          (attention): RobertaAttention(\n",
              "            (self): RobertaSelfAttention(\n",
              "              (query): Linear(in_features=768, out_features=768, bias=True)\n",
              "              (key): Linear(in_features=768, out_features=768, bias=True)\n",
              "              (value): Linear(in_features=768, out_features=768, bias=True)\n",
              "              (dropout): Dropout(p=0.1, inplace=False)\n",
              "            )\n",
              "            (output): RobertaSelfOutput(\n",
              "              (dense): Linear(in_features=768, out_features=768, bias=True)\n",
              "              (LayerNorm): LayerNorm((768,), eps=1e-05, elementwise_affine=True)\n",
              "              (dropout): Dropout(p=0.1, inplace=False)\n",
              "            )\n",
              "          )\n",
              "          (intermediate): RobertaIntermediate(\n",
              "            (dense): Linear(in_features=768, out_features=3072, bias=True)\n",
              "            (intermediate_act_fn): GELUActivation()\n",
              "          )\n",
              "          (output): RobertaOutput(\n",
              "            (dense): Linear(in_features=3072, out_features=768, bias=True)\n",
              "            (LayerNorm): LayerNorm((768,), eps=1e-05, elementwise_affine=True)\n",
              "            (dropout): Dropout(p=0.1, inplace=False)\n",
              "          )\n",
              "        )\n",
              "      )\n",
              "    )\n",
              "  )\n",
              "  (classifier): RobertaClassificationHead(\n",
              "    (dense): Linear(in_features=768, out_features=768, bias=True)\n",
              "    (dropout): Dropout(p=0.1, inplace=False)\n",
              "    (out_proj): Linear(in_features=768, out_features=2, bias=True)\n",
              "  )\n",
              ")"
            ]
          },
          "execution_count": 15,
          "metadata": {},
          "output_type": "execute_result"
        }
      ],
      "source": [
        "# Move the model to the proper device\n",
        "model.to(device)"
      ]
    },
    {
      "cell_type": "code",
      "execution_count": 16,
      "metadata": {
        "colab": {
          "base_uri": "https://localhost:8080/"
        },
        "id": "UxiCdi2UxNKr",
        "outputId": "8f7fa309-a761-43e3-bb1c-68cc369015d5"
      },
      "outputs": [
        {
          "name": "stdout",
          "output_type": "stream",
          "text": [
            "After loading model:\n",
            "Memory Allocated: 476.73 MB\n",
            "Memory Reserved: 530.00 MB\n"
          ]
        }
      ],
      "source": [
        "print(\"After loading model:\")\n",
        "print_memory_usage()"
      ]
    },
    {
      "cell_type": "code",
      "execution_count": 18,
      "metadata": {
        "colab": {
          "base_uri": "https://localhost:8080/"
        },
        "id": "CGf6o3nBoRTp",
        "outputId": "df980bf3-765f-4768-f75c-8ce163de92cd"
      },
      "outputs": [
        {
          "name": "stdout",
          "output_type": "stream",
          "text": [
            "The maximum sequence length for this BERT model is: 512\n"
          ]
        }
      ],
      "source": [
        "print(f\"The maximum sequence length for this BERT model is: {tokenizer.model_max_length}\")"
      ]
    },
    {
      "cell_type": "code",
      "execution_count": 19,
      "metadata": {
        "id": "qKfcOZM9Wduw"
      },
      "outputs": [],
      "source": [
        "def load_jsonl(filename):\n",
        "    data = []\n",
        "    with open(filename, 'r') as f:\n",
        "        for line in f:\n",
        "            data.append(json.loads(line))\n",
        "    return data\n",
        "\n",
        "train_data = load_jsonl('data/train.jsonl')\n",
        "validation_data = load_jsonl('data/validation.jsonl')\n",
        "test_data = load_jsonl('data/test.jsonl')\n",
        "\n",
        "\n",
        "# Prepare the texts and labels\n",
        "train_texts = [(item['text'], item['text_b']) for item in train_data]\n",
        "train_labels = [item['label'] for item in train_data]\n",
        "validation_texts = [(item['text'], item['text_b']) for item in validation_data]\n",
        "validation_labels = [item['label'] for item in validation_data]\n",
        "test_texts = [(item['text'], item['text_b']) for item in test_data]\n",
        "test_labels = [item['label'] for item in test_data]"
      ]
    },
    {
      "cell_type": "code",
      "execution_count": 20,
      "metadata": {
        "colab": {
          "base_uri": "https://localhost:8080/"
        },
        "id": "ixDq07t0fwAr",
        "outputId": "f05fd475-d03d-4b23-a328-f6816b823d83"
      },
      "outputs": [
        {
          "data": {
            "text/plain": [
              "(2304, 2304, 577, 577, 769, 769)"
            ]
          },
          "execution_count": 20,
          "metadata": {},
          "output_type": "execute_result"
        }
      ],
      "source": [
        "#check lengths\n",
        "len(train_texts), len(train_labels), len(validation_texts), len(validation_labels), len(test_texts), len(test_labels)"
      ]
    },
    {
      "cell_type": "code",
      "execution_count": 21,
      "metadata": {
        "id": "TJjzfcB-9deF"
      },
      "outputs": [],
      "source": [
        "# If you don't have a GPU, limit the amount of data\n",
        "if device.type == 'cpu':\n",
        "    train_texts = train_texts[:10]\n",
        "    train_labels = train_labels[:10]\n",
        "    validation_texts = validation_texts[:10]\n",
        "    validation_labels = validation_labels[:10]\n",
        "    test_texts = test_texts[:10]\n",
        "    test_labels = test_labels[:10]"
      ]
    },
    {
      "cell_type": "code",
      "execution_count": 22,
      "metadata": {
        "id": "Rks1st2bNzFr"
      },
      "outputs": [],
      "source": [
        "def explore_text_lengths(texts, index):\n",
        "    mapping = {\n",
        "        0: \"Train set\",\n",
        "        1: \"Validation set\",\n",
        "        2: \"Test set\"\n",
        "    }\n",
        "\n",
        "    print(f\"{mapping[index]}\")\n",
        "\n",
        "    # Calculate token lengths using the tokenizer\n",
        "    token_lengths = [len(tokenizer.encode(item[0], item[1], truncation=False, add_special_tokens=True)) for item in texts]\n",
        "\n",
        "    sorted_lengths = np.sort(token_lengths)\n",
        "    percentile_95_length = np.percentile(sorted_lengths, 95)\n",
        "    print(f\"The number of tokens at which 95% of the texts fit is: {percentile_95_length}\")\n",
        "\n",
        "    max_length = 512  # You can adjust this value as needed\n",
        "    num_texts_below_given_length = np.sum(sorted_lengths <= max_length)\n",
        "    percentage_texts_below_given_length = (num_texts_below_given_length / len(sorted_lengths)) * 100\n",
        "    print(f\"The percentage of combined texts below {max_length} tokens is: {percentage_texts_below_given_length:.2f}%\")\n",
        "\n",
        "    max_index = [(i, length) for (i, length) in enumerate(token_lengths) if length > max_length]\n",
        "    print(f\"The number of examples where combined text will be truncated (> {max_length} tokens) is: {len(max_index)}\")\n",
        "\n",
        "    # Visualize the distribution of the lengths of the combined texts\n",
        "    plt.hist(token_lengths, bins=100)\n",
        "    plt.axvline(percentile_95_length, color='r', linestyle='dashed', linewidth=1)\n",
        "    plt.title(f'Distribution of Combined Text Lengths, {mapping[index]}')\n",
        "    plt.xlabel('Length (number of tokens)')\n",
        "    plt.ylabel('Frequency')\n",
        "    plt.show()"
      ]
    },
    {
      "cell_type": "code",
      "execution_count": 23,
      "metadata": {
        "colab": {
          "base_uri": "https://localhost:8080/",
          "height": 1000
        },
        "id": "lkZd-yNfXUCi",
        "outputId": "1dee69a6-63f4-4b39-da91-a486f0489e66"
      },
      "outputs": [
        {
          "name": "stdout",
          "output_type": "stream",
          "text": [
            "Train set\n"
          ]
        },
        {
          "name": "stderr",
          "output_type": "stream",
          "text": [
            "Token indices sequence length is longer than the specified maximum sequence length for this model (890 > 512). Running this sequence through the model will result in indexing errors\n"
          ]
        },
        {
          "name": "stdout",
          "output_type": "stream",
          "text": [
            "The number of tokens at which 95% of the texts fit is: 383.0\n",
            "The percentage of combined texts below 512 tokens is: 98.57%\n",
            "The number of examples where combined text will be truncated (> 512 tokens) is: 33\n"
          ]
        },
        {
          "data": {
            "image/png": "[encoded data removed]",
            "text/plain": [
              "<Figure size 640x480 with 1 Axes>"
            ]
          },
          "metadata": {},
          "output_type": "display_data"
        },
        {
          "name": "stdout",
          "output_type": "stream",
          "text": [
            "Validation set\n",
            "The number of tokens at which 95% of the texts fit is: 346.7999999999997\n",
            "The percentage of combined texts below 512 tokens is: 99.13%\n",
            "The number of examples where combined text will be truncated (> 512 tokens) is: 5\n"
          ]
        },
        {
          "data": {
            "image/png": "[encoded data removed]",
            "text/plain": [
              "<Figure size 640x480 with 1 Axes>"
            ]
          },
          "metadata": {},
          "output_type": "display_data"
        },
        {
          "name": "stdout",
          "output_type": "stream",
          "text": [
            "Test set\n",
            "The number of tokens at which 95% of the texts fit is: 387.1999999999998\n",
            "The percentage of combined texts below 512 tokens is: 99.09%\n",
            "The number of examples where combined text will be truncated (> 512 tokens) is: 7\n"
          ]
        },
        {
          "data": {
            "image/png": "[encoded data removed]",
            "text/plain": [
              "<Figure size 640x480 with 1 Axes>"
            ]
          },
          "metadata": {},
          "output_type": "display_data"
        }
      ],
      "source": [
        "for i, texts in enumerate([train_texts, validation_texts, test_texts]):\n",
        "    explore_text_lengths(texts, i)"
      ]
    },
    {
      "cell_type": "code",
      "execution_count": 24,
      "metadata": {
        "id": "djQG6qeN9spm"
      },
      "outputs": [],
      "source": [
        "#specify hyperparameters\n",
        "config = {\n",
        "    'learning_rate': 1e-5,\n",
        "    'lr_scheduler': \"StepLR\",\n",
        "    'gamma': 0.5,\n",
        "    'step_size': 1,\n",
        "    'batch_size': 16,\n",
        "    'num_epochs': 4,\n",
        "    'max_length': 512,\n",
        "    'test_size': 0.2,\n",
        "    'random_state': 42,\n",
        "    'base_model': model_name\n",
        "}"
      ]
    },
    {
      "cell_type": "code",
      "execution_count": 25,
      "metadata": {
        "id": "BRqHCXhzW9k8"
      },
      "outputs": [],
      "source": [
        "#tokenize the dataset\n",
        "train_encodings = tokenizer(train_texts, padding=True, truncation=True, return_tensors=\"pt\", max_length=config['max_length'])\n",
        "validation_encodings = tokenizer(validation_texts, padding=True, truncation=True, return_tensors=\"pt\", max_length=config['max_length'])\n",
        "test_encodings = tokenizer(test_texts, padding=True, truncation=True, return_tensors=\"pt\", max_length=config['max_length'])\n",
        "\n",
        "train_input_ids = train_encodings['input_ids']\n",
        "train_attention_mask = train_encodings['attention_mask']\n",
        "\n",
        "validation_input_ids = validation_encodings['input_ids']\n",
        "validation_attention_mask = validation_encodings['attention_mask']\n",
        "\n",
        "test_input_ids = test_encodings['input_ids']\n",
        "test_attention_mask = test_encodings['attention_mask']\n",
        "\n",
        "# Convert labels to tensors\n",
        "train_labels = torch.tensor(train_labels, dtype=torch.long)\n",
        "validation_labels = torch.tensor(validation_labels, dtype=torch.long)\n",
        "test_labels = torch.tensor(test_labels, dtype=torch.long)"
      ]
    },
    {
      "cell_type": "code",
      "execution_count": null,
      "metadata": {
        "colab": {
          "base_uri": "https://localhost:8080/"
        },
        "id": "3t0T1oeqXUCj",
        "outputId": "fe1bad06-0b58-4bf8-db27-34e4bca913d5"
      },
      "outputs": [],
      "source": [
        "#check correctness of the tkenization\n",
        "decoded = tokenizer.decode(train_encodings[\"input_ids\"][0])\n",
        "print(len(train_encodings[\"input_ids\"][0]))\n",
        "at_mask = train_encodings[\"attention_mask\"][0]\n",
        "print(at_mask)"
      ]
    },
    {
      "cell_type": "code",
      "execution_count": 27,
      "metadata": {
        "colab": {
          "base_uri": "https://localhost:8080/"
        },
        "id": "Uu3594sXXrBP",
        "outputId": "b076c435-9abd-469d-951e-e819a5e36a76"
      },
      "outputs": [
        {
          "data": {
            "text/plain": [
              "(torch.Size([2304, 512]),\n",
              " torch.Size([2304, 512]),\n",
              " torch.Size([577, 512]),\n",
              " torch.Size([577, 512]),\n",
              " torch.Size([769, 512]),\n",
              " torch.Size([769, 512]))"
            ]
          },
          "execution_count": 27,
          "metadata": {},
          "output_type": "execute_result"
        }
      ],
      "source": [
        "#check the correct shapes\n",
        "train_input_ids.shape, train_attention_mask.shape, validation_input_ids.shape, validation_attention_mask.shape, test_input_ids.shape, test_attention_mask.shape"
      ]
    },
    {
      "cell_type": "code",
      "execution_count": 28,
      "metadata": {
        "colab": {
          "base_uri": "https://localhost:8080/"
        },
        "id": "ujI85aJTflSe",
        "outputId": "c5560381-13d8-4c55-b8b9-a0cf773a6dd4"
      },
      "outputs": [
        {
          "data": {
            "text/plain": [
              "(torch.Size([2304]), torch.Size([577]), torch.Size([769]))"
            ]
          },
          "execution_count": 28,
          "metadata": {},
          "output_type": "execute_result"
        }
      ],
      "source": [
        "#check the correct shapes\n",
        "train_labels.shape, validation_labels.shape, test_labels.shape"
      ]
    },
    {
      "cell_type": "code",
      "execution_count": 29,
      "metadata": {
        "id": "YHnEqV-jgjxe"
      },
      "outputs": [],
      "source": [
        "#pass data to TensorDataset\n",
        "train_data = TensorDataset(train_input_ids, train_attention_mask, train_labels)\n",
        "validation_data = TensorDataset(validation_input_ids, validation_attention_mask, validation_labels)\n",
        "test_data = TensorDataset(test_input_ids, test_attention_mask, test_labels)"
      ]
    },
    {
      "cell_type": "code",
      "execution_count": 30,
      "metadata": {
        "colab": {
          "base_uri": "https://localhost:8080/"
        },
        "id": "Ijjl-kKSvpJw",
        "outputId": "34b5838a-de67-407e-9649-43a5a0a0d48e"
      },
      "outputs": [
        {
          "data": {
            "text/plain": [
              "(torch.Size([2304, 512]), torch.Size([2304, 512]), torch.Size([2304]))"
            ]
          },
          "execution_count": 30,
          "metadata": {},
          "output_type": "execute_result"
        }
      ],
      "source": [
        "#check the correct shapes\n",
        "train_data.tensors[0].shape, train_data.tensors[1].shape, train_data.tensors[2].shape"
      ]
    },
    {
      "cell_type": "code",
      "execution_count": 31,
      "metadata": {
        "colab": {
          "base_uri": "https://localhost:8080/"
        },
        "id": "RjfnUdNxXUCl",
        "outputId": "1bf2bbd6-0501-4db2-88e2-4557b346691e"
      },
      "outputs": [
        {
          "data": {
            "text/plain": [
              "(torch.Size([577, 512]), torch.Size([577, 512]), torch.Size([577]))"
            ]
          },
          "execution_count": 31,
          "metadata": {},
          "output_type": "execute_result"
        }
      ],
      "source": [
        "#check the correct shapes\n",
        "validation_data.tensors[0].shape, validation_data.tensors[1].shape, validation_data.tensors[2].shape"
      ]
    },
    {
      "cell_type": "code",
      "execution_count": 32,
      "metadata": {
        "colab": {
          "base_uri": "https://localhost:8080/"
        },
        "id": "eaQ6MpRJiDCC",
        "outputId": "7a8c501e-62ce-4e15-a092-d7d0272be709"
      },
      "outputs": [
        {
          "data": {
            "text/plain": [
              "(torch.Size([769, 512]), torch.Size([769, 512]), torch.Size([769]))"
            ]
          },
          "execution_count": 32,
          "metadata": {},
          "output_type": "execute_result"
        }
      ],
      "source": [
        "#check the correct shapes\n",
        "test_data.tensors[0].shape, test_data.tensors[1].shape, test_data.tensors[2].shape"
      ]
    },
    {
      "cell_type": "code",
      "execution_count": 33,
      "metadata": {
        "id": "dW3f6u63gl3e"
      },
      "outputs": [],
      "source": [
        "#pass data to DataLoader\n",
        "train_dataloader = DataLoader(train_data, batch_size=config[\"batch_size\"])\n",
        "validation_dataloader = DataLoader(validation_data, batch_size=config[\"batch_size\"])\n",
        "test_dataloader = DataLoader(test_data, batch_size=config[\"batch_size\"])"
      ]
    },
    {
      "cell_type": "code",
      "execution_count": 34,
      "metadata": {
        "colab": {
          "base_uri": "https://localhost:8080/"
        },
        "id": "a-_3bqnVuG5E",
        "outputId": "94010985-d49d-4af6-b88c-ed88cbf71a3b"
      },
      "outputs": [
        {
          "name": "stdout",
          "output_type": "stream",
          "text": [
            "torch.Size([16, 512]) torch.Size([16, 512]) torch.Size([16])\n"
          ]
        }
      ],
      "source": [
        "#check the correct shapes\n",
        "for batch in train_dataloader:\n",
        "    print(batch[0].shape, batch[1].shape, batch[2].shape)\n",
        "    break"
      ]
    },
    {
      "cell_type": "code",
      "execution_count": 35,
      "metadata": {
        "id": "5f7iNasHV-lx"
      },
      "outputs": [],
      "source": [
        "# Define the optimizer and scheduler\n",
        "optimizer = optim.AdamW(model.parameters(), lr=config['learning_rate'])\n",
        "scheduler = optim.lr_scheduler.StepLR(optimizer, step_size=config['step_size'], gamma=config['gamma'])"
      ]
    },
    {
      "cell_type": "code",
      "execution_count": 36,
      "metadata": {
        "id": "CnPWjaySr_EG"
      },
      "outputs": [],
      "source": [
        "user = MLFLOW_TRACKING_USERNAME\n",
        "experiment_name = 'Alena_PatentMatchBaseline'\n",
        "\n",
        "\n",
        "def timestamp():\n",
        "    \"\"\"This function creates current timestamp\"\"\"\n",
        "    return datetime.now().strftime(\"%Y_%m_%d_%H%M_%S\")"
      ]
    },
    {
      "cell_type": "code",
      "execution_count": 37,
      "metadata": {
        "id": "Ehg7IamOCLsH"
      },
      "outputs": [],
      "source": [
        "#set up the mlflow experiment\n",
        "experiment = mlflow.get_experiment_by_name(experiment_name)\n",
        "if experiment is None or experiment.lifecycle_stage == 'deleted':\n",
        "    mlflow.create_experiment(experiment_name)\n",
        "    experiment = mlflow.get_experiment_by_name(experiment_name)"
      ]
    },
    {
      "cell_type": "code",
      "execution_count": 38,
      "metadata": {
        "id": "r0TnzRGKXUCo"
      },
      "outputs": [],
      "source": [
        "#specify the directory to save the finetuned model\n",
        "model_save_path = f'models/{timestamp()}'\n",
        "\n",
        "if not os.path.exists(model_save_path):\n",
        "    os.makedirs(model_save_path)"
      ]
    },
    {
      "cell_type": "code",
      "execution_count": 39,
      "metadata": {
        "id": "7PkMxr6LiDCD"
      },
      "outputs": [],
      "source": [
        "def calculate_and_log_train_metrics_and_hp(train_loss, epoch):\n",
        "    # Log the average training loss for the epoch\n",
        "    avg_train_loss = train_loss / len(train_dataloader)\n",
        "    mlflow.log_metric(\"train_loss\", avg_train_loss, step=epoch)\n",
        "    print(f\"Average training loss for epoch {epoch + 1}: {avg_train_loss}\")\n",
        "\n",
        "    # Log the current learning rate\n",
        "    current_lr = optimizer.param_groups[0]['lr']\n",
        "    mlflow.log_metric(\"learning_rate\", current_lr, step=epoch)\n",
        "    print(f\"Current learning rate for epoch {epoch + 1}: {current_lr}\")"
      ]
    },
    {
      "cell_type": "code",
      "execution_count": 40,
      "metadata": {
        "id": "ab22PDh-iDCD"
      },
      "outputs": [],
      "source": [
        "def calculate_and_log_metrics(true_labels, predictions, epoch=None, test=False):\n",
        "    step = \"test\" if test else \"val\"\n",
        "\n",
        "    # Calculate metrics\n",
        "    accuracy = accuracy_score(true_labels, predictions)\n",
        "    precision = precision_score(true_labels, predictions, zero_division='warn')\n",
        "    recall = recall_score(true_labels, predictions, zero_division=\"warn\")\n",
        "    f1 = f1_score(true_labels, predictions, zero_division=\"warn\")\n",
        "    mcc = matthews_corrcoef(true_labels, predictions)\n",
        "\n",
        "    # Log metrics\n",
        "    mlflow.log_metric(f\"{step}_accuracy\", accuracy, step=epoch)\n",
        "    mlflow.log_metric(f\"{step}_precision\", precision, step=epoch)\n",
        "    mlflow.log_metric(f\"{step}_recall\", recall, step=epoch)\n",
        "    mlflow.log_metric(f\"{step}_f1\", f1, step=epoch)\n",
        "    mlflow.log_metric(f\"{step}_mcc\", mcc, step=epoch)\n",
        "\n",
        "    print(f\"{step} Accuracy: {accuracy}\")\n",
        "    print(f\"{step} Precision: {precision}\")\n",
        "    print(f\"{step} Recall: {recall}\")\n",
        "    print(f\"{step} F1 Score: {f1}\")\n",
        "    print(f\"{step} MCC: {mcc}\")\n",
        "\n",
        "    return mcc"
      ]
    },
    {
      "cell_type": "code",
      "execution_count": 41,
      "metadata": {
        "id": "-hoalHVWiDCD"
      },
      "outputs": [],
      "source": [
        "def calculate_and_log_cm(true_labels, predictions, epoch=None, test=False):\n",
        "    step = \"test\" if test else \"val\"\n",
        "\n",
        "    # Calculate the confusion matrix\n",
        "    cm = confusion_matrix(true_labels, predictions, normalize='true')\n",
        "    cm_filename = f\"artifacts/{step}_{timestamp()}_confusion_matrix_epoch_{epoch}.csv\"\n",
        "    np.savetxt(cm_filename, cm, delimiter=\",\")\n",
        "    mlflow.log_artifact(cm_filename)\n",
        "    print(cm)"
      ]
    },
    {
      "cell_type": "code",
      "execution_count": null,
      "metadata": {
        "colab": {
          "base_uri": "https://localhost:8080/"
        },
        "id": "S78HlfCEjILj",
        "outputId": "955fad25-a50c-4f1e-c02b-0f97911b3a15"
      },
      "outputs": [],
      "source": [
        "with mlflow.start_run(experiment_id=experiment.experiment_id) as run:\n",
        "    run_id = run.info.run_id\n",
        "    for param_name, param_value in config.items():\n",
        "        mlflow.log_param(param_name, param_value)\n",
        "\n",
        "    best_mcc = -1\n",
        "\n",
        "    for epoch in range(config['num_epochs']):  # Number of training epochs\n",
        "        print(f'############### Started {epoch + 1} epoch ###############')\n",
        "\n",
        "        # Set run name\n",
        "        mlflow.set_tag(key='mlflow.runName', value=f'{timestamp()}_{user}')\n",
        "\n",
        "        print(f'Started training on {epoch + 1} epoch')\n",
        "        model.train()\n",
        "        train_loss = 0.0\n",
        "        for batch in train_dataloader:\n",
        "            b_input_ids, b_attention_mask, b_labels = batch\n",
        "\n",
        "            # Move the batch to the proper device\n",
        "            b_input_ids = b_input_ids.to(device)\n",
        "            b_attention_mask = b_attention_mask.to(device)\n",
        "            b_labels = b_labels.to(device)\n",
        "\n",
        "            model.zero_grad()\n",
        "\n",
        "            outputs = model(b_input_ids, attention_mask=b_attention_mask, labels=b_labels)\n",
        "            loss = outputs.loss\n",
        "            loss.backward()\n",
        "\n",
        "            # Clip gradients\n",
        "            torch.nn.utils.clip_grad_norm_(model.parameters(), 1.0)\n",
        "\n",
        "            optimizer.step()\n",
        "            train_loss += loss.item()\n",
        "\n",
        "        calculate_and_log_train_metrics_and_hp(train_loss, epoch)\n",
        "        print(f'Finished training on {epoch + 1} epoch')\n",
        "\n",
        "        # Validation loop\n",
        "        print(f'Started validation on {epoch + 1} epoch')\n",
        "        model.eval()\n",
        "        val_loss = 0.0\n",
        "        val_predictions, val_true_labels = [], []\n",
        "        for batch in validation_dataloader:\n",
        "            b_input_ids, b_attention_mask, b_labels = batch\n",
        "\n",
        "            # Move the batch to the proper device\n",
        "            b_input_ids = b_input_ids.to(device)\n",
        "            b_attention_mask = b_attention_mask.to(device)\n",
        "            b_labels = b_labels.to(device)\n",
        "\n",
        "            with torch.no_grad():\n",
        "                outputs = model(b_input_ids, attention_mask=b_attention_mask, labels=b_labels)\n",
        "\n",
        "            logits = outputs.logits\n",
        "            loss = outputs.loss\n",
        "            val_loss += loss.item()\n",
        "\n",
        "            val_predictions.extend(torch.argmax(logits, dim=1).cpu().tolist())\n",
        "            val_true_labels.extend(b_labels.cpu().tolist())\n",
        "\n",
        "        # Log the average validation loss for the epoch\n",
        "        avg_val_loss = val_loss / len(validation_dataloader)\n",
        "        mlflow.log_metric(\"val_loss\", avg_val_loss, step=epoch)\n",
        "        print(f\"Average validation loss for epoch {epoch + 1}: {avg_val_loss}\")\n",
        "\n",
        "        mcc = calculate_and_log_metrics(val_true_labels, val_predictions, epoch)\n",
        "\n",
        "        # Save the best model based on the Matthew correlation coefficient\n",
        "        if mcc > best_mcc:\n",
        "            best_mcc = mcc\n",
        "            print(f\"New best model with MCC: {best_mcc}\")\n",
        "            best_model_path = os.path.join(model_save_path, \"best\")\n",
        "            if not os.path.exists(best_model_path):\n",
        "                os.makedirs(best_model_path)\n",
        "            model_to_save = model.module if hasattr(model, 'module') else model\n",
        "            model_to_save.save_pretrained(best_model_path)\n",
        "            tokenizer.save_pretrained(best_model_path)\n",
        "\n",
        "        print(f\"Current best Matthew correlation coefficient: {best_mcc}\")\n",
        "\n",
        "        calculate_and_log_cm(val_true_labels, val_predictions, epoch)\n",
        "        print(f'Finished validation on {epoch + 1} epoch')\n",
        "        print(f'############### Finished {epoch + 1} epoch ###############\\n')\n",
        "\n",
        "        # Update the learning rate scheduler\n",
        "        scheduler.step()\n",
        "\n",
        "    last_model_path = os.path.join(model_save_path, \"last\")\n",
        "    if not os.path.exists(last_model_path):\n",
        "        os.makedirs(last_model_path)\n",
        "    model_to_save = model.module if hasattr(model, 'module') else model\n",
        "    model_to_save.save_pretrained(last_model_path)\n",
        "    tokenizer.save_pretrained(last_model_path)\n",
        "\n",
        "mlflow.end_run()"
      ]
    },
    {
      "cell_type": "code",
      "execution_count": null,
      "metadata": {
        "id": "s7SjXYk7GiEk"
      },
      "outputs": [],
      "source": [
        "# Choose the best or the last model for evaluation\n",
        "if os.path.exists(os.path.join(model_save_path, \"best\")) and os.path.isdir(os.path.join(model_save_path, \"best\")):\n",
        "    model_path_for_evaluation = best_model_path\n",
        "    print(\"Evaluation with the best saved model\")\n",
        "else:\n",
        "    model_path_for_evaluation = last_model_path\n",
        "    print(\"Evaluation with the last saved model\")\n",
        "\n",
        "# Download the saved model\n",
        "if model_name == \"roberta-base\":\n",
        "    tokenizer = AutoTokenizer.from_pretrained(model_path_for_evaluation)\n",
        "    model = AutoModelForSequenceClassification.from_pretrained(model_path_for_evaluation)\n",
        "else:\n",
        "    tokenizer = BertTokenizer.from_pretrained(model_path_for_evaluation)\n",
        "    model = BertForSequenceClassification.from_pretrained(model_path_for_evaluation)\n",
        "\n",
        "model.to(device)\n",
        "\n",
        "with mlflow.start_run(run_id=run_id):\n",
        "    # # Evaluate on the test set\n",
        "    print(f'Started evaluation on test set')\n",
        "    model.eval()\n",
        "    test_loss = 0.0\n",
        "    test_predictions, test_true_labels = [], []\n",
        "    for batch in test_dataloader:\n",
        "        b_input_ids, b_attention_mask, b_labels = batch\n",
        "\n",
        "        # Move the batch to the proper device\n",
        "        b_input_ids = b_input_ids.to(device)\n",
        "        b_attention_mask = b_attention_mask.to(device)\n",
        "        b_labels = b_labels.to(device)\n",
        "\n",
        "        with torch.no_grad():\n",
        "            outputs = model(b_input_ids, attention_mask=b_attention_mask, labels=b_labels)\n",
        "\n",
        "        logits = outputs.logits\n",
        "        loss = outputs.loss\n",
        "        test_loss += loss.item()\n",
        "\n",
        "        test_predictions.extend(torch.argmax(logits, dim=1).cpu().tolist())\n",
        "        test_true_labels.extend(b_labels.cpu().tolist())\n",
        "\n",
        "    # Log the average test loss\n",
        "    avg_test_loss = test_loss / len(test_dataloader)\n",
        "    mlflow.log_metric(\"test_loss\", avg_test_loss, config['num_epochs'])\n",
        "    print(f\"Average test loss: {avg_test_loss}\")\n",
        "\n",
        "    calculate_and_log_metrics(test_true_labels, test_predictions, config['num_epochs'], test=True)\n",
        "    calculate_and_log_cm(test_true_labels, test_predictions, config['num_epochs'], test=True)\n",
        "\n",
        "    print(f'Finished evaluation on test set')\n",
        "\n",
        "mlflow.end_run()"
      ]
    }
  ],
  "metadata": {
    "accelerator": "GPU",
    "colab": {
      "gpuType": "T4",
      "provenance": []
    },
    "kernelspec": {
      "display_name": "Python 3",
      "name": "python3"
    },
    "language_info": {
      "codemirror_mode": {
        "name": "ipython",
        "version": 3
      },
      "file_extension": ".py",
      "mimetype": "text/x-python",
      "name": "python",
      "nbconvert_exporter": "python",
      "pygments_lexer": "ipython3",
      "version": "3.11.7"
    }
  },
  "nbformat": 4,
  "nbformat_minor": 0
}
