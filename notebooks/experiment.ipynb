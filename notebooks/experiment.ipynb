{
  "cells": [
    {
      "cell_type": "code",
      "execution_count": 1,
      "metadata": {
        "id": "l8CTD3NQXUCQ"
      },
      "outputs": [],
      "source": [
        "import os\n",
        "import sys"
      ]
    },
    {
      "cell_type": "code",
      "execution_count": 2,
      "metadata": {
        "id": "wmBr9D0wXUCT"
      },
      "outputs": [],
      "source": [
        "def is_colab():\n",
        "    try:\n",
        "        import google.colab\n",
        "        return True\n",
        "    except ImportError:\n",
        "        return False"
      ]
    },
    {
      "cell_type": "code",
      "execution_count": 3,
      "metadata": {
        "colab": {
          "base_uri": "https://localhost:8080/"
        },
        "id": "yqxhuyYhPpAZ",
        "outputId": "65cccd7c-5267-4a96-e767-76efc65398c2"
      },
      "outputs": [
        {
          "name": "stdout",
          "output_type": "stream",
          "text": [
            "c:\\Users\\alena\\MyFolder\\DIL\\PatentMatchBaselineAlena\n"
          ]
        },
        {
          "name": "stderr",
          "output_type": "stream",
          "text": [
            "c:\\Users\\alena\\MyFolder\\DIL\\PatentMatchBaselineAlena\\venv\\Lib\\site-packages\\IPython\\core\\magics\\osm.py:417: UserWarning: This is now an optional IPython functionality, setting dhist requires you to install the `pickleshare` library.\n",
            "  self.shell.db['dhist'] = compress_dhist(dhist)[-100:]\n"
          ]
        }
      ],
      "source": [
        "if is_colab():\n",
        "    from google.colab import drive\n",
        "    drive.mount('/content/drive')\n",
        "\n",
        "    # code required by Colab\n",
        "    %cd /content/drive/MyDrive/PatMatBaselineAlena\n",
        "\n",
        "    root_dir = '/content/drive/MyDrive/PatMatBaselineAlena'\n",
        "else:\n",
        "    current_dir = os.getcwd()\n",
        "    if current_dir.endswith(\"notebooks\"):\n",
        "        root_dir = '..'\n",
        "        %cd ..\n",
        "    else:\n",
        "        root_dir = '.'"
      ]
    },
    {
      "cell_type": "code",
      "execution_count": 4,
      "metadata": {
        "colab": {
          "base_uri": "https://localhost:8080/"
        },
        "id": "bGVa2HQtXUCW",
        "outputId": "3d66e1bd-1e02-4c45-f825-457fdacdd9fa"
      },
      "outputs": [
        {
          "name": "stdout",
          "output_type": "stream",
          "text": [
            "c:\\Users\\alena\\MyFolder\\DIL\\PatentMatchBaselineAlena\n"
          ]
        }
      ],
      "source": [
        "current_dir = os.getcwd()\n",
        "print(current_dir)"
      ]
    },
    {
      "cell_type": "code",
      "execution_count": 5,
      "metadata": {
        "id": "E6U4sZTHXUCb"
      },
      "outputs": [],
      "source": [
        "# parent_dir = os.path.abspath(os.path.join(os.getcwd(), root_dir))\n",
        "sys.path.append(current_dir)"
      ]
    },
    {
      "cell_type": "code",
      "execution_count": null,
      "metadata": {
        "colab": {
          "base_uri": "https://localhost:8080/"
        },
        "id": "zwd6ein0kqNe",
        "outputId": "3585d18c-cb16-4617-e622-da1e825fe20d"
      },
      "outputs": [],
      "source": [
        "# install requirements\n",
        "%pip install -r requirements.txt"
      ]
    },
    {
      "cell_type": "code",
      "execution_count": 7,
      "metadata": {
        "id": "EN_w15otVkuJ"
      },
      "outputs": [
        {
          "name": "stderr",
          "output_type": "stream",
          "text": [
            "c:\\Users\\alena\\MyFolder\\DIL\\PatentMatchBaselineAlena\\venv\\Lib\\site-packages\\tqdm\\auto.py:21: TqdmWarning: IProgress not found. Please update jupyter and ipywidgets. See https://ipywidgets.readthedocs.io/en/stable/user_install.html\n",
            "  from .autonotebook import tqdm as notebook_tqdm\n"
          ]
        }
      ],
      "source": [
        "import json\n",
        "import torch\n",
        "from transformers import BertTokenizer, BertForSequenceClassification\n",
        "import torch.optim as optim\n",
        "from torch.utils.data import DataLoader, TensorDataset\n",
        "from sklearn.metrics import accuracy_score, confusion_matrix, f1_score, precision_score, recall_score, matthews_corrcoef\n",
        "import numpy as np\n",
        "import numpy as np\n",
        "from datetime import datetime\n",
        "import mlflow\n",
        "import matplotlib.pyplot as plt"
      ]
    },
    {
      "cell_type": "code",
      "execution_count": 8,
      "metadata": {
        "id": "Bq0bO91nhq4d"
      },
      "outputs": [],
      "source": [
        "# # this code uploads the credentials to MLflow given in the .env file\n",
        "from src.settings import (\n",
        "    MLFLOW_TRACKING_URI,\n",
        "    MLFLOW_TRACKING_USERNAME,\n",
        "    MLFLOW_TRACKING_PASSWORD\n",
        ")"
      ]
    },
    {
      "cell_type": "code",
      "execution_count": 9,
      "metadata": {
        "colab": {
          "base_uri": "https://localhost:8080/"
        },
        "id": "VfmPDll8XUCe",
        "outputId": "79c755fd-c3ea-40ce-cfb7-eb5795f642a0"
      },
      "outputs": [
        {
          "name": "stdout",
          "output_type": "stream",
          "text": [
            "Alena\n"
          ]
        }
      ],
      "source": [
        "print(MLFLOW_TRACKING_USERNAME)"
      ]
    },
    {
      "cell_type": "code",
      "execution_count": 10,
      "metadata": {
        "id": "wycUH2L0Vokl"
      },
      "outputs": [],
      "source": [
        "# Check if GPU is available and set the device\n",
        "device = torch.device(\"cuda\" if torch.cuda.is_available() else \"cpu\")"
      ]
    },
    {
      "cell_type": "code",
      "execution_count": 11,
      "metadata": {
        "colab": {
          "base_uri": "https://localhost:8080/"
        },
        "id": "CPXHC_jwOawA",
        "outputId": "8b4684a9-bc53-408b-f126-3940c5d784c1"
      },
      "outputs": [
        {
          "data": {
            "text/plain": [
              "device(type='cpu')"
            ]
          },
          "execution_count": 11,
          "metadata": {},
          "output_type": "execute_result"
        }
      ],
      "source": [
        "device"
      ]
    },
    {
      "cell_type": "code",
      "execution_count": null,
      "metadata": {},
      "outputs": [],
      "source": [
        "model_name = \"roberta-base\""
      ]
    },
    {
      "cell_type": "code",
      "execution_count": 12,
      "metadata": {},
      "outputs": [],
      "source": [
        "if model_name == \"roberta-base\":\n",
        "    # Load the tokenizer\n",
        "    from transformers import AutoTokenizer, AutoModelForSequenceClassification\n",
        "    tokenizer = AutoTokenizer.from_pretrained(\"roberta-base\")\n",
        "    # Load the pre-trained ROBERTA model for sequence classification\n",
        "    model = AutoModelForSequenceClassification.from_pretrained(\"roberta-base\", num_labels=2)\n",
        "else:\n",
        "    # Load the tokenizer\n",
        "    tokenizer = BertTokenizer.from_pretrained('bert-base-uncased')\n",
        "    # Load the pre-trained BERT model for sequence classification\n",
        "    model = BertForSequenceClassification.from_pretrained('bert-base-uncased', num_labels=2)"
      ]
    },
    {
      "cell_type": "code",
      "execution_count": 14,
      "metadata": {
        "id": "IzOLicU3w3c8"
      },
      "outputs": [],
      "source": [
        "def print_memory_usage():\n",
        "    print(f\"Memory Allocated: {torch.cuda.memory_allocated() / 1024**2:.2f} MB\")\n",
        "    print(f\"Memory Reserved: {torch.cuda.memory_reserved() / 1024**2:.2f} MB\")"
      ]
    },
    {
      "cell_type": "code",
      "execution_count": 15,
      "metadata": {
        "colab": {
          "base_uri": "https://localhost:8080/"
        },
        "id": "aTeffGmQw888",
        "outputId": "5be653fe-c6bc-435a-c70e-430dc47cbff3"
      },
      "outputs": [
        {
          "name": "stdout",
          "output_type": "stream",
          "text": [
            "Before loading model:\n",
            "Memory Allocated: 0.00 MB\n",
            "Memory Reserved: 0.00 MB\n"
          ]
        }
      ],
      "source": [
        "print(\"Before loading model:\")\n",
        "print_memory_usage()"
      ]
    },
    {
      "cell_type": "code",
      "execution_count": 18,
      "metadata": {
        "colab": {
          "base_uri": "https://localhost:8080/"
        },
        "id": "Cin8Nmy0Siys",
        "outputId": "ba1ca257-e1c5-4366-8468-9e498ad25cdb"
      },
      "outputs": [
        {
          "data": {
            "text/plain": [
              "RobertaForSequenceClassification(\n",
              "  (roberta): RobertaModel(\n",
              "    (embeddings): RobertaEmbeddings(\n",
              "      (word_embeddings): Embedding(50265, 768, padding_idx=1)\n",
              "      (position_embeddings): Embedding(514, 768, padding_idx=1)\n",
              "      (token_type_embeddings): Embedding(1, 768)\n",
              "      (LayerNorm): LayerNorm((768,), eps=1e-05, elementwise_affine=True)\n",
              "      (dropout): Dropout(p=0.1, inplace=False)\n",
              "    )\n",
              "    (encoder): RobertaEncoder(\n",
              "      (layer): ModuleList(\n",
              "        (0-11): 12 x RobertaLayer(\n",
              "          (attention): RobertaAttention(\n",
              "            (self): RobertaSelfAttention(\n",
              "              (query): Linear(in_features=768, out_features=768, bias=True)\n",
              "              (key): Linear(in_features=768, out_features=768, bias=True)\n",
              "              (value): Linear(in_features=768, out_features=768, bias=True)\n",
              "              (dropout): Dropout(p=0.1, inplace=False)\n",
              "            )\n",
              "            (output): RobertaSelfOutput(\n",
              "              (dense): Linear(in_features=768, out_features=768, bias=True)\n",
              "              (LayerNorm): LayerNorm((768,), eps=1e-05, elementwise_affine=True)\n",
              "              (dropout): Dropout(p=0.1, inplace=False)\n",
              "            )\n",
              "          )\n",
              "          (intermediate): RobertaIntermediate(\n",
              "            (dense): Linear(in_features=768, out_features=3072, bias=True)\n",
              "            (intermediate_act_fn): GELUActivation()\n",
              "          )\n",
              "          (output): RobertaOutput(\n",
              "            (dense): Linear(in_features=3072, out_features=768, bias=True)\n",
              "            (LayerNorm): LayerNorm((768,), eps=1e-05, elementwise_affine=True)\n",
              "            (dropout): Dropout(p=0.1, inplace=False)\n",
              "          )\n",
              "        )\n",
              "      )\n",
              "    )\n",
              "  )\n",
              "  (classifier): RobertaClassificationHead(\n",
              "    (dense): Linear(in_features=768, out_features=768, bias=True)\n",
              "    (dropout): Dropout(p=0.1, inplace=False)\n",
              "    (out_proj): Linear(in_features=768, out_features=2, bias=True)\n",
              "  )\n",
              ")"
            ]
          },
          "execution_count": 18,
          "metadata": {},
          "output_type": "execute_result"
        }
      ],
      "source": [
        "# Move the model to the proper device\n",
        "model.to(device)"
      ]
    },
    {
      "cell_type": "code",
      "execution_count": 19,
      "metadata": {
        "colab": {
          "base_uri": "https://localhost:8080/"
        },
        "id": "UxiCdi2UxNKr",
        "outputId": "7ce983c4-202e-43f3-f88f-953605cec210"
      },
      "outputs": [
        {
          "name": "stdout",
          "output_type": "stream",
          "text": [
            "After loading model:\n",
            "Memory Allocated: 0.00 MB\n",
            "Memory Reserved: 0.00 MB\n"
          ]
        }
      ],
      "source": [
        "print(\"After loading model:\")\n",
        "print_memory_usage()"
      ]
    },
    {
      "cell_type": "code",
      "execution_count": 20,
      "metadata": {
        "colab": {
          "base_uri": "https://localhost:8080/"
        },
        "id": "CGf6o3nBoRTp",
        "outputId": "10373403-82e9-4ec5-f8d2-23c69d96e824"
      },
      "outputs": [
        {
          "name": "stdout",
          "output_type": "stream",
          "text": [
            "The maximum sequence length for this BERT model is: 512\n"
          ]
        }
      ],
      "source": [
        "print(f\"The maximum sequence length for this BERT model is: {tokenizer.model_max_length}\")"
      ]
    },
    {
      "cell_type": "code",
      "execution_count": 21,
      "metadata": {
        "id": "qKfcOZM9Wduw"
      },
      "outputs": [],
      "source": [
        "def load_jsonl(filename):\n",
        "    data = []\n",
        "    with open(filename, 'r') as f:\n",
        "        for line in f:\n",
        "            data.append(json.loads(line))\n",
        "    return data\n",
        "\n",
        "train_data = load_jsonl('data/train_v2.jsonl')\n",
        "validation_data = load_jsonl('data/test_v2.jsonl')\n",
        "\n",
        "# Prepare the texts and labels\n",
        "train_texts = [(item['text'], item['text_b']) for item in train_data]\n",
        "train_labels = [item['label'] for item in train_data]\n",
        "validation_texts = [(item['text'], item['text_b']) for item in validation_data]\n",
        "validation_labels = [item['label'] for item in validation_data]"
      ]
    },
    {
      "cell_type": "code",
      "execution_count": 22,
      "metadata": {
        "colab": {
          "base_uri": "https://localhost:8080/"
        },
        "id": "ixDq07t0fwAr",
        "outputId": "cd660acb-f866-494a-e30a-560708fea293"
      },
      "outputs": [
        {
          "data": {
            "text/plain": [
              "(2920, 2920, 730, 730)"
            ]
          },
          "execution_count": 22,
          "metadata": {},
          "output_type": "execute_result"
        }
      ],
      "source": [
        "len(train_texts), len(train_labels), len(validation_texts), len(validation_labels)"
      ]
    },
    {
      "cell_type": "code",
      "execution_count": 23,
      "metadata": {
        "id": "TJjzfcB-9deF"
      },
      "outputs": [],
      "source": [
        "# If you don't have a GPU, limit the amount of data\n",
        "if device.type == 'cpu':\n",
        "    train_texts = train_texts[:10]\n",
        "    train_labels = train_labels[:10]\n",
        "    validation_texts = validation_texts[:10]\n",
        "    validation_labels = validation_labels[:10]"
      ]
    },
    {
      "cell_type": "code",
      "execution_count": 24,
      "metadata": {
        "colab": {
          "base_uri": "https://localhost:8080/",
          "height": 489
        },
        "id": "S9KtiQsrXUCi",
        "outputId": "0ad1341e-9877-4f4a-a388-8c3c2a6997aa"
      },
      "outputs": [
        {
          "name": "stdout",
          "output_type": "stream",
          "text": [
            "The number of words at which 95% of the texts fit is: 227.6\n"
          ]
        },
        {
          "data": {
            "image/png": "[encoded data removed]",
            "text/plain": [
              "<Figure size 640x480 with 1 Axes>"
            ]
          },
          "metadata": {},
          "output_type": "display_data"
        }
      ],
      "source": [
        "doc_lengths = [len((item[0] + \" \" + item[1]).split()) for item in train_texts]\n",
        "\n",
        "sorted_lengths = np.sort(doc_lengths)\n",
        "\n",
        "percentile_95_length = np.percentile(sorted_lengths, 95)\n",
        "print(f\"The number of words at which 95% of the texts fit is: {percentile_95_length}\")\n",
        "\n",
        "# Visualize the distribution of the lengths of the combined texts\n",
        "plt.hist(doc_lengths, bins=100)\n",
        "plt.axvline(percentile_95_length, color='r', linestyle='dashed', linewidth=1)\n",
        "plt.title('Distribution of Combined Text Lengths')\n",
        "plt.xlabel('Length (number of words)')\n",
        "plt.ylabel('Frequency')\n",
        "plt.show()"
      ]
    },
    {
      "cell_type": "code",
      "execution_count": 25,
      "metadata": {
        "colab": {
          "base_uri": "https://localhost:8080/"
        },
        "id": "lkZd-yNfXUCi",
        "outputId": "a8902959-76b6-4ac6-bad1-4aca296587e9"
      },
      "outputs": [
        {
          "name": "stdout",
          "output_type": "stream",
          "text": [
            "The percentage of combined texts below 384 words (roughly 512 tokens) is: 100.00%\n"
          ]
        }
      ],
      "source": [
        "num_texts_below_given_length = np.sum(sorted_lengths <= 384)\n",
        "\n",
        "percentage_texts_below_given_length = (num_texts_below_given_length / len(sorted_lengths)) * 100\n",
        "\n",
        "print(f\"The percentage of combined texts below 384 words (roughly 512 tokens) is: {percentage_texts_below_given_length:.2f}%\")"
      ]
    },
    {
      "cell_type": "code",
      "execution_count": 26,
      "metadata": {
        "id": "djQG6qeN9spm"
      },
      "outputs": [],
      "source": [
        "config = {\n",
        "    'learning_rate': 2e-5,\n",
        "    'lr_scheduler': \"StepLR\",\n",
        "    'gamma': 0.1,\n",
        "    'step_size': 2,\n",
        "    'batch_size': 32,\n",
        "    'num_epochs': 4,\n",
        "    'max_length': 512,\n",
        "    'test_size': 0.2,\n",
        "    'random_state': 42,\n",
        "    'base_model': model_name\n",
        "}"
      ]
    },
    {
      "cell_type": "code",
      "execution_count": 27,
      "metadata": {
        "colab": {
          "base_uri": "https://localhost:8080/"
        },
        "id": "BRqHCXhzW9k8",
        "outputId": "b6fe2f9b-891e-42d7-c541-7fa602f9775c"
      },
      "outputs": [],
      "source": [
        "train_encodings = tokenizer(train_texts, padding=True, truncation=True, return_tensors=\"pt\", max_length=config['max_length'])\n",
        "validation_encodings = tokenizer(validation_texts, padding=True, truncation=True, return_tensors=\"pt\", max_length=config['max_length'])\n",
        "\n",
        "train_input_ids = train_encodings['input_ids']\n",
        "train_attention_mask = train_encodings['attention_mask']\n",
        "\n",
        "validation_input_ids = validation_encodings['input_ids']\n",
        "validation_attention_mask = validation_encodings['attention_mask']\n",
        "\n",
        "# Convert labels to tensors\n",
        "train_labels = torch.tensor(train_labels, dtype=torch.long)\n",
        "validation_labels = torch.tensor(validation_labels, dtype=torch.long)"
      ]
    },
    {
      "cell_type": "code",
      "execution_count": 28,
      "metadata": {
        "colab": {
          "base_uri": "https://localhost:8080/"
        },
        "id": "3t0T1oeqXUCj",
        "outputId": "b4da894b-b6a8-4484-8c7e-c56a62d0157d"
      },
      "outputs": [
        {
          "name": "stdout",
          "output_type": "stream",
          "text": [
            "<s>The cooling system according to claim 2 wherein the cabinet comprises a front side a back side opposite to the front side two opposite lateral sides a top side and a bottom side opposite to the top side.</s></s>In one embodiment a method of cooling an apparatus comprises forming a plenum on a side of a first chamber of the apparatus open to a front of the apparatus partitioning the apparatus with an airpermeable barrier forming a second chamber separated from the plenum and the first chamber by the airpermeable barrier pulling air from the front of the apparatus via the plenum through the airpermeable barrier into the second chamber and exhausting air from the second chamber to a rear of the apparatus.</s><pad><pad><pad><pad><pad><pad><pad><pad><pad><pad><pad><pad><pad><pad><pad><pad><pad><pad><pad><pad><pad><pad><pad><pad><pad><pad><pad><pad><pad><pad><pad><pad><pad><pad><pad><pad><pad><pad><pad><pad><pad><pad><pad><pad><pad><pad><pad><pad><pad><pad><pad><pad><pad><pad><pad><pad><pad><pad><pad><pad><pad><pad><pad><pad><pad><pad><pad><pad><pad><pad><pad><pad><pad><pad><pad><pad><pad><pad><pad><pad><pad><pad><pad><pad><pad><pad><pad><pad><pad><pad><pad><pad><pad><pad><pad><pad><pad><pad><pad><pad><pad><pad><pad><pad><pad><pad><pad><pad><pad><pad><pad><pad><pad><pad><pad><pad><pad><pad><pad><pad><pad><pad>\n",
            "tensor([1, 1, 1, 1, 1, 1, 1, 1, 1, 1, 1, 1, 1, 1, 1, 1, 1, 1, 1, 1, 1, 1, 1, 1,\n",
            "        1, 1, 1, 1, 1, 1, 1, 1, 1, 1, 1, 1, 1, 1, 1, 1, 1, 1, 1, 1, 1, 1, 1, 1,\n",
            "        1, 1, 1, 1, 1, 1, 1, 1, 1, 1, 1, 1, 1, 1, 1, 1, 1, 1, 1, 1, 1, 1, 1, 1,\n",
            "        1, 1, 1, 1, 1, 1, 1, 1, 1, 1, 1, 1, 1, 1, 1, 1, 1, 1, 1, 1, 1, 1, 1, 1,\n",
            "        1, 1, 1, 1, 1, 1, 1, 1, 1, 1, 1, 1, 1, 1, 1, 1, 1, 1, 1, 1, 1, 1, 1, 1,\n",
            "        1, 1, 1, 1, 1, 1, 1, 1, 1, 1, 1, 1, 1, 1, 1, 1, 1, 1, 1, 1, 1, 1, 0, 0,\n",
            "        0, 0, 0, 0, 0, 0, 0, 0, 0, 0, 0, 0, 0, 0, 0, 0, 0, 0, 0, 0, 0, 0, 0, 0,\n",
            "        0, 0, 0, 0, 0, 0, 0, 0, 0, 0, 0, 0, 0, 0, 0, 0, 0, 0, 0, 0, 0, 0, 0, 0,\n",
            "        0, 0, 0, 0, 0, 0, 0, 0, 0, 0, 0, 0, 0, 0, 0, 0, 0, 0, 0, 0, 0, 0, 0, 0,\n",
            "        0, 0, 0, 0, 0, 0, 0, 0, 0, 0, 0, 0, 0, 0, 0, 0, 0, 0, 0, 0, 0, 0, 0, 0,\n",
            "        0, 0, 0, 0, 0, 0, 0, 0, 0, 0, 0, 0, 0, 0, 0, 0, 0, 0, 0, 0, 0, 0, 0, 0])\n"
          ]
        }
      ],
      "source": [
        "decoded = tokenizer.decode(train_encodings[\"input_ids\"][0])\n",
        "print(decoded)\n",
        "\n",
        "at_mask = train_encodings[\"attention_mask\"][0]\n",
        "print(at_mask)"
      ]
    },
    {
      "cell_type": "code",
      "execution_count": 29,
      "metadata": {
        "colab": {
          "base_uri": "https://localhost:8080/"
        },
        "id": "Uu3594sXXrBP",
        "outputId": "537ab74b-e11e-478f-c596-f7e7a40d2187"
      },
      "outputs": [
        {
          "data": {
            "text/plain": [
              "(torch.Size([10, 264]),\n",
              " torch.Size([10, 264]),\n",
              " torch.Size([10, 253]),\n",
              " torch.Size([10, 253]))"
            ]
          },
          "execution_count": 29,
          "metadata": {},
          "output_type": "execute_result"
        }
      ],
      "source": [
        "train_input_ids.shape, train_attention_mask.shape, validation_input_ids.shape, validation_attention_mask.shape"
      ]
    },
    {
      "cell_type": "code",
      "execution_count": 30,
      "metadata": {
        "colab": {
          "base_uri": "https://localhost:8080/"
        },
        "id": "ujI85aJTflSe",
        "outputId": "3d68a06e-02fc-43cc-ae35-0c3e6799e9a6"
      },
      "outputs": [
        {
          "data": {
            "text/plain": [
              "(torch.Size([10]), torch.Size([10]))"
            ]
          },
          "execution_count": 30,
          "metadata": {},
          "output_type": "execute_result"
        }
      ],
      "source": [
        "train_labels.shape, validation_labels.shape"
      ]
    },
    {
      "cell_type": "code",
      "execution_count": 31,
      "metadata": {
        "id": "YHnEqV-jgjxe"
      },
      "outputs": [],
      "source": [
        "train_data = TensorDataset(train_input_ids, train_attention_mask, train_labels)\n",
        "validation_data = TensorDataset(validation_input_ids, validation_attention_mask, validation_labels)"
      ]
    },
    {
      "cell_type": "code",
      "execution_count": 32,
      "metadata": {
        "colab": {
          "base_uri": "https://localhost:8080/"
        },
        "id": "Ijjl-kKSvpJw",
        "outputId": "14808f6f-8517-4373-ab34-44bbe47e9362"
      },
      "outputs": [
        {
          "data": {
            "text/plain": [
              "(torch.Size([10, 264]), torch.Size([10, 264]), torch.Size([10]))"
            ]
          },
          "execution_count": 32,
          "metadata": {},
          "output_type": "execute_result"
        }
      ],
      "source": [
        "train_data.tensors[0].shape, train_data.tensors[1].shape, train_data.tensors[2].shape"
      ]
    },
    {
      "cell_type": "code",
      "execution_count": 33,
      "metadata": {
        "colab": {
          "base_uri": "https://localhost:8080/"
        },
        "id": "RjfnUdNxXUCl",
        "outputId": "7585fb54-e6b5-446f-ae58-df1bbdfab44d"
      },
      "outputs": [
        {
          "data": {
            "text/plain": [
              "(torch.Size([10, 253]), torch.Size([10, 253]), torch.Size([10]))"
            ]
          },
          "execution_count": 33,
          "metadata": {},
          "output_type": "execute_result"
        }
      ],
      "source": [
        "validation_data.tensors[0].shape, validation_data.tensors[1].shape, validation_data.tensors[2].shape"
      ]
    },
    {
      "cell_type": "code",
      "execution_count": 34,
      "metadata": {
        "id": "dW3f6u63gl3e"
      },
      "outputs": [],
      "source": [
        "train_dataloader = DataLoader(train_data, batch_size=config[\"batch_size\"])\n",
        "validation_dataloader = DataLoader(validation_data, batch_size=config[\"batch_size\"])"
      ]
    },
    {
      "cell_type": "code",
      "execution_count": 35,
      "metadata": {
        "colab": {
          "base_uri": "https://localhost:8080/"
        },
        "id": "a-_3bqnVuG5E",
        "outputId": "70279974-8267-4687-bd7d-b5ffb25d1e25"
      },
      "outputs": [
        {
          "name": "stdout",
          "output_type": "stream",
          "text": [
            "torch.Size([10, 264]) torch.Size([10, 264]) torch.Size([10])\n"
          ]
        }
      ],
      "source": [
        "for batch in train_dataloader:\n",
        "    print(batch[0].shape, batch[1].shape, batch[2].shape)\n",
        "    break"
      ]
    },
    {
      "cell_type": "code",
      "execution_count": 36,
      "metadata": {
        "id": "5f7iNasHV-lx"
      },
      "outputs": [],
      "source": [
        "# Define the optimizer and scheduler\n",
        "optimizer = optim.AdamW(model.parameters(), lr=config['learning_rate'])\n",
        "scheduler = optim.lr_scheduler.StepLR(optimizer, step_size=config['step_size'], gamma=config['gamma'])"
      ]
    },
    {
      "cell_type": "code",
      "execution_count": 37,
      "metadata": {
        "id": "CnPWjaySr_EG"
      },
      "outputs": [],
      "source": [
        "user = MLFLOW_TRACKING_USERNAME\n",
        "experiment_name = 'Alena_PatentMatchBaseline'\n",
        "\n",
        "\n",
        "def timestamp():\n",
        "    \"\"\"This function creates current timestamp\"\"\"\n",
        "    return datetime.now().strftime(\"%Y_%m_%d_%H%M_%S\")"
      ]
    },
    {
      "cell_type": "code",
      "execution_count": 38,
      "metadata": {
        "id": "Ehg7IamOCLsH"
      },
      "outputs": [],
      "source": [
        "experiment = mlflow.get_experiment_by_name(experiment_name)\n",
        "if experiment is None or experiment.lifecycle_stage == 'deleted':\n",
        "    mlflow.create_experiment(experiment_name)\n",
        "    experiment = mlflow.get_experiment_by_name(experiment_name)"
      ]
    },
    {
      "cell_type": "code",
      "execution_count": 39,
      "metadata": {
        "id": "wLTjjGRnXUCo"
      },
      "outputs": [],
      "source": [
        "save_model = True"
      ]
    },
    {
      "cell_type": "code",
      "execution_count": 40,
      "metadata": {
        "id": "r0TnzRGKXUCo"
      },
      "outputs": [],
      "source": [
        "if save_model:\n",
        "    model_save_path = f'models/{timestamp()}'\n",
        "\n",
        "    if not os.path.exists(model_save_path):\n",
        "        os.makedirs(model_save_path)"
      ]
    },
    {
      "cell_type": "code",
      "execution_count": 41,
      "metadata": {},
      "outputs": [],
      "source": [
        "def calculate_and_log_train_metrics_and_hp(train_loss, epoch):\n",
        "    # Log the average training loss for the epoch\n",
        "    avg_train_loss = train_loss / len(train_dataloader)\n",
        "    mlflow.log_metric(\"train_loss\", avg_train_loss, step=epoch)\n",
        "    print(f\"Average training loss for epoch {epoch + 1}: {avg_train_loss}\")\n",
        "\n",
        "    # Log the current learning rate\n",
        "    current_lr = optimizer.param_groups[0]['lr']\n",
        "    mlflow.log_metric(\"learning_rate\", current_lr, step=epoch)\n",
        "    print(f\"Current learning rate for epoch {epoch + 1}: {current_lr}\")"
      ]
    },
    {
      "cell_type": "code",
      "execution_count": 42,
      "metadata": {},
      "outputs": [],
      "source": [
        "def calculate_and_log_val_metrics(true_labels, predictions, epoch):\n",
        "    # Calculate the accuracy of the predictions\n",
        "    val_accuracy = accuracy_score(true_labels, predictions)\n",
        "    print(f\"Validation Accuracy: {val_accuracy}\")\n",
        "    mlflow.log_metric(\"val_accuracy\", val_accuracy, step=epoch)\n",
        "\n",
        "    # Calculate additional metrics\n",
        "    val_precision = precision_score(true_labels, predictions, zero_division='warn')\n",
        "    val_recall = recall_score(true_labels, predictions, zero_division=\"warn\")\n",
        "    val_f1 = f1_score(true_labels, predictions, zero_division=\"warn\")\n",
        "    val_mcc = matthews_corrcoef(true_labels, predictions)\n",
        "\n",
        "    # Log additional metrics\n",
        "    mlflow.log_metric(\"val_precision\", val_precision, step=epoch)\n",
        "    mlflow.log_metric(\"val_recall\", val_recall, step=epoch)\n",
        "    mlflow.log_metric(\"val_f1\", val_f1, step=epoch)\n",
        "    mlflow.log_metric(\"val_mcc\", val_mcc, step=epoch)\n",
        "\n",
        "    print(f\"Validation Precision: {val_precision}\")\n",
        "    print(f\"Validation Recall: {val_recall}\")\n",
        "    print(f\"Validation F1 Score: {val_f1}\")\n",
        "    print(f\"Validation MCC: {val_mcc}\")"
      ]
    },
    {
      "cell_type": "code",
      "execution_count": 43,
      "metadata": {},
      "outputs": [],
      "source": [
        "def calculate_and_log_cm(true_labels, predictions, epoch):\n",
        "    # Calculate the confusion matrix\n",
        "    cm = confusion_matrix(true_labels, predictions, normalize='true')\n",
        "    cm_filename = f\"artifacts/{timestamp()}_confusion_matrix_epoch_{epoch}.csv\"\n",
        "    np.savetxt(cm_filename, cm, delimiter=\",\")\n",
        "    mlflow.log_artifact(cm_filename)\n",
        "    print(cm)"
      ]
    },
    {
      "cell_type": "code",
      "execution_count": 44,
      "metadata": {
        "colab": {
          "base_uri": "https://localhost:8080/"
        },
        "id": "S78HlfCEjILj",
        "outputId": "095f2d5b-be07-4183-ae72-983f2b5b618e"
      },
      "outputs": [
        {
          "name": "stdout",
          "output_type": "stream",
          "text": [
            "############### Started 1 epoch ###############\n",
            "Average training loss for epoch 1: 0.7488312125205994\n",
            "Current learning rate for epoch 1: 2e-05\n",
            "Average validation loss for epoch 0: 0.6702248454093933\n",
            "Validation Accuracy: 0.8\n",
            "Validation Precision: 0.8\n",
            "Validation Recall: 1.0\n",
            "Validation F1 Score: 0.888888888888889\n",
            "Validation MCC: 0.0\n",
            "[[0. 1.]\n",
            " [0. 1.]]\n",
            "############### Finished 1 epoch ###############\n",
            "\n",
            "\n",
            "############### Started 2 epoch ###############\n",
            "Average training loss for epoch 2: 0.6775502562522888\n",
            "Current learning rate for epoch 2: 2e-05\n",
            "Average validation loss for epoch 1: 0.6770456433296204\n",
            "Validation Accuracy: 0.8\n",
            "Validation Precision: 0.8\n",
            "Validation Recall: 1.0\n",
            "Validation F1 Score: 0.888888888888889\n",
            "Validation MCC: 0.0\n",
            "[[0. 1.]\n",
            " [0. 1.]]\n",
            "############### Finished 2 epoch ###############\n",
            "\n",
            "\n",
            "############### Started 3 epoch ###############\n",
            "Average training loss for epoch 3: 0.7021660208702087\n",
            "Current learning rate for epoch 3: 2.0000000000000003e-06\n",
            "Average validation loss for epoch 2: 0.6773825883865356\n",
            "Validation Accuracy: 0.8\n",
            "Validation Precision: 0.8\n",
            "Validation Recall: 1.0\n",
            "Validation F1 Score: 0.888888888888889\n",
            "Validation MCC: 0.0\n",
            "[[0. 1.]\n",
            " [0. 1.]]\n",
            "############### Finished 3 epoch ###############\n",
            "\n",
            "\n",
            "############### Started 4 epoch ###############\n",
            "Average training loss for epoch 4: 0.6950839757919312\n",
            "Current learning rate for epoch 4: 2.0000000000000003e-06\n",
            "Average validation loss for epoch 3: 0.6776279807090759\n",
            "Validation Accuracy: 0.8\n",
            "Validation Precision: 0.8\n",
            "Validation Recall: 1.0\n",
            "Validation F1 Score: 0.888888888888889\n",
            "Validation MCC: 0.0\n",
            "[[0. 1.]\n",
            " [0. 1.]]\n",
            "############### Finished 4 epoch ###############\n",
            "\n",
            "\n"
          ]
        }
      ],
      "source": [
        "with mlflow.start_run(experiment_id=experiment.experiment_id):\n",
        "    for param_name, param_value in config.items():\n",
        "        mlflow.log_param(param_name, param_value)\n",
        "\n",
        "    best_val_loss = float('inf')\n",
        "\n",
        "    for epoch in range(config['num_epochs']):  # Number of training epochs\n",
        "        print(f'############### Started {epoch + 1} epoch ###############')\n",
        "        \n",
        "        # Set run name\n",
        "        mlflow.set_tag(key='mlflow.runName', value=f'{timestamp()}_{user}')\n",
        "        \n",
        "        model.train()\n",
        "        train_loss = 0.0\n",
        "        for batch in train_dataloader:\n",
        "            b_input_ids, b_attention_mask, b_labels = batch\n",
        "\n",
        "            # Move the batch to the proper device\n",
        "            b_input_ids = b_input_ids.to(device)\n",
        "            b_attention_mask = b_attention_mask.to(device)\n",
        "            b_labels = b_labels.to(device)\n",
        "\n",
        "            model.zero_grad()\n",
        "\n",
        "            outputs = model(b_input_ids, attention_mask=b_attention_mask, labels=b_labels)\n",
        "            loss = outputs.loss\n",
        "            loss.backward()\n",
        "            \n",
        "            # Clip gradients\n",
        "            torch.nn.utils.clip_grad_norm_(model.parameters(), 1.0)\n",
        "            \n",
        "            optimizer.step()\n",
        "            train_loss += loss.item()\n",
        "\n",
        "        calculate_and_log_train_metrics_and_hp(train_loss, epoch)\n",
        "\n",
        "        # Validation loop\n",
        "        model.eval()\n",
        "        val_loss = 0.0\n",
        "        predictions, true_labels = [], []\n",
        "        for batch in validation_dataloader:\n",
        "            b_input_ids, b_attention_mask, b_labels = batch\n",
        "\n",
        "            # Move the batch to the proper device\n",
        "            b_input_ids = b_input_ids.to(device)\n",
        "            b_attention_mask = b_attention_mask.to(device)\n",
        "            b_labels = b_labels.to(device)\n",
        "\n",
        "            with torch.no_grad():\n",
        "                outputs = model(b_input_ids, attention_mask=b_attention_mask, labels=b_labels)\n",
        "\n",
        "            logits = outputs.logits\n",
        "            loss = outputs.loss\n",
        "            val_loss += loss.item()\n",
        "\n",
        "            predictions.extend(torch.argmax(logits, dim=1).cpu().tolist())\n",
        "            true_labels.extend(b_labels.cpu().tolist())\n",
        "\n",
        "        # Log the average validation loss for the epoch\n",
        "        avg_val_loss = val_loss / len(validation_dataloader)\n",
        "        mlflow.log_metric(\"val_loss\", avg_val_loss, step=epoch)\n",
        "        print(f\"Average validation loss for epoch {epoch + 1}: {avg_val_loss}\")\n",
        "    \n",
        "        calculate_and_log_val_metrics(true_labels, predictions, epoch)\n",
        "        \n",
        "        # Save the best model based on validation loss\n",
        "        if save_model:\n",
        "            if avg_val_loss < best_val_loss:\n",
        "                best_val_loss = avg_val_loss\n",
        "                model_to_save = model.module if hasattr(model, 'module') else model\n",
        "                model_to_save.save_pretrained(model_save_path)\n",
        "                tokenizer.save_pretrained(model_save_path)\n",
        "\n",
        "        calculate_and_log_cm(true_labels, predictions, epoch)\n",
        "        print(f'############### Finished {epoch + 1} epoch ###############\\n\\n')\n",
        "\n",
        "        # Update the learning rate scheduler\n",
        "        scheduler.step()\n",
        "\n",
        "mlflow.end_run()"
      ]
    }
  ],
  "metadata": {
    "accelerator": "GPU",
    "colab": {
      "gpuType": "T4",
      "provenance": []
    },
    "kernelspec": {
      "display_name": "Python 3",
      "name": "python3"
    },
    "language_info": {
      "codemirror_mode": {
        "name": "ipython",
        "version": 3
      },
      "file_extension": ".py",
      "mimetype": "text/x-python",
      "name": "python",
      "nbconvert_exporter": "python",
      "pygments_lexer": "ipython3",
      "version": "3.11.7"
    }
  },
  "nbformat": 4,
  "nbformat_minor": 0
}
