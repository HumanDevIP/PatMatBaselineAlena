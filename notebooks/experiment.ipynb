{
  "cells": [
    {
      "cell_type": "code",
      "execution_count": 1,
      "metadata": {
        "id": "l8CTD3NQXUCQ"
      },
      "outputs": [],
      "source": [
        "import os\n",
        "import sys"
      ]
    },
    {
      "cell_type": "code",
      "execution_count": 2,
      "metadata": {
        "id": "wmBr9D0wXUCT"
      },
      "outputs": [],
      "source": [
        "def is_colab():\n",
        "    try:\n",
        "        import google.colab\n",
        "        return True\n",
        "    except ImportError:\n",
        "        return False"
      ]
    },
    {
      "cell_type": "code",
      "execution_count": 3,
      "metadata": {
        "colab": {
          "base_uri": "https://localhost:8080/"
        },
        "id": "yqxhuyYhPpAZ",
        "outputId": "78f415b2-8b4f-4044-bc98-396c0586e40f"
      },
      "outputs": [
        {
          "name": "stdout",
          "output_type": "stream",
          "text": [
            "c:\\Users\\alena\\MyFolder\\DIL\\PatMatBaselineAlena\n"
          ]
        },
        {
          "name": "stderr",
          "output_type": "stream",
          "text": [
            "c:\\Users\\alena\\MyFolder\\DIL\\PatMatBaselineAlena\\venv\\Lib\\site-packages\\IPython\\core\\magics\\osm.py:417: UserWarning: This is now an optional IPython functionality, setting dhist requires you to install the `pickleshare` library.\n",
            "  self.shell.db['dhist'] = compress_dhist(dhist)[-100:]\n"
          ]
        }
      ],
      "source": [
        "if is_colab():\n",
        "    from google.colab import drive\n",
        "    drive.mount('/content/drive')\n",
        "\n",
        "    # code required by Colab\n",
        "    %cd /content/drive/MyDrive/PatMatBaselineAlena\n",
        "\n",
        "    root_dir = '/content/drive/MyDrive/PatMatBaselineAlena'\n",
        "else:\n",
        "    current_dir = os.getcwd()\n",
        "    if current_dir.endswith(\"notebooks\"):\n",
        "        root_dir = '..'\n",
        "        %cd ..\n",
        "    else:\n",
        "        root_dir = '.'"
      ]
    },
    {
      "cell_type": "code",
      "execution_count": 4,
      "metadata": {
        "colab": {
          "base_uri": "https://localhost:8080/"
        },
        "id": "bGVa2HQtXUCW",
        "outputId": "cafeec98-5e33-4783-d714-1f0d70a2fd0e"
      },
      "outputs": [
        {
          "name": "stdout",
          "output_type": "stream",
          "text": [
            "c:\\Users\\alena\\MyFolder\\DIL\\PatMatBaselineAlena\n"
          ]
        }
      ],
      "source": [
        "current_dir = os.getcwd()\n",
        "print(current_dir)"
      ]
    },
    {
      "cell_type": "code",
      "execution_count": 5,
      "metadata": {
        "id": "E6U4sZTHXUCb"
      },
      "outputs": [],
      "source": [
        "sys.path.append(current_dir)"
      ]
    },
    {
      "cell_type": "code",
      "execution_count": 6,
      "metadata": {
        "colab": {
          "base_uri": "https://localhost:8080/"
        },
        "id": "zwd6ein0kqNe",
        "outputId": "0d4397a1-3b89-4c36-b783-a2142c4d78cf"
      },
      "outputs": [
        {
          "name": "stdout",
          "output_type": "stream",
          "text": [
            "Looking in indexes: https://pypi.org/simple, https://download.pytorch.org/whl/cu121\n",
            "Requirement already satisfied: torch==2.3.0+cu121 in c:\\users\\alena\\myfolder\\dil\\patmatbaselinealena\\venv\\lib\\site-packages (from -r requirements.txt (line 2)) (2.3.0+cu121)\n",
            "Requirement already satisfied: torchvision in c:\\users\\alena\\myfolder\\dil\\patmatbaselinealena\\venv\\lib\\site-packages (from -r requirements.txt (line 3)) (0.18.0+cu121)\n",
            "Requirement already satisfied: torchaudio in c:\\users\\alena\\myfolder\\dil\\patmatbaselinealena\\venv\\lib\\site-packages (from -r requirements.txt (line 4)) (2.3.0+cu121)\n",
            "Requirement already satisfied: transformers==4.41.0 in c:\\users\\alena\\myfolder\\dil\\patmatbaselinealena\\venv\\lib\\site-packages (from -r requirements.txt (line 5)) (4.41.0)\n",
            "Requirement already satisfied: scikit-learn==1.2.2 in c:\\users\\alena\\myfolder\\dil\\patmatbaselinealena\\venv\\lib\\site-packages (from -r requirements.txt (line 6)) (1.2.2)\n",
            "Requirement already satisfied: numpy in c:\\users\\alena\\myfolder\\dil\\patmatbaselinealena\\venv\\lib\\site-packages (from -r requirements.txt (line 7)) (1.26.4)\n",
            "Requirement already satisfied: mlflow==2.13.0 in c:\\users\\alena\\myfolder\\dil\\patmatbaselinealena\\venv\\lib\\site-packages (from -r requirements.txt (line 8)) (2.13.0)\n",
            "Requirement already satisfied: python-dotenv in c:\\users\\alena\\myfolder\\dil\\patmatbaselinealena\\venv\\lib\\site-packages (from -r requirements.txt (line 9)) (1.0.1)\n",
            "Requirement already satisfied: datasets==2.19.1 in c:\\users\\alena\\myfolder\\dil\\patmatbaselinealena\\venv\\lib\\site-packages (from -r requirements.txt (line 10)) (2.19.1)\n",
            "Requirement already satisfied: accelerate==0.30.1 in c:\\users\\alena\\myfolder\\dil\\patmatbaselinealena\\venv\\lib\\site-packages (from -r requirements.txt (line 11)) (0.30.1)\n",
            "Requirement already satisfied: filelock in c:\\users\\alena\\myfolder\\dil\\patmatbaselinealena\\venv\\lib\\site-packages (from torch==2.3.0+cu121->-r requirements.txt (line 2)) (3.14.0)\n",
            "Requirement already satisfied: typing-extensions>=4.8.0 in c:\\users\\alena\\myfolder\\dil\\patmatbaselinealena\\venv\\lib\\site-packages (from torch==2.3.0+cu121->-r requirements.txt (line 2)) (4.12.0)\n",
            "Requirement already satisfied: sympy in c:\\users\\alena\\myfolder\\dil\\patmatbaselinealena\\venv\\lib\\site-packages (from torch==2.3.0+cu121->-r requirements.txt (line 2)) (1.12)\n",
            "Requirement already satisfied: networkx in c:\\users\\alena\\myfolder\\dil\\patmatbaselinealena\\venv\\lib\\site-packages (from torch==2.3.0+cu121->-r requirements.txt (line 2)) (3.3)\n",
            "Requirement already satisfied: jinja2 in c:\\users\\alena\\myfolder\\dil\\patmatbaselinealena\\venv\\lib\\site-packages (from torch==2.3.0+cu121->-r requirements.txt (line 2)) (3.1.4)\n",
            "Requirement already satisfied: fsspec in c:\\users\\alena\\myfolder\\dil\\patmatbaselinealena\\venv\\lib\\site-packages (from torch==2.3.0+cu121->-r requirements.txt (line 2)) (2024.3.1)\n",
            "Requirement already satisfied: mkl<=2021.4.0,>=2021.1.1 in c:\\users\\alena\\myfolder\\dil\\patmatbaselinealena\\venv\\lib\\site-packages (from torch==2.3.0+cu121->-r requirements.txt (line 2)) (2021.4.0)\n",
            "Requirement already satisfied: huggingface-hub<1.0,>=0.23.0 in c:\\users\\alena\\myfolder\\dil\\patmatbaselinealena\\venv\\lib\\site-packages (from transformers==4.41.0->-r requirements.txt (line 5)) (0.23.2)\n",
            "Requirement already satisfied: packaging>=20.0 in c:\\users\\alena\\myfolder\\dil\\patmatbaselinealena\\venv\\lib\\site-packages (from transformers==4.41.0->-r requirements.txt (line 5)) (24.0)\n",
            "Requirement already satisfied: pyyaml>=5.1 in c:\\users\\alena\\myfolder\\dil\\patmatbaselinealena\\venv\\lib\\site-packages (from transformers==4.41.0->-r requirements.txt (line 5)) (6.0.1)\n",
            "Requirement already satisfied: regex!=2019.12.17 in c:\\users\\alena\\myfolder\\dil\\patmatbaselinealena\\venv\\lib\\site-packages (from transformers==4.41.0->-r requirements.txt (line 5)) (2024.5.15)\n",
            "Requirement already satisfied: requests in c:\\users\\alena\\myfolder\\dil\\patmatbaselinealena\\venv\\lib\\site-packages (from transformers==4.41.0->-r requirements.txt (line 5)) (2.32.2)\n",
            "Requirement already satisfied: tokenizers<0.20,>=0.19 in c:\\users\\alena\\myfolder\\dil\\patmatbaselinealena\\venv\\lib\\site-packages (from transformers==4.41.0->-r requirements.txt (line 5)) (0.19.1)\n",
            "Requirement already satisfied: safetensors>=0.4.1 in c:\\users\\alena\\myfolder\\dil\\patmatbaselinealena\\venv\\lib\\site-packages (from transformers==4.41.0->-r requirements.txt (line 5)) (0.4.3)\n",
            "Requirement already satisfied: tqdm>=4.27 in c:\\users\\alena\\myfolder\\dil\\patmatbaselinealena\\venv\\lib\\site-packages (from transformers==4.41.0->-r requirements.txt (line 5)) (4.66.4)\n",
            "Requirement already satisfied: scipy>=1.3.2 in c:\\users\\alena\\myfolder\\dil\\patmatbaselinealena\\venv\\lib\\site-packages (from scikit-learn==1.2.2->-r requirements.txt (line 6)) (1.13.1)\n",
            "Requirement already satisfied: joblib>=1.1.1 in c:\\users\\alena\\myfolder\\dil\\patmatbaselinealena\\venv\\lib\\site-packages (from scikit-learn==1.2.2->-r requirements.txt (line 6)) (1.4.2)\n",
            "Requirement already satisfied: threadpoolctl>=2.0.0 in c:\\users\\alena\\myfolder\\dil\\patmatbaselinealena\\venv\\lib\\site-packages (from scikit-learn==1.2.2->-r requirements.txt (line 6)) (3.5.0)\n",
            "Requirement already satisfied: Flask<4 in c:\\users\\alena\\myfolder\\dil\\patmatbaselinealena\\venv\\lib\\site-packages (from mlflow==2.13.0->-r requirements.txt (line 8)) (3.0.3)\n",
            "Requirement already satisfied: alembic!=1.10.0,<2 in c:\\users\\alena\\myfolder\\dil\\patmatbaselinealena\\venv\\lib\\site-packages (from mlflow==2.13.0->-r requirements.txt (line 8)) (1.13.1)\n",
            "Requirement already satisfied: cachetools<6,>=5.0.0 in c:\\users\\alena\\myfolder\\dil\\patmatbaselinealena\\venv\\lib\\site-packages (from mlflow==2.13.0->-r requirements.txt (line 8)) (5.3.3)\n",
            "Requirement already satisfied: click<9,>=7.0 in c:\\users\\alena\\myfolder\\dil\\patmatbaselinealena\\venv\\lib\\site-packages (from mlflow==2.13.0->-r requirements.txt (line 8)) (8.1.7)\n",
            "Requirement already satisfied: cloudpickle<4 in c:\\users\\alena\\myfolder\\dil\\patmatbaselinealena\\venv\\lib\\site-packages (from mlflow==2.13.0->-r requirements.txt (line 8)) (3.0.0)\n",
            "Requirement already satisfied: docker<8,>=4.0.0 in c:\\users\\alena\\myfolder\\dil\\patmatbaselinealena\\venv\\lib\\site-packages (from mlflow==2.13.0->-r requirements.txt (line 8)) (7.1.0)\n",
            "Requirement already satisfied: entrypoints<1 in c:\\users\\alena\\myfolder\\dil\\patmatbaselinealena\\venv\\lib\\site-packages (from mlflow==2.13.0->-r requirements.txt (line 8)) (0.4)\n",
            "Requirement already satisfied: gitpython<4,>=3.1.9 in c:\\users\\alena\\myfolder\\dil\\patmatbaselinealena\\venv\\lib\\site-packages (from mlflow==2.13.0->-r requirements.txt (line 8)) (3.1.43)\n",
            "Requirement already satisfied: graphene<4 in c:\\users\\alena\\myfolder\\dil\\patmatbaselinealena\\venv\\lib\\site-packages (from mlflow==2.13.0->-r requirements.txt (line 8)) (3.3)\n",
            "Requirement already satisfied: importlib-metadata!=4.7.0,<8,>=3.7.0 in c:\\users\\alena\\myfolder\\dil\\patmatbaselinealena\\venv\\lib\\site-packages (from mlflow==2.13.0->-r requirements.txt (line 8)) (7.0.0)\n",
            "Requirement already satisfied: markdown<4,>=3.3 in c:\\users\\alena\\myfolder\\dil\\patmatbaselinealena\\venv\\lib\\site-packages (from mlflow==2.13.0->-r requirements.txt (line 8)) (3.6)\n",
            "Requirement already satisfied: matplotlib<4 in c:\\users\\alena\\myfolder\\dil\\patmatbaselinealena\\venv\\lib\\site-packages (from mlflow==2.13.0->-r requirements.txt (line 8)) (3.9.0)\n",
            "Requirement already satisfied: opentelemetry-api<3,>=1.0.0 in c:\\users\\alena\\myfolder\\dil\\patmatbaselinealena\\venv\\lib\\site-packages (from mlflow==2.13.0->-r requirements.txt (line 8)) (1.24.0)\n",
            "Requirement already satisfied: opentelemetry-sdk<3,>=1.0.0 in c:\\users\\alena\\myfolder\\dil\\patmatbaselinealena\\venv\\lib\\site-packages (from mlflow==2.13.0->-r requirements.txt (line 8)) (1.24.0)\n",
            "Requirement already satisfied: pandas<3 in c:\\users\\alena\\myfolder\\dil\\patmatbaselinealena\\venv\\lib\\site-packages (from mlflow==2.13.0->-r requirements.txt (line 8)) (2.2.2)\n",
            "Requirement already satisfied: protobuf<5,>=3.12.0 in c:\\users\\alena\\myfolder\\dil\\patmatbaselinealena\\venv\\lib\\site-packages (from mlflow==2.13.0->-r requirements.txt (line 8)) (4.25.3)\n",
            "Requirement already satisfied: pyarrow<16,>=4.0.0 in c:\\users\\alena\\myfolder\\dil\\patmatbaselinealena\\venv\\lib\\site-packages (from mlflow==2.13.0->-r requirements.txt (line 8)) (15.0.2)\n",
            "Requirement already satisfied: pytz<2025 in c:\\users\\alena\\myfolder\\dil\\patmatbaselinealena\\venv\\lib\\site-packages (from mlflow==2.13.0->-r requirements.txt (line 8)) (2024.1)\n",
            "Requirement already satisfied: querystring-parser<2 in c:\\users\\alena\\myfolder\\dil\\patmatbaselinealena\\venv\\lib\\site-packages (from mlflow==2.13.0->-r requirements.txt (line 8)) (1.2.4)\n",
            "Requirement already satisfied: sqlalchemy<3,>=1.4.0 in c:\\users\\alena\\myfolder\\dil\\patmatbaselinealena\\venv\\lib\\site-packages (from mlflow==2.13.0->-r requirements.txt (line 8)) (2.0.30)\n",
            "Requirement already satisfied: sqlparse<1,>=0.4.0 in c:\\users\\alena\\myfolder\\dil\\patmatbaselinealena\\venv\\lib\\site-packages (from mlflow==2.13.0->-r requirements.txt (line 8)) (0.5.0)\n",
            "Requirement already satisfied: waitress<4 in c:\\users\\alena\\myfolder\\dil\\patmatbaselinealena\\venv\\lib\\site-packages (from mlflow==2.13.0->-r requirements.txt (line 8)) (3.0.0)\n",
            "Requirement already satisfied: pyarrow-hotfix in c:\\users\\alena\\myfolder\\dil\\patmatbaselinealena\\venv\\lib\\site-packages (from datasets==2.19.1->-r requirements.txt (line 10)) (0.6)\n",
            "Requirement already satisfied: dill<0.3.9,>=0.3.0 in c:\\users\\alena\\myfolder\\dil\\patmatbaselinealena\\venv\\lib\\site-packages (from datasets==2.19.1->-r requirements.txt (line 10)) (0.3.8)\n",
            "Requirement already satisfied: xxhash in c:\\users\\alena\\myfolder\\dil\\patmatbaselinealena\\venv\\lib\\site-packages (from datasets==2.19.1->-r requirements.txt (line 10)) (3.4.1)\n",
            "Requirement already satisfied: multiprocess in c:\\users\\alena\\myfolder\\dil\\patmatbaselinealena\\venv\\lib\\site-packages (from datasets==2.19.1->-r requirements.txt (line 10)) (0.70.16)\n",
            "Requirement already satisfied: aiohttp in c:\\users\\alena\\myfolder\\dil\\patmatbaselinealena\\venv\\lib\\site-packages (from datasets==2.19.1->-r requirements.txt (line 10)) (3.9.5)\n",
            "Requirement already satisfied: psutil in c:\\users\\alena\\myfolder\\dil\\patmatbaselinealena\\venv\\lib\\site-packages (from accelerate==0.30.1->-r requirements.txt (line 11)) (5.9.8)\n",
            "Requirement already satisfied: pillow!=8.3.*,>=5.3.0 in c:\\users\\alena\\myfolder\\dil\\patmatbaselinealena\\venv\\lib\\site-packages (from torchvision->-r requirements.txt (line 3)) (10.3.0)\n",
            "Requirement already satisfied: Mako in c:\\users\\alena\\myfolder\\dil\\patmatbaselinealena\\venv\\lib\\site-packages (from alembic!=1.10.0,<2->mlflow==2.13.0->-r requirements.txt (line 8)) (1.3.5)\n",
            "Requirement already satisfied: colorama in c:\\users\\alena\\myfolder\\dil\\patmatbaselinealena\\venv\\lib\\site-packages (from click<9,>=7.0->mlflow==2.13.0->-r requirements.txt (line 8)) (0.4.6)\n",
            "Requirement already satisfied: pywin32>=304 in c:\\users\\alena\\myfolder\\dil\\patmatbaselinealena\\venv\\lib\\site-packages (from docker<8,>=4.0.0->mlflow==2.13.0->-r requirements.txt (line 8)) (306)\n",
            "Requirement already satisfied: urllib3>=1.26.0 in c:\\users\\alena\\myfolder\\dil\\patmatbaselinealena\\venv\\lib\\site-packages (from docker<8,>=4.0.0->mlflow==2.13.0->-r requirements.txt (line 8)) (2.2.1)\n",
            "Requirement already satisfied: Werkzeug>=3.0.0 in c:\\users\\alena\\myfolder\\dil\\patmatbaselinealena\\venv\\lib\\site-packages (from Flask<4->mlflow==2.13.0->-r requirements.txt (line 8)) (3.0.3)\n",
            "Requirement already satisfied: itsdangerous>=2.1.2 in c:\\users\\alena\\myfolder\\dil\\patmatbaselinealena\\venv\\lib\\site-packages (from Flask<4->mlflow==2.13.0->-r requirements.txt (line 8)) (2.2.0)\n",
            "Requirement already satisfied: blinker>=1.6.2 in c:\\users\\alena\\myfolder\\dil\\patmatbaselinealena\\venv\\lib\\site-packages (from Flask<4->mlflow==2.13.0->-r requirements.txt (line 8)) (1.8.2)\n",
            "Requirement already satisfied: aiosignal>=1.1.2 in c:\\users\\alena\\myfolder\\dil\\patmatbaselinealena\\venv\\lib\\site-packages (from aiohttp->datasets==2.19.1->-r requirements.txt (line 10)) (1.3.1)\n",
            "Requirement already satisfied: attrs>=17.3.0 in c:\\users\\alena\\myfolder\\dil\\patmatbaselinealena\\venv\\lib\\site-packages (from aiohttp->datasets==2.19.1->-r requirements.txt (line 10)) (23.2.0)\n",
            "Requirement already satisfied: frozenlist>=1.1.1 in c:\\users\\alena\\myfolder\\dil\\patmatbaselinealena\\venv\\lib\\site-packages (from aiohttp->datasets==2.19.1->-r requirements.txt (line 10)) (1.4.1)\n",
            "Requirement already satisfied: multidict<7.0,>=4.5 in c:\\users\\alena\\myfolder\\dil\\patmatbaselinealena\\venv\\lib\\site-packages (from aiohttp->datasets==2.19.1->-r requirements.txt (line 10)) (6.0.5)\n",
            "Requirement already satisfied: yarl<2.0,>=1.0 in c:\\users\\alena\\myfolder\\dil\\patmatbaselinealena\\venv\\lib\\site-packages (from aiohttp->datasets==2.19.1->-r requirements.txt (line 10)) (1.9.4)\n",
            "Requirement already satisfied: gitdb<5,>=4.0.1 in c:\\users\\alena\\myfolder\\dil\\patmatbaselinealena\\venv\\lib\\site-packages (from gitpython<4,>=3.1.9->mlflow==2.13.0->-r requirements.txt (line 8)) (4.0.11)\n",
            "Requirement already satisfied: graphql-core<3.3,>=3.1 in c:\\users\\alena\\myfolder\\dil\\patmatbaselinealena\\venv\\lib\\site-packages (from graphene<4->mlflow==2.13.0->-r requirements.txt (line 8)) (3.2.3)\n",
            "Requirement already satisfied: graphql-relay<3.3,>=3.1 in c:\\users\\alena\\myfolder\\dil\\patmatbaselinealena\\venv\\lib\\site-packages (from graphene<4->mlflow==2.13.0->-r requirements.txt (line 8)) (3.2.0)\n",
            "Requirement already satisfied: aniso8601<10,>=8 in c:\\users\\alena\\myfolder\\dil\\patmatbaselinealena\\venv\\lib\\site-packages (from graphene<4->mlflow==2.13.0->-r requirements.txt (line 8)) (9.0.1)\n",
            "Requirement already satisfied: zipp>=0.5 in c:\\users\\alena\\myfolder\\dil\\patmatbaselinealena\\venv\\lib\\site-packages (from importlib-metadata!=4.7.0,<8,>=3.7.0->mlflow==2.13.0->-r requirements.txt (line 8)) (3.19.0)\n",
            "Requirement already satisfied: MarkupSafe>=2.0 in c:\\users\\alena\\myfolder\\dil\\patmatbaselinealena\\venv\\lib\\site-packages (from jinja2->torch==2.3.0+cu121->-r requirements.txt (line 2)) (2.1.5)\n",
            "Requirement already satisfied: contourpy>=1.0.1 in c:\\users\\alena\\myfolder\\dil\\patmatbaselinealena\\venv\\lib\\site-packages (from matplotlib<4->mlflow==2.13.0->-r requirements.txt (line 8)) (1.2.1)\n",
            "Requirement already satisfied: cycler>=0.10 in c:\\users\\alena\\myfolder\\dil\\patmatbaselinealena\\venv\\lib\\site-packages (from matplotlib<4->mlflow==2.13.0->-r requirements.txt (line 8)) (0.12.1)\n",
            "Requirement already satisfied: fonttools>=4.22.0 in c:\\users\\alena\\myfolder\\dil\\patmatbaselinealena\\venv\\lib\\site-packages (from matplotlib<4->mlflow==2.13.0->-r requirements.txt (line 8)) (4.52.4)\n",
            "Requirement already satisfied: kiwisolver>=1.3.1 in c:\\users\\alena\\myfolder\\dil\\patmatbaselinealena\\venv\\lib\\site-packages (from matplotlib<4->mlflow==2.13.0->-r requirements.txt (line 8)) (1.4.5)\n",
            "Requirement already satisfied: pyparsing>=2.3.1 in c:\\users\\alena\\myfolder\\dil\\patmatbaselinealena\\venv\\lib\\site-packages (from matplotlib<4->mlflow==2.13.0->-r requirements.txt (line 8)) (3.1.2)\n",
            "Requirement already satisfied: python-dateutil>=2.7 in c:\\users\\alena\\myfolder\\dil\\patmatbaselinealena\\venv\\lib\\site-packages (from matplotlib<4->mlflow==2.13.0->-r requirements.txt (line 8)) (2.9.0.post0)\n",
            "Requirement already satisfied: intel-openmp==2021.* in c:\\users\\alena\\myfolder\\dil\\patmatbaselinealena\\venv\\lib\\site-packages (from mkl<=2021.4.0,>=2021.1.1->torch==2.3.0+cu121->-r requirements.txt (line 2)) (2021.4.0)\n",
            "Requirement already satisfied: tbb==2021.* in c:\\users\\alena\\myfolder\\dil\\patmatbaselinealena\\venv\\lib\\site-packages (from mkl<=2021.4.0,>=2021.1.1->torch==2.3.0+cu121->-r requirements.txt (line 2)) (2021.12.0)\n",
            "Requirement already satisfied: deprecated>=1.2.6 in c:\\users\\alena\\myfolder\\dil\\patmatbaselinealena\\venv\\lib\\site-packages (from opentelemetry-api<3,>=1.0.0->mlflow==2.13.0->-r requirements.txt (line 8)) (1.2.14)\n",
            "Requirement already satisfied: opentelemetry-semantic-conventions==0.45b0 in c:\\users\\alena\\myfolder\\dil\\patmatbaselinealena\\venv\\lib\\site-packages (from opentelemetry-sdk<3,>=1.0.0->mlflow==2.13.0->-r requirements.txt (line 8)) (0.45b0)\n",
            "Requirement already satisfied: tzdata>=2022.7 in c:\\users\\alena\\myfolder\\dil\\patmatbaselinealena\\venv\\lib\\site-packages (from pandas<3->mlflow==2.13.0->-r requirements.txt (line 8)) (2024.1)\n",
            "Requirement already satisfied: six in c:\\users\\alena\\myfolder\\dil\\patmatbaselinealena\\venv\\lib\\site-packages (from querystring-parser<2->mlflow==2.13.0->-r requirements.txt (line 8)) (1.16.0)\n",
            "Requirement already satisfied: charset-normalizer<4,>=2 in c:\\users\\alena\\myfolder\\dil\\patmatbaselinealena\\venv\\lib\\site-packages (from requests->transformers==4.41.0->-r requirements.txt (line 5)) (3.3.2)\n",
            "Requirement already satisfied: idna<4,>=2.5 in c:\\users\\alena\\myfolder\\dil\\patmatbaselinealena\\venv\\lib\\site-packages (from requests->transformers==4.41.0->-r requirements.txt (line 5)) (3.7)\n",
            "Requirement already satisfied: certifi>=2017.4.17 in c:\\users\\alena\\myfolder\\dil\\patmatbaselinealena\\venv\\lib\\site-packages (from requests->transformers==4.41.0->-r requirements.txt (line 5)) (2024.2.2)\n",
            "Requirement already satisfied: greenlet!=0.4.17 in c:\\users\\alena\\myfolder\\dil\\patmatbaselinealena\\venv\\lib\\site-packages (from sqlalchemy<3,>=1.4.0->mlflow==2.13.0->-r requirements.txt (line 8)) (3.0.3)\n",
            "Requirement already satisfied: mpmath>=0.19 in c:\\users\\alena\\myfolder\\dil\\patmatbaselinealena\\venv\\lib\\site-packages (from sympy->torch==2.3.0+cu121->-r requirements.txt (line 2)) (1.3.0)\n",
            "Requirement already satisfied: wrapt<2,>=1.10 in c:\\users\\alena\\myfolder\\dil\\patmatbaselinealena\\venv\\lib\\site-packages (from deprecated>=1.2.6->opentelemetry-api<3,>=1.0.0->mlflow==2.13.0->-r requirements.txt (line 8)) (1.16.0)\n",
            "Requirement already satisfied: smmap<6,>=3.0.1 in c:\\users\\alena\\myfolder\\dil\\patmatbaselinealena\\venv\\lib\\site-packages (from gitdb<5,>=4.0.1->gitpython<4,>=3.1.9->mlflow==2.13.0->-r requirements.txt (line 8)) (5.0.1)\n",
            "Note: you may need to restart the kernel to use updated packages.\n"
          ]
        },
        {
          "name": "stderr",
          "output_type": "stream",
          "text": [
            "\n",
            "[notice] A new release of pip is available: 23.2.1 -> 24.0\n",
            "[notice] To update, run: python.exe -m pip install --upgrade pip\n"
          ]
        }
      ],
      "source": [
        "# install requirements\n",
        "%pip install -r requirements.txt"
      ]
    },
    {
      "cell_type": "code",
      "execution_count": 7,
      "metadata": {
        "id": "EN_w15otVkuJ"
      },
      "outputs": [],
      "source": [
        "import json\n",
        "from datetime import datetime\n",
        "import torch\n",
        "import torch.optim as optim\n",
        "from torch.utils.data import DataLoader, TensorDataset\n",
        "from sklearn.metrics import accuracy_score, confusion_matrix, f1_score, precision_score, recall_score, matthews_corrcoef\n",
        "import matplotlib.pyplot as plt\n",
        "import numpy as np\n",
        "import mlflow\n"
      ]
    },
    {
      "cell_type": "code",
      "execution_count": 8,
      "metadata": {
        "id": "Bq0bO91nhq4d"
      },
      "outputs": [],
      "source": [
        "# # this code uploads the credentials to MLflow given in the .env file\n",
        "from src.settings import (\n",
        "    MLFLOW_TRACKING_URI,\n",
        "    MLFLOW_TRACKING_USERNAME,\n",
        "    MLFLOW_TRACKING_PASSWORD\n",
        ")"
      ]
    },
    {
      "cell_type": "code",
      "execution_count": 9,
      "metadata": {
        "colab": {
          "base_uri": "https://localhost:8080/"
        },
        "id": "VfmPDll8XUCe",
        "outputId": "e5127137-3363-49ba-c2aa-58a9a60a62d0"
      },
      "outputs": [
        {
          "name": "stdout",
          "output_type": "stream",
          "text": [
            "Alena\n"
          ]
        }
      ],
      "source": [
        "#ensure path is set correctly and imports are correct\n",
        "print(MLFLOW_TRACKING_USERNAME)"
      ]
    },
    {
      "cell_type": "code",
      "execution_count": 10,
      "metadata": {
        "id": "wycUH2L0Vokl"
      },
      "outputs": [],
      "source": [
        "# Check if GPU is available and set the device\n",
        "device = torch.device(\"cuda\" if torch.cuda.is_available() else \"cpu\")"
      ]
    },
    {
      "cell_type": "code",
      "execution_count": 11,
      "metadata": {
        "colab": {
          "base_uri": "https://localhost:8080/"
        },
        "id": "CPXHC_jwOawA",
        "outputId": "4c17459f-c78c-49aa-fb24-9730836cdc8d"
      },
      "outputs": [
        {
          "data": {
            "text/plain": [
              "device(type='cpu')"
            ]
          },
          "execution_count": 11,
          "metadata": {},
          "output_type": "execute_result"
        }
      ],
      "source": [
        "device"
      ]
    },
    {
      "cell_type": "code",
      "execution_count": 12,
      "metadata": {
        "id": "4cFafKzYiDCA"
      },
      "outputs": [],
      "source": [
        "# Type either \"roberta-base\" or 'bert-base-uncased' here\n",
        "model_name = \"bert-base-uncased\""
      ]
    },
    {
      "cell_type": "code",
      "execution_count": 13,
      "metadata": {
        "colab": {
          "base_uri": "https://localhost:8080/"
        },
        "id": "MDZBYI4BiDCA",
        "outputId": "d3d018be-9243-44f6-a494-44658783f66e"
      },
      "outputs": [
        {
          "name": "stderr",
          "output_type": "stream",
          "text": [
            "c:\\Users\\alena\\MyFolder\\DIL\\PatMatBaselineAlena\\venv\\Lib\\site-packages\\tqdm\\auto.py:21: TqdmWarning: IProgress not found. Please update jupyter and ipywidgets. See https://ipywidgets.readthedocs.io/en/stable/user_install.html\n",
            "  from .autonotebook import tqdm as notebook_tqdm\n",
            "Some weights of BertForSequenceClassification were not initialized from the model checkpoint at bert-base-uncased and are newly initialized: ['classifier.bias', 'classifier.weight']\n",
            "You should probably TRAIN this model on a down-stream task to be able to use it for predictions and inference.\n"
          ]
        }
      ],
      "source": [
        "if model_name == \"roberta-base\":\n",
        "    # Load the tokenizer\n",
        "    from transformers import AutoTokenizer, AutoModelForSequenceClassification\n",
        "    tokenizer = AutoTokenizer.from_pretrained(\"roberta-base\")\n",
        "    # Load the pre-trained ROBERTA model for sequence classification\n",
        "    model = AutoModelForSequenceClassification.from_pretrained(\"roberta-base\", num_labels=2)\n",
        "else:\n",
        "    from transformers import BertTokenizer, BertForSequenceClassification\n",
        "    # Load the tokenizer\n",
        "    tokenizer = BertTokenizer.from_pretrained('bert-base-uncased')\n",
        "    # Load the pre-trained BERT model for sequence classification\n",
        "    model = BertForSequenceClassification.from_pretrained('bert-base-uncased', num_labels=2)"
      ]
    },
    {
      "cell_type": "code",
      "execution_count": 14,
      "metadata": {
        "id": "IzOLicU3w3c8"
      },
      "outputs": [],
      "source": [
        "def print_memory_usage():\n",
        "    print(f\"Memory Allocated: {torch.cuda.memory_allocated() / 1024**2:.2f} MB\")\n",
        "    print(f\"Memory Reserved: {torch.cuda.memory_reserved() / 1024**2:.2f} MB\")"
      ]
    },
    {
      "cell_type": "code",
      "execution_count": 15,
      "metadata": {
        "colab": {
          "base_uri": "https://localhost:8080/"
        },
        "id": "aTeffGmQw888",
        "outputId": "58b7d7a9-5039-442b-c9cb-bc306170e131"
      },
      "outputs": [
        {
          "name": "stdout",
          "output_type": "stream",
          "text": [
            "Before loading model:\n",
            "Memory Allocated: 0.00 MB\n",
            "Memory Reserved: 0.00 MB\n"
          ]
        }
      ],
      "source": [
        "print(\"Before loading model:\")\n",
        "print_memory_usage()"
      ]
    },
    {
      "cell_type": "code",
      "execution_count": 16,
      "metadata": {
        "colab": {
          "base_uri": "https://localhost:8080/"
        },
        "id": "Cin8Nmy0Siys",
        "outputId": "3b4773cf-c6d6-4e96-ad9d-7570a6f88a47"
      },
      "outputs": [
        {
          "data": {
            "text/plain": [
              "BertForSequenceClassification(\n",
              "  (bert): BertModel(\n",
              "    (embeddings): BertEmbeddings(\n",
              "      (word_embeddings): Embedding(30522, 768, padding_idx=0)\n",
              "      (position_embeddings): Embedding(512, 768)\n",
              "      (token_type_embeddings): Embedding(2, 768)\n",
              "      (LayerNorm): LayerNorm((768,), eps=1e-12, elementwise_affine=True)\n",
              "      (dropout): Dropout(p=0.1, inplace=False)\n",
              "    )\n",
              "    (encoder): BertEncoder(\n",
              "      (layer): ModuleList(\n",
              "        (0-11): 12 x BertLayer(\n",
              "          (attention): BertAttention(\n",
              "            (self): BertSdpaSelfAttention(\n",
              "              (query): Linear(in_features=768, out_features=768, bias=True)\n",
              "              (key): Linear(in_features=768, out_features=768, bias=True)\n",
              "              (value): Linear(in_features=768, out_features=768, bias=True)\n",
              "              (dropout): Dropout(p=0.1, inplace=False)\n",
              "            )\n",
              "            (output): BertSelfOutput(\n",
              "              (dense): Linear(in_features=768, out_features=768, bias=True)\n",
              "              (LayerNorm): LayerNorm((768,), eps=1e-12, elementwise_affine=True)\n",
              "              (dropout): Dropout(p=0.1, inplace=False)\n",
              "            )\n",
              "          )\n",
              "          (intermediate): BertIntermediate(\n",
              "            (dense): Linear(in_features=768, out_features=3072, bias=True)\n",
              "            (intermediate_act_fn): GELUActivation()\n",
              "          )\n",
              "          (output): BertOutput(\n",
              "            (dense): Linear(in_features=3072, out_features=768, bias=True)\n",
              "            (LayerNorm): LayerNorm((768,), eps=1e-12, elementwise_affine=True)\n",
              "            (dropout): Dropout(p=0.1, inplace=False)\n",
              "          )\n",
              "        )\n",
              "      )\n",
              "    )\n",
              "    (pooler): BertPooler(\n",
              "      (dense): Linear(in_features=768, out_features=768, bias=True)\n",
              "      (activation): Tanh()\n",
              "    )\n",
              "  )\n",
              "  (dropout): Dropout(p=0.1, inplace=False)\n",
              "  (classifier): Linear(in_features=768, out_features=2, bias=True)\n",
              ")"
            ]
          },
          "execution_count": 16,
          "metadata": {},
          "output_type": "execute_result"
        }
      ],
      "source": [
        "# Move the model to the proper device\n",
        "model.to(device)"
      ]
    },
    {
      "cell_type": "code",
      "execution_count": 17,
      "metadata": {
        "colab": {
          "base_uri": "https://localhost:8080/"
        },
        "id": "UxiCdi2UxNKr",
        "outputId": "ff999bac-c160-4084-ed6a-290d8039ce05"
      },
      "outputs": [
        {
          "name": "stdout",
          "output_type": "stream",
          "text": [
            "After loading model:\n",
            "Memory Allocated: 0.00 MB\n",
            "Memory Reserved: 0.00 MB\n"
          ]
        }
      ],
      "source": [
        "print(\"After loading model:\")\n",
        "print_memory_usage()"
      ]
    },
    {
      "cell_type": "code",
      "execution_count": 18,
      "metadata": {
        "colab": {
          "base_uri": "https://localhost:8080/"
        },
        "id": "CGf6o3nBoRTp",
        "outputId": "daba0a92-f3a6-43dd-d584-3bf1fcd4ec19"
      },
      "outputs": [
        {
          "name": "stdout",
          "output_type": "stream",
          "text": [
            "The maximum sequence length for this BERT model is: 512\n"
          ]
        }
      ],
      "source": [
        "print(f\"The maximum sequence length for this BERT model is: {tokenizer.model_max_length}\")"
      ]
    },
    {
      "cell_type": "code",
      "execution_count": 19,
      "metadata": {
        "id": "qKfcOZM9Wduw"
      },
      "outputs": [],
      "source": [
        "def load_jsonl(filename):\n",
        "    data = []\n",
        "    with open(filename, 'r') as f:\n",
        "        for line in f:\n",
        "            data.append(json.loads(line))\n",
        "    return data\n",
        "\n",
        "train_data = load_jsonl('data/train.jsonl')\n",
        "validation_data = load_jsonl('data/validation.jsonl')\n",
        "test_data = load_jsonl('data/test.jsonl')\n",
        "\n",
        "\n",
        "# Prepare the texts and labels\n",
        "train_texts = [(item['text'], item['text_b']) for item in train_data]\n",
        "train_labels = [item['label'] for item in train_data]\n",
        "validation_texts = [(item['text'], item['text_b']) for item in validation_data]\n",
        "validation_labels = [item['label'] for item in validation_data]\n",
        "test_texts = [(item['text'], item['text_b']) for item in test_data]\n",
        "test_labels = [item['label'] for item in test_data]"
      ]
    },
    {
      "cell_type": "code",
      "execution_count": 20,
      "metadata": {
        "colab": {
          "base_uri": "https://localhost:8080/"
        },
        "id": "ixDq07t0fwAr",
        "outputId": "5ce01e34-654b-4fc8-8e83-b7edeef79b8b"
      },
      "outputs": [
        {
          "data": {
            "text/plain": [
              "(2304, 2304, 577, 577, 769, 769)"
            ]
          },
          "execution_count": 20,
          "metadata": {},
          "output_type": "execute_result"
        }
      ],
      "source": [
        "len(train_texts), len(train_labels), len(validation_texts), len(validation_labels), len(test_texts), len(test_labels)"
      ]
    },
    {
      "cell_type": "code",
      "execution_count": 21,
      "metadata": {
        "id": "TJjzfcB-9deF"
      },
      "outputs": [],
      "source": [
        "# If you don't have a GPU, limit the amount of data\n",
        "if device.type == 'cpu':\n",
        "    train_texts = train_texts[:10]\n",
        "    train_labels = train_labels[:10]\n",
        "    validation_texts = validation_texts[:10]\n",
        "    validation_labels = validation_labels[:10]\n",
        "    test_texts = test_texts[:10]\n",
        "    test_labels = test_labels[:10]"
      ]
    },
    {
      "cell_type": "code",
      "execution_count": 22,
      "metadata": {
        "id": "Rks1st2bNzFr"
      },
      "outputs": [],
      "source": [
        "def explore_text_lengths(texts, index):\n",
        "    mapping = {\n",
        "        0: \"Train set\",\n",
        "        1: \"Validation set\",\n",
        "        2: \"Test set\"\n",
        "    }\n",
        "\n",
        "    print(f\"{mapping[index]}\")\n",
        "\n",
        "    # Calculate token lengths using the tokenizer\n",
        "    token_lengths = [len(tokenizer.encode(item[0], item[1], truncation=False, add_special_tokens=True)) for item in texts]\n",
        "\n",
        "    sorted_lengths = np.sort(token_lengths)\n",
        "    percentile_95_length = np.percentile(sorted_lengths, 95)\n",
        "    print(f\"The number of tokens at which 95% of the texts fit is: {percentile_95_length}\")\n",
        "\n",
        "    max_length = 512  # You can adjust this value as needed\n",
        "    num_texts_below_given_length = np.sum(sorted_lengths <= max_length)\n",
        "    percentage_texts_below_given_length = (num_texts_below_given_length / len(sorted_lengths)) * 100\n",
        "    print(f\"The percentage of combined texts below {max_length} tokens is: {percentage_texts_below_given_length:.2f}%\")\n",
        "\n",
        "    max_index = [(i, length) for (i, length) in enumerate(token_lengths) if length > max_length]\n",
        "    print(f\"The number of examples where combined text will be truncated (> {max_length} tokens) is: {len(max_index)}\")\n",
        "\n",
        "    # Visualize the distribution of the lengths of the combined texts\n",
        "    plt.hist(token_lengths, bins=100)\n",
        "    plt.axvline(percentile_95_length, color='r', linestyle='dashed', linewidth=1)\n",
        "    plt.title(f'Distribution of Combined Text Lengths, {mapping[index]}')\n",
        "    plt.xlabel('Length (number of tokens)')\n",
        "    plt.ylabel('Frequency')\n",
        "    plt.show()"
      ]
    },
    {
      "cell_type": "code",
      "execution_count": 23,
      "metadata": {
        "colab": {
          "base_uri": "https://localhost:8080/",
          "height": 1000
        },
        "id": "lkZd-yNfXUCi",
        "outputId": "07af07e3-6bad-42fc-99b3-ae29174b4dec"
      },
      "outputs": [
        {
          "name": "stdout",
          "output_type": "stream",
          "text": [
            "Train set\n",
            "The number of tokens at which 95% of the texts fit is: 407.6499999999999\n",
            "The percentage of combined texts below 512 tokens is: 100.00%\n",
            "The number of examples where combined text will be truncated (> 512 tokens) is: 0\n"
          ]
        },
        {
          "data": {
            "image/png": "[encoded data removed]",
            "text/plain": [
              "<Figure size 640x480 with 1 Axes>"
            ]
          },
          "metadata": {},
          "output_type": "display_data"
        },
        {
          "name": "stdout",
          "output_type": "stream",
          "text": [
            "Validation set\n",
            "The number of tokens at which 95% of the texts fit is: 389.8999999999999\n",
            "The percentage of combined texts below 512 tokens is: 100.00%\n",
            "The number of examples where combined text will be truncated (> 512 tokens) is: 0\n"
          ]
        },
        {
          "data": {
            "image/png": "[encoded data removed]",
            "text/plain": [
              "<Figure size 640x480 with 1 Axes>"
            ]
          },
          "metadata": {},
          "output_type": "display_data"
        },
        {
          "name": "stdout",
          "output_type": "stream",
          "text": [
            "Test set\n",
            "The number of tokens at which 95% of the texts fit is: 377.5499999999999\n",
            "The percentage of combined texts below 512 tokens is: 100.00%\n",
            "The number of examples where combined text will be truncated (> 512 tokens) is: 0\n"
          ]
        },
        {
          "data": {
            "image/png": "[encoded data removed]",
            "text/plain": [
              "<Figure size 640x480 with 1 Axes>"
            ]
          },
          "metadata": {},
          "output_type": "display_data"
        }
      ],
      "source": [
        "for i, texts in enumerate([train_texts, validation_texts, test_texts]):\n",
        "    explore_text_lengths(texts, i)"
      ]
    },
    {
      "cell_type": "code",
      "execution_count": 24,
      "metadata": {
        "id": "djQG6qeN9spm"
      },
      "outputs": [],
      "source": [
        "config = {\n",
        "    'learning_rate': 2e-5,\n",
        "    'lr_scheduler': \"StepLR\",\n",
        "    'gamma': 0.1,\n",
        "    'step_size': 1,\n",
        "    'batch_size': 32,\n",
        "    'num_epochs': 4,\n",
        "    'max_length': 512,\n",
        "    'test_size': 0.2,\n",
        "    'random_state': 42,\n",
        "    'base_model': model_name\n",
        "}"
      ]
    },
    {
      "cell_type": "code",
      "execution_count": 25,
      "metadata": {
        "colab": {
          "base_uri": "https://localhost:8080/"
        },
        "id": "BRqHCXhzW9k8",
        "outputId": "8a27b9f0-8cca-4c47-9896-9f66ec217537"
      },
      "outputs": [],
      "source": [
        "train_encodings = tokenizer(train_texts, padding=True, truncation=True, return_tensors=\"pt\", max_length=config['max_length'])\n",
        "validation_encodings = tokenizer(validation_texts, padding=True, truncation=True, return_tensors=\"pt\", max_length=config['max_length'])\n",
        "test_encodings = tokenizer(test_texts, padding=True, truncation=True, return_tensors=\"pt\", max_length=config['max_length'])\n",
        "\n",
        "train_input_ids = train_encodings['input_ids']\n",
        "train_attention_mask = train_encodings['attention_mask']\n",
        "\n",
        "validation_input_ids = validation_encodings['input_ids']\n",
        "validation_attention_mask = validation_encodings['attention_mask']\n",
        "\n",
        "test_input_ids = test_encodings['input_ids']\n",
        "test_attention_mask = test_encodings['attention_mask']\n",
        "\n",
        "# Convert labels to tensors\n",
        "train_labels = torch.tensor(train_labels, dtype=torch.long)\n",
        "validation_labels = torch.tensor(validation_labels, dtype=torch.long)\n",
        "test_labels = torch.tensor(test_labels, dtype=torch.long)"
      ]
    },
    {
      "cell_type": "code",
      "execution_count": 26,
      "metadata": {
        "colab": {
          "base_uri": "https://localhost:8080/"
        },
        "id": "3t0T1oeqXUCj",
        "outputId": "4ddc6ee0-31da-4df3-91b0-a2722e481364"
      },
      "outputs": [
        {
          "name": "stdout",
          "output_type": "stream",
          "text": [
            "445\n",
            "tensor([1, 1, 1, 1, 1, 1, 1, 1, 1, 1, 1, 1, 1, 1, 1, 1, 1, 1, 1, 1, 1, 1, 1, 1,\n",
            "        1, 1, 1, 1, 1, 1, 1, 1, 1, 1, 1, 1, 1, 1, 1, 1, 1, 1, 1, 1, 1, 1, 1, 1,\n",
            "        1, 1, 1, 1, 1, 1, 1, 1, 1, 1, 1, 1, 1, 1, 1, 1, 1, 1, 1, 1, 1, 1, 1, 1,\n",
            "        1, 1, 1, 1, 1, 1, 1, 1, 1, 1, 1, 1, 1, 1, 1, 1, 1, 1, 1, 1, 1, 1, 1, 1,\n",
            "        1, 1, 1, 1, 1, 1, 1, 1, 1, 1, 1, 1, 1, 1, 1, 1, 1, 1, 1, 1, 1, 1, 1, 1,\n",
            "        1, 1, 1, 1, 1, 1, 1, 1, 1, 1, 1, 1, 1, 1, 1, 1, 1, 1, 1, 1, 1, 1, 1, 1,\n",
            "        1, 1, 1, 1, 1, 1, 1, 1, 1, 1, 1, 1, 1, 1, 1, 1, 1, 1, 1, 1, 1, 1, 1, 1,\n",
            "        1, 1, 1, 1, 1, 1, 1, 1, 1, 1, 1, 1, 1, 1, 1, 1, 1, 1, 1, 1, 1, 1, 1, 1,\n",
            "        1, 1, 1, 1, 1, 1, 1, 1, 1, 1, 1, 1, 1, 1, 1, 1, 1, 1, 1, 1, 1, 1, 1, 1,\n",
            "        1, 1, 1, 1, 1, 1, 1, 1, 1, 1, 1, 1, 1, 1, 1, 1, 1, 1, 1, 1, 1, 1, 1, 1,\n",
            "        1, 1, 1, 1, 1, 1, 1, 1, 1, 1, 1, 1, 1, 1, 1, 1, 1, 1, 1, 1, 1, 1, 1, 1,\n",
            "        1, 1, 1, 1, 1, 1, 1, 1, 1, 1, 1, 1, 1, 1, 1, 1, 1, 1, 1, 1, 1, 1, 1, 1,\n",
            "        1, 1, 1, 1, 1, 1, 1, 1, 1, 1, 1, 1, 1, 1, 1, 1, 1, 1, 1, 1, 1, 1, 1, 1,\n",
            "        1, 1, 1, 1, 1, 1, 1, 1, 1, 1, 1, 1, 1, 1, 1, 1, 1, 1, 1, 1, 1, 1, 1, 1,\n",
            "        1, 1, 1, 1, 1, 1, 1, 1, 1, 1, 1, 1, 1, 1, 1, 1, 1, 1, 1, 1, 1, 1, 1, 1,\n",
            "        1, 1, 1, 1, 1, 1, 1, 1, 1, 1, 1, 1, 1, 1, 1, 1, 1, 1, 1, 1, 1, 1, 1, 1,\n",
            "        1, 1, 1, 1, 1, 1, 1, 1, 1, 1, 1, 1, 1, 1, 1, 1, 1, 1, 1, 1, 1, 1, 1, 1,\n",
            "        1, 1, 1, 1, 1, 1, 1, 1, 1, 1, 1, 1, 1, 1, 1, 1, 1, 1, 1, 1, 1, 1, 1, 1,\n",
            "        1, 1, 1, 1, 1, 1, 1, 1, 1, 1, 1, 1, 1])\n"
          ]
        }
      ],
      "source": [
        "decoded = tokenizer.decode(train_encodings[\"input_ids\"][0])\n",
        "print(len(train_encodings[\"input_ids\"][0]))\n",
        "at_mask = train_encodings[\"attention_mask\"][0]\n",
        "print(at_mask)"
      ]
    },
    {
      "cell_type": "code",
      "execution_count": 27,
      "metadata": {
        "colab": {
          "base_uri": "https://localhost:8080/"
        },
        "id": "Uu3594sXXrBP",
        "outputId": "8d629d50-69e6-4d44-e104-8c2554ff22d8"
      },
      "outputs": [
        {
          "data": {
            "text/plain": [
              "(torch.Size([10, 445]),\n",
              " torch.Size([10, 445]),\n",
              " torch.Size([10, 425]),\n",
              " torch.Size([10, 425]),\n",
              " torch.Size([10, 423]),\n",
              " torch.Size([10, 423]))"
            ]
          },
          "execution_count": 27,
          "metadata": {},
          "output_type": "execute_result"
        }
      ],
      "source": [
        "train_input_ids.shape, train_attention_mask.shape, validation_input_ids.shape, validation_attention_mask.shape, test_input_ids.shape, test_attention_mask.shape"
      ]
    },
    {
      "cell_type": "code",
      "execution_count": 28,
      "metadata": {
        "colab": {
          "base_uri": "https://localhost:8080/"
        },
        "id": "ujI85aJTflSe",
        "outputId": "344601ae-8e25-4333-a679-e646185641bd"
      },
      "outputs": [
        {
          "data": {
            "text/plain": [
              "(torch.Size([10]), torch.Size([10]), torch.Size([10]))"
            ]
          },
          "execution_count": 28,
          "metadata": {},
          "output_type": "execute_result"
        }
      ],
      "source": [
        "train_labels.shape, validation_labels.shape, test_labels.shape"
      ]
    },
    {
      "cell_type": "code",
      "execution_count": 29,
      "metadata": {
        "id": "YHnEqV-jgjxe"
      },
      "outputs": [],
      "source": [
        "train_data = TensorDataset(train_input_ids, train_attention_mask, train_labels)\n",
        "validation_data = TensorDataset(validation_input_ids, validation_attention_mask, validation_labels)\n",
        "test_data = TensorDataset(test_input_ids, test_attention_mask, test_labels)"
      ]
    },
    {
      "cell_type": "code",
      "execution_count": 30,
      "metadata": {
        "colab": {
          "base_uri": "https://localhost:8080/"
        },
        "id": "Ijjl-kKSvpJw",
        "outputId": "f0cfd205-4ec5-446d-af9e-504665230400"
      },
      "outputs": [
        {
          "data": {
            "text/plain": [
              "(torch.Size([10, 445]), torch.Size([10, 445]), torch.Size([10]))"
            ]
          },
          "execution_count": 30,
          "metadata": {},
          "output_type": "execute_result"
        }
      ],
      "source": [
        "train_data.tensors[0].shape, train_data.tensors[1].shape, train_data.tensors[2].shape"
      ]
    },
    {
      "cell_type": "code",
      "execution_count": 31,
      "metadata": {
        "colab": {
          "base_uri": "https://localhost:8080/"
        },
        "id": "RjfnUdNxXUCl",
        "outputId": "4c912e70-833b-4be3-8eaf-c165b9ac74b0"
      },
      "outputs": [
        {
          "data": {
            "text/plain": [
              "(torch.Size([10, 425]), torch.Size([10, 425]), torch.Size([10]))"
            ]
          },
          "execution_count": 31,
          "metadata": {},
          "output_type": "execute_result"
        }
      ],
      "source": [
        "validation_data.tensors[0].shape, validation_data.tensors[1].shape, validation_data.tensors[2].shape"
      ]
    },
    {
      "cell_type": "code",
      "execution_count": 32,
      "metadata": {
        "colab": {
          "base_uri": "https://localhost:8080/"
        },
        "id": "eaQ6MpRJiDCC",
        "outputId": "1816b5ad-1fea-4341-8750-8ad2b522067a"
      },
      "outputs": [
        {
          "data": {
            "text/plain": [
              "(torch.Size([10, 423]), torch.Size([10, 423]), torch.Size([10]))"
            ]
          },
          "execution_count": 32,
          "metadata": {},
          "output_type": "execute_result"
        }
      ],
      "source": [
        "test_data.tensors[0].shape, test_data.tensors[1].shape, test_data.tensors[2].shape"
      ]
    },
    {
      "cell_type": "code",
      "execution_count": 33,
      "metadata": {
        "id": "dW3f6u63gl3e"
      },
      "outputs": [],
      "source": [
        "train_dataloader = DataLoader(train_data, batch_size=config[\"batch_size\"])\n",
        "validation_dataloader = DataLoader(validation_data, batch_size=config[\"batch_size\"])\n",
        "test_dataloader = DataLoader(test_data, batch_size=config[\"batch_size\"])"
      ]
    },
    {
      "cell_type": "code",
      "execution_count": 34,
      "metadata": {
        "colab": {
          "base_uri": "https://localhost:8080/"
        },
        "id": "a-_3bqnVuG5E",
        "outputId": "144c45d0-df6c-4344-dfa6-d49e664b13d0"
      },
      "outputs": [
        {
          "name": "stdout",
          "output_type": "stream",
          "text": [
            "torch.Size([10, 445]) torch.Size([10, 445]) torch.Size([10])\n"
          ]
        }
      ],
      "source": [
        "for batch in train_dataloader:\n",
        "    print(batch[0].shape, batch[1].shape, batch[2].shape)\n",
        "    break"
      ]
    },
    {
      "cell_type": "code",
      "execution_count": 35,
      "metadata": {
        "id": "5f7iNasHV-lx"
      },
      "outputs": [],
      "source": [
        "# Define the optimizer and scheduler\n",
        "optimizer = optim.AdamW(model.parameters(), lr=config['learning_rate'])\n",
        "scheduler = optim.lr_scheduler.StepLR(optimizer, step_size=config['step_size'], gamma=config['gamma'])"
      ]
    },
    {
      "cell_type": "code",
      "execution_count": 36,
      "metadata": {
        "id": "CnPWjaySr_EG"
      },
      "outputs": [],
      "source": [
        "user = MLFLOW_TRACKING_USERNAME\n",
        "experiment_name = 'Alena_PatentMatchBaseline'\n",
        "\n",
        "\n",
        "def timestamp():\n",
        "    \"\"\"This function creates current timestamp\"\"\"\n",
        "    return datetime.now().strftime(\"%Y_%m_%d_%H%M_%S\")"
      ]
    },
    {
      "cell_type": "code",
      "execution_count": 37,
      "metadata": {
        "id": "Ehg7IamOCLsH"
      },
      "outputs": [],
      "source": [
        "experiment = mlflow.get_experiment_by_name(experiment_name)\n",
        "if experiment is None or experiment.lifecycle_stage == 'deleted':\n",
        "    mlflow.create_experiment(experiment_name)\n",
        "    experiment = mlflow.get_experiment_by_name(experiment_name)"
      ]
    },
    {
      "cell_type": "code",
      "execution_count": 38,
      "metadata": {
        "id": "r0TnzRGKXUCo"
      },
      "outputs": [],
      "source": [
        "model_save_path = f'models/{timestamp()}'\n",
        "\n",
        "if not os.path.exists(model_save_path):\n",
        "    os.makedirs(model_save_path)"
      ]
    },
    {
      "cell_type": "code",
      "execution_count": 39,
      "metadata": {
        "id": "7PkMxr6LiDCD"
      },
      "outputs": [],
      "source": [
        "def calculate_and_log_train_metrics_and_hp(train_loss, epoch):\n",
        "    # Log the average training loss for the epoch\n",
        "    avg_train_loss = train_loss / len(train_dataloader)\n",
        "    mlflow.log_metric(\"train_loss\", avg_train_loss, step=epoch)\n",
        "    print(f\"Average training loss for epoch {epoch + 1}: {avg_train_loss}\")\n",
        "\n",
        "    # Log the current learning rate\n",
        "    current_lr = optimizer.param_groups[0]['lr']\n",
        "    mlflow.log_metric(\"learning_rate\", current_lr, step=epoch)\n",
        "    print(f\"Current learning rate for epoch {epoch + 1}: {current_lr}\")"
      ]
    },
    {
      "cell_type": "code",
      "execution_count": 40,
      "metadata": {
        "id": "ab22PDh-iDCD"
      },
      "outputs": [],
      "source": [
        "def calculate_and_log_metrics(true_labels, predictions, epoch=None, test=False):\n",
        "    step = \"test\" if test else \"val\"\n",
        "    \n",
        "    # Calculate metrics\n",
        "    accuracy = accuracy_score(true_labels, predictions)\n",
        "    precision = precision_score(true_labels, predictions, zero_division='warn')\n",
        "    recall = recall_score(true_labels, predictions, zero_division=\"warn\")\n",
        "    f1 = f1_score(true_labels, predictions, zero_division=\"warn\")\n",
        "    mcc = matthews_corrcoef(true_labels, predictions)\n",
        "\n",
        "    # Log metrics\n",
        "    mlflow.log_metric(f\"{step}_accuracy\", accuracy, step=epoch)\n",
        "    mlflow.log_metric(f\"{step}_precision\", precision, step=epoch)\n",
        "    mlflow.log_metric(f\"{step}_recall\", recall, step=epoch)\n",
        "    mlflow.log_metric(f\"{step}_f1\", f1, step=epoch)\n",
        "    mlflow.log_metric(f\"{step}_mcc\", mcc, step=epoch)\n",
        "\n",
        "    print(f\"{step} Accuracy: {accuracy}\")\n",
        "    print(f\"{step} Precision: {precision}\")\n",
        "    print(f\"{step} Recall: {recall}\")\n",
        "    print(f\"{step} F1 Score: {f1}\")\n",
        "    print(f\"{step} MCC: {mcc}\")\n",
        "    \n",
        "    return mcc"
      ]
    },
    {
      "cell_type": "code",
      "execution_count": 41,
      "metadata": {
        "id": "-hoalHVWiDCD"
      },
      "outputs": [],
      "source": [
        "def calculate_and_log_cm(true_labels, predictions, epoch=None, test=False):\n",
        "    step = \"test\" if test else \"val\"\n",
        "\n",
        "    # Calculate the confusion matrix\n",
        "    cm = confusion_matrix(true_labels, predictions, normalize='true')\n",
        "    cm_filename = f\"artifacts/{step}_{timestamp()}_confusion_matrix_epoch_{epoch}.csv\"\n",
        "    np.savetxt(cm_filename, cm, delimiter=\",\")\n",
        "    mlflow.log_artifact(cm_filename)\n",
        "    print(cm)"
      ]
    },
    {
      "cell_type": "code",
      "execution_count": 42,
      "metadata": {
        "colab": {
          "base_uri": "https://localhost:8080/"
        },
        "id": "S78HlfCEjILj",
        "outputId": "90b16858-fa95-4bab-a981-7b29169dafd7"
      },
      "outputs": [
        {
          "name": "stdout",
          "output_type": "stream",
          "text": [
            "############### Started 1 epoch ###############\n",
            "Started training on 1 epoch\n",
            "Average training loss for epoch 1: 0.9973548054695129\n",
            "Current learning rate for epoch 1: 2e-05\n",
            "Finished training on 1 epoch\n",
            "Started validation on 1 epoch\n",
            "Average validation loss for epoch 1: 0.7314024567604065\n",
            "val Accuracy: 0.4\n",
            "val Precision: 0.0\n",
            "val Recall: 0.0\n",
            "val F1 Score: 0.0\n",
            "val MCC: -0.4082482904638631\n",
            "[[0.66666667 0.33333333]\n",
            " [1.         0.        ]]\n",
            "Finished validation on 1 epoch\n",
            "############### Finished 1 epoch ###############\n",
            "\n",
            "############### Started 2 epoch ###############\n",
            "Started training on 2 epoch\n",
            "Average training loss for epoch 2: 0.6955292820930481\n",
            "Current learning rate for epoch 2: 2.0000000000000003e-06\n",
            "Finished training on 2 epoch\n",
            "Started validation on 2 epoch\n",
            "Average validation loss for epoch 2: 0.7327733039855957\n",
            "val Accuracy: 0.4\n",
            "val Precision: 0.0\n",
            "val Recall: 0.0\n",
            "val F1 Score: 0.0\n",
            "val MCC: -0.4082482904638631\n",
            "[[0.66666667 0.33333333]\n",
            " [1.         0.        ]]\n",
            "Finished validation on 2 epoch\n",
            "############### Finished 2 epoch ###############\n",
            "\n",
            "############### Started 3 epoch ###############\n",
            "Started training on 3 epoch\n",
            "Average training loss for epoch 3: 0.7109376192092896\n",
            "Current learning rate for epoch 3: 2.0000000000000004e-07\n",
            "Finished training on 3 epoch\n",
            "Started validation on 3 epoch\n",
            "Average validation loss for epoch 3: 0.7329402565956116\n",
            "val Accuracy: 0.4\n",
            "val Precision: 0.0\n",
            "val Recall: 0.0\n",
            "val F1 Score: 0.0\n",
            "val MCC: -0.4082482904638631\n",
            "[[0.66666667 0.33333333]\n",
            " [1.         0.        ]]\n",
            "Finished validation on 3 epoch\n",
            "############### Finished 3 epoch ###############\n",
            "\n",
            "############### Started 4 epoch ###############\n",
            "Started training on 4 epoch\n",
            "Average training loss for epoch 4: 0.6918869018554688\n",
            "Current learning rate for epoch 4: 2.0000000000000007e-08\n",
            "Finished training on 4 epoch\n",
            "Started validation on 4 epoch\n",
            "Average validation loss for epoch 4: 0.7329617738723755\n",
            "val Accuracy: 0.4\n",
            "val Precision: 0.0\n",
            "val Recall: 0.0\n",
            "val F1 Score: 0.0\n",
            "val MCC: -0.4082482904638631\n",
            "[[0.66666667 0.33333333]\n",
            " [1.         0.        ]]\n",
            "Finished validation on 4 epoch\n",
            "############### Finished 4 epoch ###############\n",
            "\n"
          ]
        }
      ],
      "source": [
        "with mlflow.start_run(experiment_id=experiment.experiment_id) as run:\n",
        "    run_id = run.info.run_id\n",
        "    for param_name, param_value in config.items():\n",
        "        mlflow.log_param(param_name, param_value)\n",
        "\n",
        "    best_mcc = -1\n",
        "\n",
        "    for epoch in range(config['num_epochs']):  # Number of training epochs\n",
        "        print(f'############### Started {epoch + 1} epoch ###############')\n",
        "\n",
        "        # Set run name\n",
        "        mlflow.set_tag(key='mlflow.runName', value=f'{timestamp()}_{user}')\n",
        "\n",
        "        print(f'Started training on {epoch + 1} epoch')\n",
        "        model.train()\n",
        "        train_loss = 0.0\n",
        "        for batch in train_dataloader:\n",
        "            b_input_ids, b_attention_mask, b_labels = batch\n",
        "\n",
        "            # Move the batch to the proper device\n",
        "            b_input_ids = b_input_ids.to(device)\n",
        "            b_attention_mask = b_attention_mask.to(device)\n",
        "            b_labels = b_labels.to(device)\n",
        "\n",
        "            model.zero_grad()\n",
        "\n",
        "            outputs = model(b_input_ids, attention_mask=b_attention_mask, labels=b_labels)\n",
        "            loss = outputs.loss\n",
        "            loss.backward()\n",
        "\n",
        "            # Clip gradients\n",
        "            torch.nn.utils.clip_grad_norm_(model.parameters(), 1.0)\n",
        "\n",
        "            optimizer.step()\n",
        "            train_loss += loss.item()\n",
        "\n",
        "        calculate_and_log_train_metrics_and_hp(train_loss, epoch)\n",
        "        print(f'Finished training on {epoch + 1} epoch')\n",
        "\n",
        "        # Validation loop\n",
        "        print(f'Started validation on {epoch + 1} epoch')\n",
        "        model.eval()\n",
        "        val_loss = 0.0\n",
        "        val_predictions, val_true_labels = [], []\n",
        "        for batch in validation_dataloader:\n",
        "            b_input_ids, b_attention_mask, b_labels = batch\n",
        "\n",
        "            # Move the batch to the proper device\n",
        "            b_input_ids = b_input_ids.to(device)\n",
        "            b_attention_mask = b_attention_mask.to(device)\n",
        "            b_labels = b_labels.to(device)\n",
        "\n",
        "            with torch.no_grad():\n",
        "                outputs = model(b_input_ids, attention_mask=b_attention_mask, labels=b_labels)\n",
        "\n",
        "            logits = outputs.logits\n",
        "            loss = outputs.loss\n",
        "            val_loss += loss.item()\n",
        "\n",
        "            val_predictions.extend(torch.argmax(logits, dim=1).cpu().tolist())\n",
        "            val_true_labels.extend(b_labels.cpu().tolist())\n",
        "\n",
        "        # Log the average validation loss for the epoch\n",
        "        avg_val_loss = val_loss / len(validation_dataloader)\n",
        "        mlflow.log_metric(\"val_loss\", avg_val_loss, step=epoch)\n",
        "        print(f\"Average validation loss for epoch {epoch + 1}: {avg_val_loss}\")\n",
        "\n",
        "        mcc = calculate_and_log_metrics(val_true_labels, val_predictions, epoch)\n",
        "\n",
        "        # Save the best model based on the Matthew correlation coefficient\n",
        "        if mcc > best_mcc:\n",
        "            best_mcc = mcc\n",
        "            print(f\"Current best Matthew correlation coefficient: {best_mcc}\")\n",
        "            best_model_path = os.path.join(model_save_path, \"best\")\n",
        "            if not os.path.exists(best_model_path):\n",
        "                os.makedirs(best_model_path)\n",
        "            model_to_save = model.module if hasattr(model, 'module') else model\n",
        "            model_to_save.save_pretrained(best_model_path)\n",
        "            tokenizer.save_pretrained(best_model_path)\n",
        "\n",
        "        calculate_and_log_cm(val_true_labels, val_predictions, epoch)\n",
        "        print(f'Finished validation on {epoch + 1} epoch')\n",
        "        print(f'############### Finished {epoch + 1} epoch ###############\\n')\n",
        "\n",
        "        # Update the learning rate scheduler\n",
        "        scheduler.step()\n",
        "\n",
        "    last_model_path = os.path.join(model_save_path, \"last\")\n",
        "    if not os.path.exists(last_model_path):\n",
        "        os.makedirs(last_model_path)\n",
        "    model_to_save = model.module if hasattr(model, 'module') else model\n",
        "    model_to_save.save_pretrained(last_model_path)\n",
        "    tokenizer.save_pretrained(last_model_path)\n",
        "            \n",
        "mlflow.end_run()"
      ]
    },
    {
      "cell_type": "code",
      "execution_count": 45,
      "metadata": {},
      "outputs": [
        {
          "name": "stdout",
          "output_type": "stream",
          "text": [
            "Started evaluation on test set\n",
            "Average test loss: 0.6796265244483948\n",
            "test Accuracy: 0.8\n",
            "test Precision: 0.75\n",
            "test Recall: 0.75\n",
            "test F1 Score: 0.75\n",
            "test MCC: 0.5833333333333334\n",
            "[[0.83333333 0.16666667]\n",
            " [0.25       0.75      ]]\n",
            "Finished evaluation on test set\n"
          ]
        }
      ],
      "source": [
        "# Choose the best or the last model for evaluation\n",
        "if os.path.exists(os.path.join(model_save_path, \"best\")) and os.path.isdir(os.path.join(model_save_path, \"best\")):\n",
        "    model_path_for_evaluation = best_model_path\n",
        "    print(\"Evaluation with the best saved model\")\n",
        "else:\n",
        "    model_path_for_evaluation = last_model_path\n",
        "    print(\"Evaluation with the last saved model\")\n",
        "\n",
        "# Download the saved model\n",
        "if model_name == \"roberta-base\":\n",
        "    tokenizer = AutoTokenizer.from_pretrained(model_path_for_evaluation)\n",
        "    model = AutoModelForSequenceClassification.from_pretrained(model_path_for_evaluation)\n",
        "else:\n",
        "    tokenizer = BertTokenizer.from_pretrained(model_path_for_evaluation)\n",
        "    model = BertForSequenceClassification.from_pretrained(model_path_for_evaluation)\n",
        "\n",
        "\n",
        "with mlflow.start_run(run_id=run_id):\n",
        "    # # Evaluate on the test set\n",
        "    print(f'Started evaluation on test set')\n",
        "    model.eval()\n",
        "    test_loss = 0.0\n",
        "    test_predictions, test_true_labels = [], []\n",
        "    for batch in test_dataloader:\n",
        "        b_input_ids, b_attention_mask, b_labels = batch\n",
        "\n",
        "        # Move the batch to the proper device\n",
        "        b_input_ids = b_input_ids.to(device)\n",
        "        b_attention_mask = b_attention_mask.to(device)\n",
        "        b_labels = b_labels.to(device)\n",
        "\n",
        "        with torch.no_grad():\n",
        "            outputs = model(b_input_ids, attention_mask=b_attention_mask, labels=b_labels)\n",
        "\n",
        "        logits = outputs.logits\n",
        "        loss = outputs.loss\n",
        "        test_loss += loss.item()\n",
        "\n",
        "        test_predictions.extend(torch.argmax(logits, dim=1).cpu().tolist())\n",
        "        test_true_labels.extend(b_labels.cpu().tolist())\n",
        "\n",
        "    # Log the average test loss\n",
        "    avg_test_loss = test_loss / len(test_dataloader)\n",
        "    mlflow.log_metric(\"test_loss\", avg_test_loss, config['num_epochs'])\n",
        "    print(f\"Average test loss: {avg_test_loss}\")\n",
        "\n",
        "    calculate_and_log_metrics(test_true_labels, test_predictions, config['num_epochs'], test=True)\n",
        "    calculate_and_log_cm(test_true_labels, test_predictions, config['num_epochs'], test=True)\n",
        "\n",
        "    print(f'Finished evaluation on test set')\n",
        "    \n",
        "mlflow.end_run()"
      ]
    }
  ],
  "metadata": {
    "accelerator": "GPU",
    "colab": {
      "gpuType": "T4",
      "provenance": []
    },
    "kernelspec": {
      "display_name": "Python 3",
      "name": "python3"
    },
    "language_info": {
      "codemirror_mode": {
        "name": "ipython",
        "version": 3
      },
      "file_extension": ".py",
      "mimetype": "text/x-python",
      "name": "python",
      "nbconvert_exporter": "python",
      "pygments_lexer": "ipython3",
      "version": "3.11.7"
    }
  },
  "nbformat": 4,
  "nbformat_minor": 0
}
