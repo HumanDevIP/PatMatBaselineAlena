{
 "cells": [
  {
   "cell_type": "code",
   "execution_count": 2,
   "metadata": {},
   "outputs": [],
   "source": [
    "import os\n",
    "import sys"
   ]
  },
  {
   "cell_type": "code",
   "execution_count": 3,
   "metadata": {},
   "outputs": [],
   "source": [
    "def is_colab():\n",
    "    try:\n",
    "        import google.colab\n",
    "        return True\n",
    "    except ImportError:\n",
    "        return False"
   ]
  },
  {
   "cell_type": "code",
   "execution_count": 4,
   "metadata": {},
   "outputs": [
    {
     "name": "stdout",
     "output_type": "stream",
     "text": [
      "c:\\Users\\alena\\MyFolder\\DIL\\PatMatBaselineAlena\n"
     ]
    },
    {
     "name": "stderr",
     "output_type": "stream",
     "text": [
      "c:\\Users\\alena\\MyFolder\\DIL\\PatMatBaselineAlena\\venv\\Lib\\site-packages\\IPython\\core\\magics\\osm.py:417: UserWarning: This is now an optional IPython functionality, setting dhist requires you to install the `pickleshare` library.\n",
      "  self.shell.db['dhist'] = compress_dhist(dhist)[-100:]\n"
     ]
    }
   ],
   "source": [
    "if is_colab():\n",
    "    from google.colab import drive\n",
    "    drive.mount('/content/drive')\n",
    "\n",
    "    # code required by Colab\n",
    "    %cd /content/drive/MyDrive/PatMatBaselineAlena\n",
    "\n",
    "    root_dir = '/content/drive/MyDrive/PatMatBaselineAlena'\n",
    "else:\n",
    "    current_dir = os.getcwd()\n",
    "    if current_dir.endswith(\"notebooks\"):\n",
    "        root_dir = '..'\n",
    "        %cd ..\n",
    "    else:\n",
    "        root_dir = '.'"
   ]
  },
  {
   "cell_type": "code",
   "execution_count": 5,
   "metadata": {},
   "outputs": [
    {
     "name": "stdout",
     "output_type": "stream",
     "text": [
      "c:\\Users\\alena\\MyFolder\\DIL\\PatMatBaselineAlena\n"
     ]
    }
   ],
   "source": [
    "current_dir = os.getcwd()\n",
    "print(current_dir)"
   ]
  },
  {
   "cell_type": "code",
   "execution_count": 6,
   "metadata": {},
   "outputs": [],
   "source": [
    "# parent_dir = os.path.abspath(os.path.join(os.getcwd(), root_dir))\n",
    "sys.path.append(current_dir)"
   ]
  },
  {
   "cell_type": "code",
   "execution_count": 7,
   "metadata": {},
   "outputs": [
    {
     "name": "stdout",
     "output_type": "stream",
     "text": [
      "Looking in indexes: https://pypi.org/simple, https://download.pytorch.org/whl/cu121\n",
      "Requirement already satisfied: torch==2.3.0+cu121 in c:\\users\\alena\\myfolder\\dil\\patmatbaselinealena\\venv\\lib\\site-packages (from -r requirements.txt (line 2)) (2.3.0+cu121)\n",
      "Requirement already satisfied: torchvision in c:\\users\\alena\\myfolder\\dil\\patmatbaselinealena\\venv\\lib\\site-packages (from -r requirements.txt (line 3)) (0.18.0+cu121)\n",
      "Requirement already satisfied: torchaudio in c:\\users\\alena\\myfolder\\dil\\patmatbaselinealena\\venv\\lib\\site-packages (from -r requirements.txt (line 4)) (2.3.0+cu121)\n",
      "Requirement already satisfied: transformers==4.41.0 in c:\\users\\alena\\myfolder\\dil\\patmatbaselinealena\\venv\\lib\\site-packages (from -r requirements.txt (line 5)) (4.41.0)\n",
      "Requirement already satisfied: scikit-learn==1.2.2 in c:\\users\\alena\\myfolder\\dil\\patmatbaselinealena\\venv\\lib\\site-packages (from -r requirements.txt (line 6)) (1.2.2)\n",
      "Requirement already satisfied: numpy in c:\\users\\alena\\myfolder\\dil\\patmatbaselinealena\\venv\\lib\\site-packages (from -r requirements.txt (line 7)) (1.26.4)\n",
      "Requirement already satisfied: mlflow==2.13.0 in c:\\users\\alena\\myfolder\\dil\\patmatbaselinealena\\venv\\lib\\site-packages (from -r requirements.txt (line 8)) (2.13.0)\n",
      "Requirement already satisfied: python-dotenv in c:\\users\\alena\\myfolder\\dil\\patmatbaselinealena\\venv\\lib\\site-packages (from -r requirements.txt (line 9)) (1.0.1)\n",
      "Requirement already satisfied: datasets==2.19.1 in c:\\users\\alena\\myfolder\\dil\\patmatbaselinealena\\venv\\lib\\site-packages (from -r requirements.txt (line 10)) (2.19.1)\n",
      "Requirement already satisfied: accelerate==0.30.1 in c:\\users\\alena\\myfolder\\dil\\patmatbaselinealena\\venv\\lib\\site-packages (from -r requirements.txt (line 11)) (0.30.1)\n",
      "Requirement already satisfied: filelock in c:\\users\\alena\\myfolder\\dil\\patmatbaselinealena\\venv\\lib\\site-packages (from torch==2.3.0+cu121->-r requirements.txt (line 2)) (3.14.0)\n",
      "Requirement already satisfied: typing-extensions>=4.8.0 in c:\\users\\alena\\myfolder\\dil\\patmatbaselinealena\\venv\\lib\\site-packages (from torch==2.3.0+cu121->-r requirements.txt (line 2)) (4.12.0)\n",
      "Requirement already satisfied: sympy in c:\\users\\alena\\myfolder\\dil\\patmatbaselinealena\\venv\\lib\\site-packages (from torch==2.3.0+cu121->-r requirements.txt (line 2)) (1.12)\n",
      "Requirement already satisfied: networkx in c:\\users\\alena\\myfolder\\dil\\patmatbaselinealena\\venv\\lib\\site-packages (from torch==2.3.0+cu121->-r requirements.txt (line 2)) (3.3)\n",
      "Requirement already satisfied: jinja2 in c:\\users\\alena\\myfolder\\dil\\patmatbaselinealena\\venv\\lib\\site-packages (from torch==2.3.0+cu121->-r requirements.txt (line 2)) (3.1.4)\n",
      "Requirement already satisfied: fsspec in c:\\users\\alena\\myfolder\\dil\\patmatbaselinealena\\venv\\lib\\site-packages (from torch==2.3.0+cu121->-r requirements.txt (line 2)) (2024.3.1)\n",
      "Requirement already satisfied: mkl<=2021.4.0,>=2021.1.1 in c:\\users\\alena\\myfolder\\dil\\patmatbaselinealena\\venv\\lib\\site-packages (from torch==2.3.0+cu121->-r requirements.txt (line 2)) (2021.4.0)\n",
      "Requirement already satisfied: huggingface-hub<1.0,>=0.23.0 in c:\\users\\alena\\myfolder\\dil\\patmatbaselinealena\\venv\\lib\\site-packages (from transformers==4.41.0->-r requirements.txt (line 5)) (0.23.2)\n",
      "Requirement already satisfied: packaging>=20.0 in c:\\users\\alena\\myfolder\\dil\\patmatbaselinealena\\venv\\lib\\site-packages (from transformers==4.41.0->-r requirements.txt (line 5)) (24.0)\n",
      "Requirement already satisfied: pyyaml>=5.1 in c:\\users\\alena\\myfolder\\dil\\patmatbaselinealena\\venv\\lib\\site-packages (from transformers==4.41.0->-r requirements.txt (line 5)) (6.0.1)\n",
      "Requirement already satisfied: regex!=2019.12.17 in c:\\users\\alena\\myfolder\\dil\\patmatbaselinealena\\venv\\lib\\site-packages (from transformers==4.41.0->-r requirements.txt (line 5)) (2024.5.15)\n",
      "Requirement already satisfied: requests in c:\\users\\alena\\myfolder\\dil\\patmatbaselinealena\\venv\\lib\\site-packages (from transformers==4.41.0->-r requirements.txt (line 5)) (2.32.2)\n",
      "Requirement already satisfied: tokenizers<0.20,>=0.19 in c:\\users\\alena\\myfolder\\dil\\patmatbaselinealena\\venv\\lib\\site-packages (from transformers==4.41.0->-r requirements.txt (line 5)) (0.19.1)\n",
      "Requirement already satisfied: safetensors>=0.4.1 in c:\\users\\alena\\myfolder\\dil\\patmatbaselinealena\\venv\\lib\\site-packages (from transformers==4.41.0->-r requirements.txt (line 5)) (0.4.3)\n",
      "Requirement already satisfied: tqdm>=4.27 in c:\\users\\alena\\myfolder\\dil\\patmatbaselinealena\\venv\\lib\\site-packages (from transformers==4.41.0->-r requirements.txt (line 5)) (4.66.4)\n",
      "Requirement already satisfied: scipy>=1.3.2 in c:\\users\\alena\\myfolder\\dil\\patmatbaselinealena\\venv\\lib\\site-packages (from scikit-learn==1.2.2->-r requirements.txt (line 6)) (1.13.1)\n",
      "Requirement already satisfied: joblib>=1.1.1 in c:\\users\\alena\\myfolder\\dil\\patmatbaselinealena\\venv\\lib\\site-packages (from scikit-learn==1.2.2->-r requirements.txt (line 6)) (1.4.2)\n",
      "Requirement already satisfied: threadpoolctl>=2.0.0 in c:\\users\\alena\\myfolder\\dil\\patmatbaselinealena\\venv\\lib\\site-packages (from scikit-learn==1.2.2->-r requirements.txt (line 6)) (3.5.0)\n",
      "Requirement already satisfied: Flask<4 in c:\\users\\alena\\myfolder\\dil\\patmatbaselinealena\\venv\\lib\\site-packages (from mlflow==2.13.0->-r requirements.txt (line 8)) (3.0.3)\n",
      "Requirement already satisfied: alembic!=1.10.0,<2 in c:\\users\\alena\\myfolder\\dil\\patmatbaselinealena\\venv\\lib\\site-packages (from mlflow==2.13.0->-r requirements.txt (line 8)) (1.13.1)\n",
      "Requirement already satisfied: cachetools<6,>=5.0.0 in c:\\users\\alena\\myfolder\\dil\\patmatbaselinealena\\venv\\lib\\site-packages (from mlflow==2.13.0->-r requirements.txt (line 8)) (5.3.3)\n",
      "Requirement already satisfied: click<9,>=7.0 in c:\\users\\alena\\myfolder\\dil\\patmatbaselinealena\\venv\\lib\\site-packages (from mlflow==2.13.0->-r requirements.txt (line 8)) (8.1.7)\n",
      "Requirement already satisfied: cloudpickle<4 in c:\\users\\alena\\myfolder\\dil\\patmatbaselinealena\\venv\\lib\\site-packages (from mlflow==2.13.0->-r requirements.txt (line 8)) (3.0.0)\n",
      "Requirement already satisfied: docker<8,>=4.0.0 in c:\\users\\alena\\myfolder\\dil\\patmatbaselinealena\\venv\\lib\\site-packages (from mlflow==2.13.0->-r requirements.txt (line 8)) (7.1.0)\n",
      "Requirement already satisfied: entrypoints<1 in c:\\users\\alena\\myfolder\\dil\\patmatbaselinealena\\venv\\lib\\site-packages (from mlflow==2.13.0->-r requirements.txt (line 8)) (0.4)\n",
      "Requirement already satisfied: gitpython<4,>=3.1.9 in c:\\users\\alena\\myfolder\\dil\\patmatbaselinealena\\venv\\lib\\site-packages (from mlflow==2.13.0->-r requirements.txt (line 8)) (3.1.43)\n",
      "Requirement already satisfied: graphene<4 in c:\\users\\alena\\myfolder\\dil\\patmatbaselinealena\\venv\\lib\\site-packages (from mlflow==2.13.0->-r requirements.txt (line 8)) (3.3)\n",
      "Requirement already satisfied: importlib-metadata!=4.7.0,<8,>=3.7.0 in c:\\users\\alena\\myfolder\\dil\\patmatbaselinealena\\venv\\lib\\site-packages (from mlflow==2.13.0->-r requirements.txt (line 8)) (7.0.0)\n",
      "Requirement already satisfied: markdown<4,>=3.3 in c:\\users\\alena\\myfolder\\dil\\patmatbaselinealena\\venv\\lib\\site-packages (from mlflow==2.13.0->-r requirements.txt (line 8)) (3.6)\n",
      "Requirement already satisfied: matplotlib<4 in c:\\users\\alena\\myfolder\\dil\\patmatbaselinealena\\venv\\lib\\site-packages (from mlflow==2.13.0->-r requirements.txt (line 8)) (3.9.0)\n",
      "Requirement already satisfied: opentelemetry-api<3,>=1.0.0 in c:\\users\\alena\\myfolder\\dil\\patmatbaselinealena\\venv\\lib\\site-packages (from mlflow==2.13.0->-r requirements.txt (line 8)) (1.24.0)\n",
      "Requirement already satisfied: opentelemetry-sdk<3,>=1.0.0 in c:\\users\\alena\\myfolder\\dil\\patmatbaselinealena\\venv\\lib\\site-packages (from mlflow==2.13.0->-r requirements.txt (line 8)) (1.24.0)\n",
      "Requirement already satisfied: pandas<3 in c:\\users\\alena\\myfolder\\dil\\patmatbaselinealena\\venv\\lib\\site-packages (from mlflow==2.13.0->-r requirements.txt (line 8)) (2.2.2)\n",
      "Requirement already satisfied: protobuf<5,>=3.12.0 in c:\\users\\alena\\myfolder\\dil\\patmatbaselinealena\\venv\\lib\\site-packages (from mlflow==2.13.0->-r requirements.txt (line 8)) (4.25.3)\n",
      "Requirement already satisfied: pyarrow<16,>=4.0.0 in c:\\users\\alena\\myfolder\\dil\\patmatbaselinealena\\venv\\lib\\site-packages (from mlflow==2.13.0->-r requirements.txt (line 8)) (15.0.2)\n",
      "Requirement already satisfied: pytz<2025 in c:\\users\\alena\\myfolder\\dil\\patmatbaselinealena\\venv\\lib\\site-packages (from mlflow==2.13.0->-r requirements.txt (line 8)) (2024.1)\n",
      "Requirement already satisfied: querystring-parser<2 in c:\\users\\alena\\myfolder\\dil\\patmatbaselinealena\\venv\\lib\\site-packages (from mlflow==2.13.0->-r requirements.txt (line 8)) (1.2.4)\n",
      "Requirement already satisfied: sqlalchemy<3,>=1.4.0 in c:\\users\\alena\\myfolder\\dil\\patmatbaselinealena\\venv\\lib\\site-packages (from mlflow==2.13.0->-r requirements.txt (line 8)) (2.0.30)\n",
      "Requirement already satisfied: sqlparse<1,>=0.4.0 in c:\\users\\alena\\myfolder\\dil\\patmatbaselinealena\\venv\\lib\\site-packages (from mlflow==2.13.0->-r requirements.txt (line 8)) (0.5.0)\n",
      "Requirement already satisfied: waitress<4 in c:\\users\\alena\\myfolder\\dil\\patmatbaselinealena\\venv\\lib\\site-packages (from mlflow==2.13.0->-r requirements.txt (line 8)) (3.0.0)\n",
      "Requirement already satisfied: pyarrow-hotfix in c:\\users\\alena\\myfolder\\dil\\patmatbaselinealena\\venv\\lib\\site-packages (from datasets==2.19.1->-r requirements.txt (line 10)) (0.6)\n",
      "Requirement already satisfied: dill<0.3.9,>=0.3.0 in c:\\users\\alena\\myfolder\\dil\\patmatbaselinealena\\venv\\lib\\site-packages (from datasets==2.19.1->-r requirements.txt (line 10)) (0.3.8)\n",
      "Requirement already satisfied: xxhash in c:\\users\\alena\\myfolder\\dil\\patmatbaselinealena\\venv\\lib\\site-packages (from datasets==2.19.1->-r requirements.txt (line 10)) (3.4.1)\n",
      "Requirement already satisfied: multiprocess in c:\\users\\alena\\myfolder\\dil\\patmatbaselinealena\\venv\\lib\\site-packages (from datasets==2.19.1->-r requirements.txt (line 10)) (0.70.16)\n",
      "Requirement already satisfied: aiohttp in c:\\users\\alena\\myfolder\\dil\\patmatbaselinealena\\venv\\lib\\site-packages (from datasets==2.19.1->-r requirements.txt (line 10)) (3.9.5)\n",
      "Requirement already satisfied: psutil in c:\\users\\alena\\myfolder\\dil\\patmatbaselinealena\\venv\\lib\\site-packages (from accelerate==0.30.1->-r requirements.txt (line 11)) (5.9.8)\n",
      "Requirement already satisfied: pillow!=8.3.*,>=5.3.0 in c:\\users\\alena\\myfolder\\dil\\patmatbaselinealena\\venv\\lib\\site-packages (from torchvision->-r requirements.txt (line 3)) (10.3.0)\n",
      "Requirement already satisfied: Mako in c:\\users\\alena\\myfolder\\dil\\patmatbaselinealena\\venv\\lib\\site-packages (from alembic!=1.10.0,<2->mlflow==2.13.0->-r requirements.txt (line 8)) (1.3.5)\n",
      "Requirement already satisfied: colorama in c:\\users\\alena\\myfolder\\dil\\patmatbaselinealena\\venv\\lib\\site-packages (from click<9,>=7.0->mlflow==2.13.0->-r requirements.txt (line 8)) (0.4.6)\n",
      "Requirement already satisfied: pywin32>=304 in c:\\users\\alena\\myfolder\\dil\\patmatbaselinealena\\venv\\lib\\site-packages (from docker<8,>=4.0.0->mlflow==2.13.0->-r requirements.txt (line 8)) (306)\n",
      "Requirement already satisfied: urllib3>=1.26.0 in c:\\users\\alena\\myfolder\\dil\\patmatbaselinealena\\venv\\lib\\site-packages (from docker<8,>=4.0.0->mlflow==2.13.0->-r requirements.txt (line 8)) (2.2.1)\n",
      "Requirement already satisfied: Werkzeug>=3.0.0 in c:\\users\\alena\\myfolder\\dil\\patmatbaselinealena\\venv\\lib\\site-packages (from Flask<4->mlflow==2.13.0->-r requirements.txt (line 8)) (3.0.3)\n",
      "Requirement already satisfied: itsdangerous>=2.1.2 in c:\\users\\alena\\myfolder\\dil\\patmatbaselinealena\\venv\\lib\\site-packages (from Flask<4->mlflow==2.13.0->-r requirements.txt (line 8)) (2.2.0)\n",
      "Requirement already satisfied: blinker>=1.6.2 in c:\\users\\alena\\myfolder\\dil\\patmatbaselinealena\\venv\\lib\\site-packages (from Flask<4->mlflow==2.13.0->-r requirements.txt (line 8)) (1.8.2)\n",
      "Requirement already satisfied: aiosignal>=1.1.2 in c:\\users\\alena\\myfolder\\dil\\patmatbaselinealena\\venv\\lib\\site-packages (from aiohttp->datasets==2.19.1->-r requirements.txt (line 10)) (1.3.1)\n",
      "Requirement already satisfied: attrs>=17.3.0 in c:\\users\\alena\\myfolder\\dil\\patmatbaselinealena\\venv\\lib\\site-packages (from aiohttp->datasets==2.19.1->-r requirements.txt (line 10)) (23.2.0)\n",
      "Requirement already satisfied: frozenlist>=1.1.1 in c:\\users\\alena\\myfolder\\dil\\patmatbaselinealena\\venv\\lib\\site-packages (from aiohttp->datasets==2.19.1->-r requirements.txt (line 10)) (1.4.1)\n",
      "Requirement already satisfied: multidict<7.0,>=4.5 in c:\\users\\alena\\myfolder\\dil\\patmatbaselinealena\\venv\\lib\\site-packages (from aiohttp->datasets==2.19.1->-r requirements.txt (line 10)) (6.0.5)\n",
      "Requirement already satisfied: yarl<2.0,>=1.0 in c:\\users\\alena\\myfolder\\dil\\patmatbaselinealena\\venv\\lib\\site-packages (from aiohttp->datasets==2.19.1->-r requirements.txt (line 10)) (1.9.4)\n",
      "Requirement already satisfied: gitdb<5,>=4.0.1 in c:\\users\\alena\\myfolder\\dil\\patmatbaselinealena\\venv\\lib\\site-packages (from gitpython<4,>=3.1.9->mlflow==2.13.0->-r requirements.txt (line 8)) (4.0.11)\n",
      "Requirement already satisfied: graphql-core<3.3,>=3.1 in c:\\users\\alena\\myfolder\\dil\\patmatbaselinealena\\venv\\lib\\site-packages (from graphene<4->mlflow==2.13.0->-r requirements.txt (line 8)) (3.2.3)\n",
      "Requirement already satisfied: graphql-relay<3.3,>=3.1 in c:\\users\\alena\\myfolder\\dil\\patmatbaselinealena\\venv\\lib\\site-packages (from graphene<4->mlflow==2.13.0->-r requirements.txt (line 8)) (3.2.0)\n",
      "Requirement already satisfied: aniso8601<10,>=8 in c:\\users\\alena\\myfolder\\dil\\patmatbaselinealena\\venv\\lib\\site-packages (from graphene<4->mlflow==2.13.0->-r requirements.txt (line 8)) (9.0.1)\n",
      "Requirement already satisfied: zipp>=0.5 in c:\\users\\alena\\myfolder\\dil\\patmatbaselinealena\\venv\\lib\\site-packages (from importlib-metadata!=4.7.0,<8,>=3.7.0->mlflow==2.13.0->-r requirements.txt (line 8)) (3.19.0)\n",
      "Requirement already satisfied: MarkupSafe>=2.0 in c:\\users\\alena\\myfolder\\dil\\patmatbaselinealena\\venv\\lib\\site-packages (from jinja2->torch==2.3.0+cu121->-r requirements.txt (line 2)) (2.1.5)\n",
      "Requirement already satisfied: contourpy>=1.0.1 in c:\\users\\alena\\myfolder\\dil\\patmatbaselinealena\\venv\\lib\\site-packages (from matplotlib<4->mlflow==2.13.0->-r requirements.txt (line 8)) (1.2.1)\n",
      "Requirement already satisfied: cycler>=0.10 in c:\\users\\alena\\myfolder\\dil\\patmatbaselinealena\\venv\\lib\\site-packages (from matplotlib<4->mlflow==2.13.0->-r requirements.txt (line 8)) (0.12.1)\n",
      "Requirement already satisfied: fonttools>=4.22.0 in c:\\users\\alena\\myfolder\\dil\\patmatbaselinealena\\venv\\lib\\site-packages (from matplotlib<4->mlflow==2.13.0->-r requirements.txt (line 8)) (4.52.4)\n",
      "Requirement already satisfied: kiwisolver>=1.3.1 in c:\\users\\alena\\myfolder\\dil\\patmatbaselinealena\\venv\\lib\\site-packages (from matplotlib<4->mlflow==2.13.0->-r requirements.txt (line 8)) (1.4.5)\n",
      "Requirement already satisfied: pyparsing>=2.3.1 in c:\\users\\alena\\myfolder\\dil\\patmatbaselinealena\\venv\\lib\\site-packages (from matplotlib<4->mlflow==2.13.0->-r requirements.txt (line 8)) (3.1.2)\n",
      "Requirement already satisfied: python-dateutil>=2.7 in c:\\users\\alena\\myfolder\\dil\\patmatbaselinealena\\venv\\lib\\site-packages (from matplotlib<4->mlflow==2.13.0->-r requirements.txt (line 8)) (2.9.0.post0)\n",
      "Requirement already satisfied: intel-openmp==2021.* in c:\\users\\alena\\myfolder\\dil\\patmatbaselinealena\\venv\\lib\\site-packages (from mkl<=2021.4.0,>=2021.1.1->torch==2.3.0+cu121->-r requirements.txt (line 2)) (2021.4.0)\n",
      "Requirement already satisfied: tbb==2021.* in c:\\users\\alena\\myfolder\\dil\\patmatbaselinealena\\venv\\lib\\site-packages (from mkl<=2021.4.0,>=2021.1.1->torch==2.3.0+cu121->-r requirements.txt (line 2)) (2021.12.0)\n",
      "Requirement already satisfied: deprecated>=1.2.6 in c:\\users\\alena\\myfolder\\dil\\patmatbaselinealena\\venv\\lib\\site-packages (from opentelemetry-api<3,>=1.0.0->mlflow==2.13.0->-r requirements.txt (line 8)) (1.2.14)\n",
      "Requirement already satisfied: opentelemetry-semantic-conventions==0.45b0 in c:\\users\\alena\\myfolder\\dil\\patmatbaselinealena\\venv\\lib\\site-packages (from opentelemetry-sdk<3,>=1.0.0->mlflow==2.13.0->-r requirements.txt (line 8)) (0.45b0)\n",
      "Requirement already satisfied: tzdata>=2022.7 in c:\\users\\alena\\myfolder\\dil\\patmatbaselinealena\\venv\\lib\\site-packages (from pandas<3->mlflow==2.13.0->-r requirements.txt (line 8)) (2024.1)\n",
      "Requirement already satisfied: six in c:\\users\\alena\\myfolder\\dil\\patmatbaselinealena\\venv\\lib\\site-packages (from querystring-parser<2->mlflow==2.13.0->-r requirements.txt (line 8)) (1.16.0)\n",
      "Requirement already satisfied: charset-normalizer<4,>=2 in c:\\users\\alena\\myfolder\\dil\\patmatbaselinealena\\venv\\lib\\site-packages (from requests->transformers==4.41.0->-r requirements.txt (line 5)) (3.3.2)\n",
      "Requirement already satisfied: idna<4,>=2.5 in c:\\users\\alena\\myfolder\\dil\\patmatbaselinealena\\venv\\lib\\site-packages (from requests->transformers==4.41.0->-r requirements.txt (line 5)) (3.7)\n",
      "Requirement already satisfied: certifi>=2017.4.17 in c:\\users\\alena\\myfolder\\dil\\patmatbaselinealena\\venv\\lib\\site-packages (from requests->transformers==4.41.0->-r requirements.txt (line 5)) (2024.2.2)\n",
      "Requirement already satisfied: greenlet!=0.4.17 in c:\\users\\alena\\myfolder\\dil\\patmatbaselinealena\\venv\\lib\\site-packages (from sqlalchemy<3,>=1.4.0->mlflow==2.13.0->-r requirements.txt (line 8)) (3.0.3)\n",
      "Requirement already satisfied: mpmath>=0.19 in c:\\users\\alena\\myfolder\\dil\\patmatbaselinealena\\venv\\lib\\site-packages (from sympy->torch==2.3.0+cu121->-r requirements.txt (line 2)) (1.3.0)\n",
      "Requirement already satisfied: wrapt<2,>=1.10 in c:\\users\\alena\\myfolder\\dil\\patmatbaselinealena\\venv\\lib\\site-packages (from deprecated>=1.2.6->opentelemetry-api<3,>=1.0.0->mlflow==2.13.0->-r requirements.txt (line 8)) (1.16.0)\n",
      "Requirement already satisfied: smmap<6,>=3.0.1 in c:\\users\\alena\\myfolder\\dil\\patmatbaselinealena\\venv\\lib\\site-packages (from gitdb<5,>=4.0.1->gitpython<4,>=3.1.9->mlflow==2.13.0->-r requirements.txt (line 8)) (5.0.1)\n",
      "Note: you may need to restart the kernel to use updated packages.\n"
     ]
    },
    {
     "name": "stderr",
     "output_type": "stream",
     "text": [
      "\n",
      "[notice] A new release of pip is available: 23.2.1 -> 24.0\n",
      "[notice] To update, run: python.exe -m pip install --upgrade pip\n"
     ]
    }
   ],
   "source": [
    "# install requirements\n",
    "%pip install -r requirements.txt"
   ]
  },
  {
   "cell_type": "code",
   "execution_count": 8,
   "metadata": {},
   "outputs": [],
   "source": [
    "import pandas as pd"
   ]
  },
  {
   "cell_type": "code",
   "execution_count": 9,
   "metadata": {},
   "outputs": [],
   "source": [
    "train_file_path = 'data/train.parquet'\n",
    "test_file_path = 'data/test.parquet'"
   ]
  },
  {
   "cell_type": "code",
   "execution_count": 10,
   "metadata": {},
   "outputs": [],
   "source": [
    "df_train = pd.read_parquet(train_file_path)\n",
    "df_test = pd.read_parquet(test_file_path)"
   ]
  },
  {
   "cell_type": "code",
   "execution_count": 11,
   "metadata": {},
   "outputs": [
    {
     "data": {
      "text/plain": [
       "(808, 3030)"
      ]
     },
     "execution_count": 11,
     "metadata": {},
     "output_type": "execute_result"
    }
   ],
   "source": [
    "len(df_test), len(df_train)"
   ]
  },
  {
   "cell_type": "code",
   "execution_count": 12,
   "metadata": {},
   "outputs": [
    {
     "data": {
      "text/plain": [
       "0.21052631578947367"
      ]
     },
     "execution_count": 12,
     "metadata": {},
     "output_type": "execute_result"
    }
   ],
   "source": [
    "len(df_test) / (len(df_test) + len(df_train))"
   ]
  },
  {
   "cell_type": "code",
   "execution_count": 13,
   "metadata": {},
   "outputs": [
    {
     "name": "stdout",
     "output_type": "stream",
     "text": [
      "280 0.0924092409240924\n"
     ]
    }
   ],
   "source": [
    "rows_with_nulls_train = df_train[df_train.isna().any(axis=1)]\n",
    "print(len(rows_with_nulls_train), len(rows_with_nulls_train)/len(df_train))"
   ]
  },
  {
   "cell_type": "code",
   "execution_count": 14,
   "metadata": {},
   "outputs": [
    {
     "name": "stdout",
     "output_type": "stream",
     "text": [
      "74 0.09158415841584158\n"
     ]
    }
   ],
   "source": [
    "rows_with_nulls_test = df_test[df_test.isna().any(axis=1)]\n",
    "print(len(rows_with_nulls_test), len(rows_with_nulls_test)/len(df_test))"
   ]
  },
  {
   "cell_type": "code",
   "execution_count": 15,
   "metadata": {},
   "outputs": [
    {
     "name": "stdout",
     "output_type": "stream",
     "text": [
      "91 0.030033003300330034\n"
     ]
    }
   ],
   "source": [
    "rows_with_nulls_train_columns_needed = df_train[df_train[['text', 'text_b', 'label']].isna().any(axis=1)]\n",
    "print(len(rows_with_nulls_train_columns_needed), len(rows_with_nulls_train_columns_needed)/len(df_train))"
   ]
  },
  {
   "cell_type": "code",
   "execution_count": 16,
   "metadata": {},
   "outputs": [
    {
     "name": "stdout",
     "output_type": "stream",
     "text": [
      "25 0.03094059405940594\n"
     ]
    }
   ],
   "source": [
    "rows_with_nulls_test_columns_needed = df_test[df_test[['text', 'text_b', 'label']].isna().any(axis=1)]\n",
    "print(len(rows_with_nulls_test_columns_needed), len(rows_with_nulls_test_columns_needed)/len(df_test))"
   ]
  },
  {
   "cell_type": "markdown",
   "metadata": {},
   "source": [
    "Cleaning and filtering of train dataset"
   ]
  },
  {
   "cell_type": "code",
   "execution_count": 17,
   "metadata": {},
   "outputs": [
    {
     "data": {
      "text/plain": [
       "2939"
      ]
     },
     "execution_count": 17,
     "metadata": {},
     "output_type": "execute_result"
    }
   ],
   "source": [
    "df_train_filtered = df_train[df_train[['text', 'text_b', 'label']].notna().all(axis=1)]\n",
    "\n",
    "len(df_train_filtered)"
   ]
  },
  {
   "cell_type": "code",
   "execution_count": 18,
   "metadata": {},
   "outputs": [
    {
     "data": {
      "text/plain": [
       "(2881, 2939, 58)"
      ]
     },
     "execution_count": 18,
     "metadata": {},
     "output_type": "execute_result"
    }
   ],
   "source": [
    "duplicates_train = df_train_filtered.duplicated(subset=[\"text\", \"text_b\"], keep=False)\n",
    "num_duplicates_train = duplicates_train.sum()\n",
    "cleaned_df_train = df_train_filtered[~duplicates_train]\n",
    "len(cleaned_df_train), len(duplicates_train), num_duplicates_train"
   ]
  },
  {
   "cell_type": "code",
   "execution_count": 19,
   "metadata": {},
   "outputs": [
    {
     "data": {
      "text/plain": [
       "label\n",
       "1.0    1683\n",
       "0.0    1198\n",
       "Name: count, dtype: int64"
      ]
     },
     "execution_count": 19,
     "metadata": {},
     "output_type": "execute_result"
    }
   ],
   "source": [
    "value_counts = cleaned_df_train['label'].value_counts()\n",
    "value_counts"
   ]
  },
  {
   "cell_type": "code",
   "execution_count": 20,
   "metadata": {},
   "outputs": [
    {
     "data": {
      "text/plain": [
       "0.5841721624435959"
      ]
     },
     "execution_count": 20,
     "metadata": {},
     "output_type": "execute_result"
    }
   ],
   "source": [
    "1683/(1683+1198)"
   ]
  },
  {
   "cell_type": "markdown",
   "metadata": {},
   "source": [
    "Cleaning and filtering of test dataset"
   ]
  },
  {
   "cell_type": "code",
   "execution_count": 21,
   "metadata": {},
   "outputs": [
    {
     "data": {
      "text/plain": [
       "783"
      ]
     },
     "execution_count": 21,
     "metadata": {},
     "output_type": "execute_result"
    }
   ],
   "source": [
    "df_test_filtered = df_test[df_test[['text', 'text_b', 'label']].notna().all(axis=1)]\n",
    "\n",
    "len(df_test_filtered)"
   ]
  },
  {
   "cell_type": "code",
   "execution_count": 22,
   "metadata": {},
   "outputs": [
    {
     "data": {
      "text/plain": [
       "(769, 783, 14)"
      ]
     },
     "execution_count": 22,
     "metadata": {},
     "output_type": "execute_result"
    }
   ],
   "source": [
    "duplicates_test = df_test_filtered.duplicated(subset=[\"text\", \"text_b\"], keep=False)\n",
    "num_duplicates_test = duplicates_test.sum()\n",
    "cleaned_df_test = df_test_filtered[~duplicates_test]\n",
    "len(cleaned_df_test), len(duplicates_test), num_duplicates_test"
   ]
  },
  {
   "cell_type": "code",
   "execution_count": 23,
   "metadata": {},
   "outputs": [
    {
     "data": {
      "text/plain": [
       "label\n",
       "0.0    394\n",
       "1.0    375\n",
       "Name: count, dtype: int64"
      ]
     },
     "execution_count": 23,
     "metadata": {},
     "output_type": "execute_result"
    }
   ],
   "source": [
    "value_counts = cleaned_df_test['label'].value_counts()\n",
    "value_counts"
   ]
  },
  {
   "cell_type": "code",
   "execution_count": 24,
   "metadata": {},
   "outputs": [
    {
     "data": {
      "text/plain": [
       "0.5123537061118335"
      ]
     },
     "execution_count": 24,
     "metadata": {},
     "output_type": "execute_result"
    }
   ],
   "source": [
    "394/(375+394)"
   ]
  },
  {
   "cell_type": "code",
   "execution_count": 25,
   "metadata": {},
   "outputs": [
    {
     "data": {
      "text/plain": [
       "0"
      ]
     },
     "execution_count": 25,
     "metadata": {},
     "output_type": "execute_result"
    }
   ],
   "source": [
    "# Check for duplicates in the test set that are present in the training set\n",
    "duplicates_test = cleaned_df_test.merge(cleaned_df_train, on=[\"text\", \"text_b\"], how=\"inner\")\n",
    "len(duplicates_test)"
   ]
  },
  {
   "cell_type": "code",
   "execution_count": 92,
   "metadata": {},
   "outputs": [],
   "source": [
    "from sklearn.model_selection import train_test_split"
   ]
  },
  {
   "cell_type": "code",
   "execution_count": 93,
   "metadata": {},
   "outputs": [],
   "source": [
    "df_train_for_split = cleaned_df_train.sample(frac=1, random_state=42).reset_index(drop=True)\n",
    "train_df, validation_df = train_test_split(df_train_for_split, test_size=0.2, random_state=42)"
   ]
  },
  {
   "cell_type": "code",
   "execution_count": 94,
   "metadata": {},
   "outputs": [],
   "source": [
    "train_df = train_df[['text', 'text_b', 'label']]\n",
    "validation_df = validation_df[['text', 'text_b', 'label']]\n",
    "test_df = cleaned_df_test[['text', 'text_b', 'label']]"
   ]
  },
  {
   "cell_type": "code",
   "execution_count": 95,
   "metadata": {},
   "outputs": [
    {
     "data": {
      "text/plain": [
       "(2304, 577, 769)"
      ]
     },
     "execution_count": 95,
     "metadata": {},
     "output_type": "execute_result"
    }
   ],
   "source": [
    "len(train_df), len(validation_df), len(test_df)"
   ]
  },
  {
   "cell_type": "code",
   "execution_count": 96,
   "metadata": {},
   "outputs": [
    {
     "data": {
      "text/html": [
       "<div>\n",
       "<style scoped>\n",
       "    .dataframe tbody tr th:only-of-type {\n",
       "        vertical-align: middle;\n",
       "    }\n",
       "\n",
       "    .dataframe tbody tr th {\n",
       "        vertical-align: top;\n",
       "    }\n",
       "\n",
       "    .dataframe thead th {\n",
       "        text-align: right;\n",
       "    }\n",
       "</style>\n",
       "<table border=\"1\" class=\"dataframe\">\n",
       "  <thead>\n",
       "    <tr style=\"text-align: right;\">\n",
       "      <th></th>\n",
       "      <th>text</th>\n",
       "      <th>text_b</th>\n",
       "      <th>label</th>\n",
       "    </tr>\n",
       "  </thead>\n",
       "  <tbody>\n",
       "    <tr>\n",
       "      <th>0</th>\n",
       "      <td>The medical device of claim 1 wherein said hou...</td>\n",
       "      <td>In one embodiment the device also includes at ...</td>\n",
       "      <td>1.0</td>\n",
       "    </tr>\n",
       "    <tr>\n",
       "      <th>1</th>\n",
       "      <td>Process according to any one of the preceding ...</td>\n",
       "      <td>According to another embodiment the white pigm...</td>\n",
       "      <td>0.0</td>\n",
       "    </tr>\n",
       "    <tr>\n",
       "      <th>2</th>\n",
       "      <td>The method of any of claims 11 to 12 further c...</td>\n",
       "      <td>In certain embodiments the method further comp...</td>\n",
       "      <td>0.0</td>\n",
       "    </tr>\n",
       "    <tr>\n",
       "      <th>3</th>\n",
       "      <td>A gas turbine engine 20 comprising an engine s...</td>\n",
       "      <td>Referring now to FIG.6 an axial section view o...</td>\n",
       "      <td>1.0</td>\n",
       "    </tr>\n",
       "    <tr>\n",
       "      <th>4</th>\n",
       "      <td>The system of claim 1 the operations comprisin...</td>\n",
       "      <td>Each of the entry and exit gates 202 204 compr...</td>\n",
       "      <td>0.0</td>\n",
       "    </tr>\n",
       "  </tbody>\n",
       "</table>\n",
       "</div>"
      ],
      "text/plain": [
       "                                                text  \\\n",
       "0  The medical device of claim 1 wherein said hou...   \n",
       "1  Process according to any one of the preceding ...   \n",
       "2  The method of any of claims 11 to 12 further c...   \n",
       "3  A gas turbine engine 20 comprising an engine s...   \n",
       "4  The system of claim 1 the operations comprisin...   \n",
       "\n",
       "                                              text_b  label  \n",
       "0  In one embodiment the device also includes at ...    1.0  \n",
       "1  According to another embodiment the white pigm...    0.0  \n",
       "2  In certain embodiments the method further comp...    0.0  \n",
       "3  Referring now to FIG.6 an axial section view o...    1.0  \n",
       "4  Each of the entry and exit gates 202 204 compr...    0.0  "
      ]
     },
     "execution_count": 96,
     "metadata": {},
     "output_type": "execute_result"
    }
   ],
   "source": [
    "test_df.head()"
   ]
  },
  {
   "cell_type": "code",
   "execution_count": 66,
   "metadata": {},
   "outputs": [],
   "source": [
    "def save_to_jsonl(df, filename):\n",
    "    df.to_json(filename, orient='records', lines=True)\n",
    "\n",
    "save_to_jsonl(train_df, '../data/train.jsonl')\n",
    "save_to_jsonl(validation_df, '../data/validation.jsonl')\n",
    "save_to_jsonl(test_df, '../data/test.jsonl')"
   ]
  }
 ],
 "metadata": {
  "kernelspec": {
   "display_name": "venv",
   "language": "python",
   "name": "python3"
  },
  "language_info": {
   "codemirror_mode": {
    "name": "ipython",
    "version": 3
   },
   "file_extension": ".py",
   "mimetype": "text/x-python",
   "name": "python",
   "nbconvert_exporter": "python",
   "pygments_lexer": "ipython3",
   "version": "3.11.7"
  }
 },
 "nbformat": 4,
 "nbformat_minor": 2
}
